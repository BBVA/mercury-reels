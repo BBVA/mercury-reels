{
  "cells": [
    {
      "cell_type": "markdown",
      "metadata": {
        "id": "view-in-github",
        "colab_type": "text"
      },
      "source": [
        "<a href=\"https://colab.research.google.com/github/BBVA/mercury-reels/blob/master/notebooks/reels_walkthrough_colab.ipynb\" target=\"_parent\"><img src=\"https://colab.research.google.com/assets/colab-badge.svg\" alt=\"Open In Colab\"/></a>"
      ]
    },
    {
      "cell_type": "markdown",
      "id": "2995e072-2d3e-45c3-9183-d5b639051628",
      "metadata": {
        "id": "2995e072-2d3e-45c3-9183-d5b639051628"
      },
      "source": [
        "# Walk through most of mercury-dynamics REELS functionality\n",
        "\n",
        "<img style=\"float: right;\" src=\"https://raw.githubusercontent.com/BBVA/mercury-reels/master/notebooks/images/reels_logo.jpg\">\n",
        "\n",
        "**Reels** is a **mercury** library to analyze sequences of events extracted from transactional data. These events can be automatically discovered or manually defined. Reels identifies events by assigning them **event codes** and creates **clips**, which are sequences of codes and times for each client. Using these clips, a model can be generated to predict the time at which similar events may occur in the future, based on new data.\n",
        "\n",
        "This notebook provides a comprehensive overview of the majority of the functionalities and also provides an explanation of how the prediction process works.\n"
      ]
    },
    {
      "cell_type": "markdown",
      "id": "26a87111-d1fc-4fc2-99e6-68f497c15318",
      "metadata": {
        "id": "26a87111-d1fc-4fc2-99e6-68f497c15318"
      },
      "source": [
        "## Imports\n",
        "\n",
        "We will use some standard packages in this notebook that we include here."
      ]
    },
    {
      "cell_type": "code",
      "execution_count": 1,
      "id": "6a77b67e-f1d6-4979-9f10-b71db402b0dc",
      "metadata": {
        "id": "6a77b67e-f1d6-4979-9f10-b71db402b0dc"
      },
      "outputs": [],
      "source": [
        "import random, time\n",
        "\n",
        "import pandas as pd\n",
        "\n",
        "from sklearn import metrics"
      ]
    },
    {
      "cell_type": "markdown",
      "id": "5b6b0282-59d1-473b-9b11-d26abe8032cf",
      "metadata": {
        "id": "5b6b0282-59d1-473b-9b11-d26abe8032cf"
      },
      "source": [
        "Now, we import reels."
      ]
    },
    {
      "cell_type": "code",
      "execution_count": 2,
      "id": "1e261875-1a83-48e4-b4df-eeaba8d34939",
      "metadata": {
        "id": "1e261875-1a83-48e4-b4df-eeaba8d34939"
      },
      "outputs": [],
      "source": [
        "try:\n",
        "    import reels\n",
        "\n",
        "except ModuleNotFoundError:\n",
        "    !pip install mercury-reels\n",
        "\n",
        "    import reels"
      ]
    },
    {
      "cell_type": "markdown",
      "id": "d27c7b69-8b12-408e-9ce7-7ba4236fb8b7",
      "metadata": {
        "id": "d27c7b69-8b12-408e-9ce7-7ba4236fb8b7"
      },
      "source": [
        "Additionally, we can verify that we are using the right version. (This notebook requires at least a version 1.3.1.)"
      ]
    },
    {
      "cell_type": "code",
      "execution_count": 3,
      "id": "a375a3a1-cb6f-4193-b226-3294c5a821d3",
      "metadata": {
        "colab": {
          "base_uri": "https://localhost:8080/",
          "height": 35
        },
        "id": "a375a3a1-cb6f-4193-b226-3294c5a821d3",
        "outputId": "047243cb-156a-4849-963d-8b20dc2242a5"
      },
      "outputs": [
        {
          "output_type": "execute_result",
          "data": {
            "text/plain": [
              "'1.4.1'"
            ],
            "application/vnd.google.colaboratory.intrinsic+json": {
              "type": "string"
            }
          },
          "metadata": {},
          "execution_count": 3
        }
      ],
      "source": [
        "reels.__version__"
      ]
    },
    {
      "cell_type": "markdown",
      "id": "5239f663-80fd-463f-bd56-178ef39bdb9a",
      "metadata": {
        "id": "5239f663-80fd-463f-bd56-178ef39bdb9a"
      },
      "source": [
        "## The dataset\n",
        "\n",
        "The dataset is a synthetic dataset. The following code generates the dataset for a given number of clients with many configurable parameters.\n",
        "\n",
        "### The simulation\n",
        "\n",
        "The dataset simulates for each client a random number of events. The client either drinks a placebo (which does nothing), a poison or an antidote at random and at random time intervals.\n",
        "If the client has taken the poison a fatal timing count starts. If an event is applied after the fatal time is exceeded, the client dies, generating a target event (the client's death)\n",
        "at a point in time random but longer than a given parameter. If in the time after the poison and before the death he drinks the antidote, the effect of the poison is cancelled and the \n",
        "client survives unless he is poisoned again. If he quits the study poisoned, but before the fatal time expired, we will not observe his death. This is a common situation in survival analysis and is why we treat the data as censored, i.e., not accessible to the observer."
      ]
    },
    {
      "cell_type": "code",
      "execution_count": 4,
      "id": "3baca919-31b5-4c7a-8501-575866410379",
      "metadata": {
        "jupyter": {
          "source_hidden": true
        },
        "tags": [],
        "cellView": "form",
        "id": "3baca919-31b5-4c7a-8501-575866410379"
      },
      "outputs": [],
      "source": [
        "#@title\n",
        "def new_sequence(max_events, time_ori, min_delay, max_delay, dead_in, poison, antidote, n_placebos):\n",
        "    \n",
        "    N = random.randrange(max_events) + 1\n",
        "    \n",
        "    poisoned = False\n",
        "    target   = None\n",
        "    \n",
        "    codes = []\n",
        "    times = []\n",
        "    \n",
        "    ct = time.mktime(time.strptime(time_ori, '%Y-%m-%d %H:%M:%S')) + random.randrange(min_delay, max_delay)\n",
        "    \n",
        "    for i in range(N):\n",
        "        ct = ct + random.randrange(min_delay, max_delay)\n",
        "    \n",
        "        if (poisoned and ct - poison_t > dead_in):\n",
        "            target = time.strftime('%Y-%m-%d %H:%M:%S', time.localtime(ct))\n",
        "            break\n",
        "            \n",
        "        codes.append(random.randrange(n_placebos + 1) + 1)\n",
        "        times.append(time.strftime('%Y-%m-%d %H:%M:%S', time.localtime(ct)))\n",
        "        \n",
        "        if codes[-1] > n_placebos:\n",
        "            if poisoned:\n",
        "                codes[-1] = antidote\n",
        "                poisoned = False\n",
        "            else:\n",
        "                codes[-1] = poison\n",
        "                poisoned = True\n",
        "                poison_t = ct\n",
        "                \n",
        "    return codes, times, target\n",
        "\n",
        "\n",
        "def create_dataframes(num_clients = 1000, max_events = 15, time_ori = '2022-06-01 00:00:01', min_delay = 60, max_delay = 72*3600, dead_in = 96*3600, poison = 200, antidote = 201, n_placebos = 5):\n",
        "    \n",
        "    data    = None\n",
        "    targets = None\n",
        "\n",
        "    for cli in range(1, num_clients + 1):\n",
        "        codes, times, target = new_sequence(max_events, time_ori, min_delay, max_delay, dead_in, poison, antidote, n_placebos)\n",
        "    \n",
        "        emi    = ['click' for _ in range(len(codes))]\n",
        "        weight = [1 for _ in range(len(codes))]\n",
        "        client = [cli for _ in range(len(codes))]\n",
        "    \n",
        "        chunk = pd.DataFrame(list(zip(emi, codes, weight, client, times)), columns = ['emitter', 'description', 'weight', 'client', 'time'])\n",
        "\n",
        "        data = chunk if data is None else pd.concat([data, chunk])\n",
        "    \n",
        "        if target is not None:\n",
        "            chunk   = pd.DataFrame([[cli, target]], columns = ['client', 'time'])\n",
        "            targets = chunk if targets is None else pd.concat([targets, chunk])\n",
        "            \n",
        "    return data, targets"
      ]
    },
    {
      "cell_type": "code",
      "execution_count": 5,
      "id": "ae867b39-5094-4a9b-9f06-61d739aa2835",
      "metadata": {
        "id": "ae867b39-5094-4a9b-9f06-61d739aa2835"
      },
      "outputs": [],
      "source": [
        "data, targs = create_dataframes()"
      ]
    },
    {
      "cell_type": "markdown",
      "id": "fe708919-354f-4122-8e85-eb0d613a1b58",
      "metadata": {
        "id": "fe708919-354f-4122-8e85-eb0d613a1b58"
      },
      "source": [
        "In general, all the reels datasets will have transactional nature. They represent events that happen in time which is explicitly given for each row. We have a client identified by some string that will be necessary to cross it with the targets dataset. And we have an event. An event is defined by the union of `(emitter, description, weight)`. This is handy to represent many situations: E.g., in a navigation dataset, the emitter could be the source webpage, the description the destination webpage. In e-commerce, the emitter could be the seller, the description the product and the numerical value the price to help distinguishing different products. \n",
        "\n",
        "In this case, we only need one to identify what the client drinks by a code that is 1 to 5 (placebo), 200 (poison) or 201 (antidote). The other two fields are not used and contain constant values."
      ]
    },
    {
      "cell_type": "code",
      "execution_count": 6,
      "id": "d55ed3d6-1f96-46cc-ad2f-6a82dcfb19cf",
      "metadata": {
        "colab": {
          "base_uri": "https://localhost:8080/",
          "height": 424
        },
        "id": "d55ed3d6-1f96-46cc-ad2f-6a82dcfb19cf",
        "outputId": "9dbd4af9-4b4c-4e93-8a0a-080b78f5a267"
      },
      "outputs": [
        {
          "output_type": "execute_result",
          "data": {
            "text/plain": [
              "   emitter  description  weight  client                 time\n",
              "0    click            2       1       1  2022-06-03 05:57:22\n",
              "1    click            2       1       1  2022-06-04 12:43:19\n",
              "2    click            3       1       1  2022-06-06 17:57:49\n",
              "3    click            4       1       1  2022-06-08 03:26:43\n",
              "0    click            4       1       2  2022-06-06 01:26:22\n",
              "..     ...          ...     ...     ...                  ...\n",
              "5    click            4       1    1000  2022-06-10 15:16:34\n",
              "6    click            2       1    1000  2022-06-10 19:16:57\n",
              "7    click            2       1    1000  2022-06-11 09:06:40\n",
              "8    click            4       1    1000  2022-06-12 05:34:24\n",
              "9    click            5       1    1000  2022-06-13 20:39:30\n",
              "\n",
              "[5954 rows x 5 columns]"
            ],
            "text/html": [
              "\n",
              "  <div id=\"df-a374cfe6-dff2-494e-90e5-25e789f8d656\">\n",
              "    <div class=\"colab-df-container\">\n",
              "      <div>\n",
              "<style scoped>\n",
              "    .dataframe tbody tr th:only-of-type {\n",
              "        vertical-align: middle;\n",
              "    }\n",
              "\n",
              "    .dataframe tbody tr th {\n",
              "        vertical-align: top;\n",
              "    }\n",
              "\n",
              "    .dataframe thead th {\n",
              "        text-align: right;\n",
              "    }\n",
              "</style>\n",
              "<table border=\"1\" class=\"dataframe\">\n",
              "  <thead>\n",
              "    <tr style=\"text-align: right;\">\n",
              "      <th></th>\n",
              "      <th>emitter</th>\n",
              "      <th>description</th>\n",
              "      <th>weight</th>\n",
              "      <th>client</th>\n",
              "      <th>time</th>\n",
              "    </tr>\n",
              "  </thead>\n",
              "  <tbody>\n",
              "    <tr>\n",
              "      <th>0</th>\n",
              "      <td>click</td>\n",
              "      <td>2</td>\n",
              "      <td>1</td>\n",
              "      <td>1</td>\n",
              "      <td>2022-06-03 05:57:22</td>\n",
              "    </tr>\n",
              "    <tr>\n",
              "      <th>1</th>\n",
              "      <td>click</td>\n",
              "      <td>2</td>\n",
              "      <td>1</td>\n",
              "      <td>1</td>\n",
              "      <td>2022-06-04 12:43:19</td>\n",
              "    </tr>\n",
              "    <tr>\n",
              "      <th>2</th>\n",
              "      <td>click</td>\n",
              "      <td>3</td>\n",
              "      <td>1</td>\n",
              "      <td>1</td>\n",
              "      <td>2022-06-06 17:57:49</td>\n",
              "    </tr>\n",
              "    <tr>\n",
              "      <th>3</th>\n",
              "      <td>click</td>\n",
              "      <td>4</td>\n",
              "      <td>1</td>\n",
              "      <td>1</td>\n",
              "      <td>2022-06-08 03:26:43</td>\n",
              "    </tr>\n",
              "    <tr>\n",
              "      <th>0</th>\n",
              "      <td>click</td>\n",
              "      <td>4</td>\n",
              "      <td>1</td>\n",
              "      <td>2</td>\n",
              "      <td>2022-06-06 01:26:22</td>\n",
              "    </tr>\n",
              "    <tr>\n",
              "      <th>...</th>\n",
              "      <td>...</td>\n",
              "      <td>...</td>\n",
              "      <td>...</td>\n",
              "      <td>...</td>\n",
              "      <td>...</td>\n",
              "    </tr>\n",
              "    <tr>\n",
              "      <th>5</th>\n",
              "      <td>click</td>\n",
              "      <td>4</td>\n",
              "      <td>1</td>\n",
              "      <td>1000</td>\n",
              "      <td>2022-06-10 15:16:34</td>\n",
              "    </tr>\n",
              "    <tr>\n",
              "      <th>6</th>\n",
              "      <td>click</td>\n",
              "      <td>2</td>\n",
              "      <td>1</td>\n",
              "      <td>1000</td>\n",
              "      <td>2022-06-10 19:16:57</td>\n",
              "    </tr>\n",
              "    <tr>\n",
              "      <th>7</th>\n",
              "      <td>click</td>\n",
              "      <td>2</td>\n",
              "      <td>1</td>\n",
              "      <td>1000</td>\n",
              "      <td>2022-06-11 09:06:40</td>\n",
              "    </tr>\n",
              "    <tr>\n",
              "      <th>8</th>\n",
              "      <td>click</td>\n",
              "      <td>4</td>\n",
              "      <td>1</td>\n",
              "      <td>1000</td>\n",
              "      <td>2022-06-12 05:34:24</td>\n",
              "    </tr>\n",
              "    <tr>\n",
              "      <th>9</th>\n",
              "      <td>click</td>\n",
              "      <td>5</td>\n",
              "      <td>1</td>\n",
              "      <td>1000</td>\n",
              "      <td>2022-06-13 20:39:30</td>\n",
              "    </tr>\n",
              "  </tbody>\n",
              "</table>\n",
              "<p>5954 rows × 5 columns</p>\n",
              "</div>\n",
              "      <button class=\"colab-df-convert\" onclick=\"convertToInteractive('df-a374cfe6-dff2-494e-90e5-25e789f8d656')\"\n",
              "              title=\"Convert this dataframe to an interactive table.\"\n",
              "              style=\"display:none;\">\n",
              "        \n",
              "  <svg xmlns=\"http://www.w3.org/2000/svg\" height=\"24px\"viewBox=\"0 0 24 24\"\n",
              "       width=\"24px\">\n",
              "    <path d=\"M0 0h24v24H0V0z\" fill=\"none\"/>\n",
              "    <path d=\"M18.56 5.44l.94 2.06.94-2.06 2.06-.94-2.06-.94-.94-2.06-.94 2.06-2.06.94zm-11 1L8.5 8.5l.94-2.06 2.06-.94-2.06-.94L8.5 2.5l-.94 2.06-2.06.94zm10 10l.94 2.06.94-2.06 2.06-.94-2.06-.94-.94-2.06-.94 2.06-2.06.94z\"/><path d=\"M17.41 7.96l-1.37-1.37c-.4-.4-.92-.59-1.43-.59-.52 0-1.04.2-1.43.59L10.3 9.45l-7.72 7.72c-.78.78-.78 2.05 0 2.83L4 21.41c.39.39.9.59 1.41.59.51 0 1.02-.2 1.41-.59l7.78-7.78 2.81-2.81c.8-.78.8-2.07 0-2.86zM5.41 20L4 18.59l7.72-7.72 1.47 1.35L5.41 20z\"/>\n",
              "  </svg>\n",
              "      </button>\n",
              "      \n",
              "  <style>\n",
              "    .colab-df-container {\n",
              "      display:flex;\n",
              "      flex-wrap:wrap;\n",
              "      gap: 12px;\n",
              "    }\n",
              "\n",
              "    .colab-df-convert {\n",
              "      background-color: #E8F0FE;\n",
              "      border: none;\n",
              "      border-radius: 50%;\n",
              "      cursor: pointer;\n",
              "      display: none;\n",
              "      fill: #1967D2;\n",
              "      height: 32px;\n",
              "      padding: 0 0 0 0;\n",
              "      width: 32px;\n",
              "    }\n",
              "\n",
              "    .colab-df-convert:hover {\n",
              "      background-color: #E2EBFA;\n",
              "      box-shadow: 0px 1px 2px rgba(60, 64, 67, 0.3), 0px 1px 3px 1px rgba(60, 64, 67, 0.15);\n",
              "      fill: #174EA6;\n",
              "    }\n",
              "\n",
              "    [theme=dark] .colab-df-convert {\n",
              "      background-color: #3B4455;\n",
              "      fill: #D2E3FC;\n",
              "    }\n",
              "\n",
              "    [theme=dark] .colab-df-convert:hover {\n",
              "      background-color: #434B5C;\n",
              "      box-shadow: 0px 1px 3px 1px rgba(0, 0, 0, 0.15);\n",
              "      filter: drop-shadow(0px 1px 2px rgba(0, 0, 0, 0.3));\n",
              "      fill: #FFFFFF;\n",
              "    }\n",
              "  </style>\n",
              "\n",
              "      <script>\n",
              "        const buttonEl =\n",
              "          document.querySelector('#df-a374cfe6-dff2-494e-90e5-25e789f8d656 button.colab-df-convert');\n",
              "        buttonEl.style.display =\n",
              "          google.colab.kernel.accessAllowed ? 'block' : 'none';\n",
              "\n",
              "        async function convertToInteractive(key) {\n",
              "          const element = document.querySelector('#df-a374cfe6-dff2-494e-90e5-25e789f8d656');\n",
              "          const dataTable =\n",
              "            await google.colab.kernel.invokeFunction('convertToInteractive',\n",
              "                                                     [key], {});\n",
              "          if (!dataTable) return;\n",
              "\n",
              "          const docLinkHtml = 'Like what you see? Visit the ' +\n",
              "            '<a target=\"_blank\" href=https://colab.research.google.com/notebooks/data_table.ipynb>data table notebook</a>'\n",
              "            + ' to learn more about interactive tables.';\n",
              "          element.innerHTML = '';\n",
              "          dataTable['output_type'] = 'display_data';\n",
              "          await google.colab.output.renderOutput(dataTable, element);\n",
              "          const docLink = document.createElement('div');\n",
              "          docLink.innerHTML = docLinkHtml;\n",
              "          element.appendChild(docLink);\n",
              "        }\n",
              "      </script>\n",
              "    </div>\n",
              "  </div>\n",
              "  "
            ]
          },
          "metadata": {},
          "execution_count": 6
        }
      ],
      "source": [
        "data"
      ]
    },
    {
      "cell_type": "markdown",
      "id": "18f64f89-3f4e-4ad5-8313-8373c6558fa6",
      "metadata": {
        "id": "18f64f89-3f4e-4ad5-8313-8373c6558fa6"
      },
      "source": [
        "The other dataset is much simpler and only for the clients who died. It contains the client id in the same format as in the previous dataset and the date of the target event."
      ]
    },
    {
      "cell_type": "code",
      "execution_count": 7,
      "id": "32361a21-bb3b-4dc7-9f88-8db8aeffb88e",
      "metadata": {
        "colab": {
          "base_uri": "https://localhost:8080/",
          "height": 424
        },
        "id": "32361a21-bb3b-4dc7-9f88-8db8aeffb88e",
        "outputId": "e9e78f34-8d2c-410a-ff2e-87435ef05640"
      },
      "outputs": [
        {
          "output_type": "execute_result",
          "data": {
            "text/plain": [
              "    client                 time\n",
              "0        4  2022-06-11 05:45:56\n",
              "0       13  2022-06-17 20:23:22\n",
              "0       18  2022-06-09 17:13:00\n",
              "0       23  2022-06-09 01:32:17\n",
              "0       26  2022-06-10 06:25:23\n",
              "..     ...                  ...\n",
              "0      981  2022-06-14 21:34:36\n",
              "0      984  2022-06-17 05:32:41\n",
              "0      985  2022-06-12 18:15:26\n",
              "0      986  2022-06-10 13:30:19\n",
              "0      997  2022-06-25 16:22:02\n",
              "\n",
              "[381 rows x 2 columns]"
            ],
            "text/html": [
              "\n",
              "  <div id=\"df-cc7e279c-965e-43f0-852a-fc47a9f20b86\">\n",
              "    <div class=\"colab-df-container\">\n",
              "      <div>\n",
              "<style scoped>\n",
              "    .dataframe tbody tr th:only-of-type {\n",
              "        vertical-align: middle;\n",
              "    }\n",
              "\n",
              "    .dataframe tbody tr th {\n",
              "        vertical-align: top;\n",
              "    }\n",
              "\n",
              "    .dataframe thead th {\n",
              "        text-align: right;\n",
              "    }\n",
              "</style>\n",
              "<table border=\"1\" class=\"dataframe\">\n",
              "  <thead>\n",
              "    <tr style=\"text-align: right;\">\n",
              "      <th></th>\n",
              "      <th>client</th>\n",
              "      <th>time</th>\n",
              "    </tr>\n",
              "  </thead>\n",
              "  <tbody>\n",
              "    <tr>\n",
              "      <th>0</th>\n",
              "      <td>4</td>\n",
              "      <td>2022-06-11 05:45:56</td>\n",
              "    </tr>\n",
              "    <tr>\n",
              "      <th>0</th>\n",
              "      <td>13</td>\n",
              "      <td>2022-06-17 20:23:22</td>\n",
              "    </tr>\n",
              "    <tr>\n",
              "      <th>0</th>\n",
              "      <td>18</td>\n",
              "      <td>2022-06-09 17:13:00</td>\n",
              "    </tr>\n",
              "    <tr>\n",
              "      <th>0</th>\n",
              "      <td>23</td>\n",
              "      <td>2022-06-09 01:32:17</td>\n",
              "    </tr>\n",
              "    <tr>\n",
              "      <th>0</th>\n",
              "      <td>26</td>\n",
              "      <td>2022-06-10 06:25:23</td>\n",
              "    </tr>\n",
              "    <tr>\n",
              "      <th>...</th>\n",
              "      <td>...</td>\n",
              "      <td>...</td>\n",
              "    </tr>\n",
              "    <tr>\n",
              "      <th>0</th>\n",
              "      <td>981</td>\n",
              "      <td>2022-06-14 21:34:36</td>\n",
              "    </tr>\n",
              "    <tr>\n",
              "      <th>0</th>\n",
              "      <td>984</td>\n",
              "      <td>2022-06-17 05:32:41</td>\n",
              "    </tr>\n",
              "    <tr>\n",
              "      <th>0</th>\n",
              "      <td>985</td>\n",
              "      <td>2022-06-12 18:15:26</td>\n",
              "    </tr>\n",
              "    <tr>\n",
              "      <th>0</th>\n",
              "      <td>986</td>\n",
              "      <td>2022-06-10 13:30:19</td>\n",
              "    </tr>\n",
              "    <tr>\n",
              "      <th>0</th>\n",
              "      <td>997</td>\n",
              "      <td>2022-06-25 16:22:02</td>\n",
              "    </tr>\n",
              "  </tbody>\n",
              "</table>\n",
              "<p>381 rows × 2 columns</p>\n",
              "</div>\n",
              "      <button class=\"colab-df-convert\" onclick=\"convertToInteractive('df-cc7e279c-965e-43f0-852a-fc47a9f20b86')\"\n",
              "              title=\"Convert this dataframe to an interactive table.\"\n",
              "              style=\"display:none;\">\n",
              "        \n",
              "  <svg xmlns=\"http://www.w3.org/2000/svg\" height=\"24px\"viewBox=\"0 0 24 24\"\n",
              "       width=\"24px\">\n",
              "    <path d=\"M0 0h24v24H0V0z\" fill=\"none\"/>\n",
              "    <path d=\"M18.56 5.44l.94 2.06.94-2.06 2.06-.94-2.06-.94-.94-2.06-.94 2.06-2.06.94zm-11 1L8.5 8.5l.94-2.06 2.06-.94-2.06-.94L8.5 2.5l-.94 2.06-2.06.94zm10 10l.94 2.06.94-2.06 2.06-.94-2.06-.94-.94-2.06-.94 2.06-2.06.94z\"/><path d=\"M17.41 7.96l-1.37-1.37c-.4-.4-.92-.59-1.43-.59-.52 0-1.04.2-1.43.59L10.3 9.45l-7.72 7.72c-.78.78-.78 2.05 0 2.83L4 21.41c.39.39.9.59 1.41.59.51 0 1.02-.2 1.41-.59l7.78-7.78 2.81-2.81c.8-.78.8-2.07 0-2.86zM5.41 20L4 18.59l7.72-7.72 1.47 1.35L5.41 20z\"/>\n",
              "  </svg>\n",
              "      </button>\n",
              "      \n",
              "  <style>\n",
              "    .colab-df-container {\n",
              "      display:flex;\n",
              "      flex-wrap:wrap;\n",
              "      gap: 12px;\n",
              "    }\n",
              "\n",
              "    .colab-df-convert {\n",
              "      background-color: #E8F0FE;\n",
              "      border: none;\n",
              "      border-radius: 50%;\n",
              "      cursor: pointer;\n",
              "      display: none;\n",
              "      fill: #1967D2;\n",
              "      height: 32px;\n",
              "      padding: 0 0 0 0;\n",
              "      width: 32px;\n",
              "    }\n",
              "\n",
              "    .colab-df-convert:hover {\n",
              "      background-color: #E2EBFA;\n",
              "      box-shadow: 0px 1px 2px rgba(60, 64, 67, 0.3), 0px 1px 3px 1px rgba(60, 64, 67, 0.15);\n",
              "      fill: #174EA6;\n",
              "    }\n",
              "\n",
              "    [theme=dark] .colab-df-convert {\n",
              "      background-color: #3B4455;\n",
              "      fill: #D2E3FC;\n",
              "    }\n",
              "\n",
              "    [theme=dark] .colab-df-convert:hover {\n",
              "      background-color: #434B5C;\n",
              "      box-shadow: 0px 1px 3px 1px rgba(0, 0, 0, 0.15);\n",
              "      filter: drop-shadow(0px 1px 2px rgba(0, 0, 0, 0.3));\n",
              "      fill: #FFFFFF;\n",
              "    }\n",
              "  </style>\n",
              "\n",
              "      <script>\n",
              "        const buttonEl =\n",
              "          document.querySelector('#df-cc7e279c-965e-43f0-852a-fc47a9f20b86 button.colab-df-convert');\n",
              "        buttonEl.style.display =\n",
              "          google.colab.kernel.accessAllowed ? 'block' : 'none';\n",
              "\n",
              "        async function convertToInteractive(key) {\n",
              "          const element = document.querySelector('#df-cc7e279c-965e-43f0-852a-fc47a9f20b86');\n",
              "          const dataTable =\n",
              "            await google.colab.kernel.invokeFunction('convertToInteractive',\n",
              "                                                     [key], {});\n",
              "          if (!dataTable) return;\n",
              "\n",
              "          const docLinkHtml = 'Like what you see? Visit the ' +\n",
              "            '<a target=\"_blank\" href=https://colab.research.google.com/notebooks/data_table.ipynb>data table notebook</a>'\n",
              "            + ' to learn more about interactive tables.';\n",
              "          element.innerHTML = '';\n",
              "          dataTable['output_type'] = 'display_data';\n",
              "          await google.colab.output.renderOutput(dataTable, element);\n",
              "          const docLink = document.createElement('div');\n",
              "          docLink.innerHTML = docLinkHtml;\n",
              "          element.appendChild(docLink);\n",
              "        }\n",
              "      </script>\n",
              "    </div>\n",
              "  </div>\n",
              "  "
            ]
          },
          "metadata": {},
          "execution_count": 7
        }
      ],
      "source": [
        "targs"
      ]
    },
    {
      "cell_type": "markdown",
      "id": "059d3e82-6a88-4374-879e-bd0e52dd0332",
      "metadata": {
        "id": "059d3e82-6a88-4374-879e-bd0e52dd0332"
      },
      "source": [
        "## The Intake class\n",
        "\n",
        "The Intake class is a data management utility. It applies the loading of data at a dataframe level to any reels object. E.g., to apply the data of a complete dataframe to a reels `Events.insert_row() method`, the intake will have an `.insert_rows()` (in plural) method. And the same for any reels object that requires data loading.\n",
        "\n",
        "The dataframe can be either a pandas or a pyspark dataframe. An Intake object can be used as many times as required. \n",
        "\n",
        "Now, we create two Intake objects for both dataframes to be used each time we need to populate an object."
      ]
    },
    {
      "cell_type": "code",
      "execution_count": 8,
      "id": "8502bc31-a710-4f25-971b-e0a2ac2c6a77",
      "metadata": {
        "id": "8502bc31-a710-4f25-971b-e0a2ac2c6a77"
      },
      "outputs": [],
      "source": [
        "intake_data  = reels.Intake(data)\n",
        "intake_targs = reels.Intake(targs)"
      ]
    },
    {
      "cell_type": "code",
      "execution_count": 9,
      "id": "bf68ad96-263f-419d-9fa7-f5c882c2ec4e",
      "metadata": {
        "colab": {
          "base_uri": "https://localhost:8080/"
        },
        "id": "bf68ad96-263f-419d-9fa7-f5c882c2ec4e",
        "outputId": "46ff581e-122b-4809-872e-3a83af25e47f"
      },
      "outputs": [
        {
          "output_type": "execute_result",
          "data": {
            "text/plain": [
              "reels.Intake object using Pandas\n",
              "\n",
              "Column names: emitter, description, weight, client, time\n",
              "\n",
              "Shape: 5954 x 5"
            ]
          },
          "metadata": {},
          "execution_count": 9
        }
      ],
      "source": [
        "intake_data"
      ]
    },
    {
      "cell_type": "code",
      "execution_count": 10,
      "id": "16bf81a2-e9ef-4092-a52d-348412030163",
      "metadata": {
        "colab": {
          "base_uri": "https://localhost:8080/"
        },
        "id": "16bf81a2-e9ef-4092-a52d-348412030163",
        "outputId": "d18f2fe0-89b4-4ed9-8755-fa74b88b44b9"
      },
      "outputs": [
        {
          "output_type": "execute_result",
          "data": {
            "text/plain": [
              "reels.Intake object using Pandas\n",
              "\n",
              "Column names: client, time\n",
              "\n",
              "Shape: 381 x 2"
            ]
          },
          "metadata": {},
          "execution_count": 10
        }
      ],
      "source": [
        "intake_targs"
      ]
    },
    {
      "cell_type": "markdown",
      "id": "ec71c41d-5805-4ef3-b2b2-e69c1f77fe47",
      "metadata": {
        "id": "ec71c41d-5805-4ef3-b2b2-e69c1f77fe47"
      },
      "source": [
        "## The Events Class\n",
        "\n",
        "<img style=\"right;\" src=\"https://raw.githubusercontent.com/BBVA/mercury-reels/master/notebooks/images/events.png\">\n",
        "\n",
        "An Events object is a container that keeps the definitions of every event we are interested in. Each event is stored as a mapping of `(emitter, description, weight)` into a unique \n",
        "integer code. The transactions in a file that do not represent events stored in this object will be ignored. There are many reasons to ignore transactions, including we are only interested in some manually specified events or there are millions of events and we only want to focus on, say, the most frequent ten thousand.\n",
        "\n",
        "We create an empty Events object."
      ]
    },
    {
      "cell_type": "code",
      "execution_count": 11,
      "id": "426209b3-659c-415c-9b80-90068911c79f",
      "metadata": {
        "id": "426209b3-659c-415c-9b80-90068911c79f"
      },
      "outputs": [],
      "source": [
        "events = reels.Events()"
      ]
    },
    {
      "cell_type": "markdown",
      "id": "cf6f6dfb-332b-437f-85d3-0dcec87deea4",
      "metadata": {
        "id": "cf6f6dfb-332b-437f-85d3-0dcec87deea4"
      },
      "source": [
        "<div class=\"alert alert-block alert-success\">\n",
        "<b>Note that:</b> This object will only store up to 1000 events, which is the default value for `max_num_events`. Otherwise, we should give that argument to the constructor.\n",
        "</div>"
      ]
    },
    {
      "cell_type": "code",
      "execution_count": 12,
      "id": "971ba60e-0b32-4f8c-b0d9-7df939f82958",
      "metadata": {
        "colab": {
          "base_uri": "https://localhost:8080/"
        },
        "id": "971ba60e-0b32-4f8c-b0d9-7df939f82958",
        "outputId": "ddcf81da-d0df-468d-f4d9-889105cf868a"
      },
      "outputs": [
        {
          "output_type": "execute_result",
          "data": {
            "text/plain": [
              "0"
            ]
          },
          "metadata": {},
          "execution_count": 12
        }
      ],
      "source": [
        "events.num_events()"
      ]
    },
    {
      "cell_type": "markdown",
      "id": "adae549e-12eb-48f9-82fe-9954497729b8",
      "metadata": {
        "id": "adae549e-12eb-48f9-82fe-9954497729b8"
      },
      "source": [
        "Now, we apply the whole dataset to it using the Intake object."
      ]
    },
    {
      "cell_type": "code",
      "execution_count": 13,
      "id": "b332eae8-3b14-4caf-8e38-66339148b2aa",
      "metadata": {
        "id": "b332eae8-3b14-4caf-8e38-66339148b2aa"
      },
      "outputs": [],
      "source": [
        "intake_data.insert_rows(events)"
      ]
    },
    {
      "cell_type": "markdown",
      "id": "794bdf0c-1a0d-4bd6-9f3d-cf08d6d65008",
      "metadata": {
        "id": "794bdf0c-1a0d-4bd6-9f3d-cf08d6d65008"
      },
      "source": [
        "<div class=\"alert alert-block alert-success\">\n",
        "<b>Note that:</b> The column names <b>`emitter`, `description`, `weight`</b> in the dataframe are the default names and, therefore, it is not necessary to give them. \n",
        "<br>In general, this call would have been: <b>intake_data.insert_rows(events, columns = ['x', 'y', 'z'])</b>.\n",
        "</div>"
      ]
    },
    {
      "cell_type": "markdown",
      "id": "bace43a1-ef6a-403d-976c-add4add0d0d2",
      "metadata": {
        "id": "bace43a1-ef6a-403d-976c-add4add0d0d2"
      },
      "source": [
        "We have explored 6K+ rows to find the 7 unique events and assign codes to them in the order in which they were found for the first time."
      ]
    },
    {
      "cell_type": "code",
      "execution_count": 14,
      "id": "675759d3-9285-4d1b-92be-1ef0a69577aa",
      "metadata": {
        "colab": {
          "base_uri": "https://localhost:8080/"
        },
        "id": "675759d3-9285-4d1b-92be-1ef0a69577aa",
        "outputId": "0cc32e8f-dc93-4416-de83-103208bc9776"
      },
      "outputs": [
        {
          "output_type": "execute_result",
          "data": {
            "text/plain": [
              "reels.Events object with 7 events"
            ]
          },
          "metadata": {},
          "execution_count": 14
        }
      ],
      "source": [
        "events"
      ]
    },
    {
      "cell_type": "code",
      "execution_count": 15,
      "id": "da0c7dad-e0f2-4473-8d9c-2d14bf729e19",
      "metadata": {
        "colab": {
          "base_uri": "https://localhost:8080/"
        },
        "id": "da0c7dad-e0f2-4473-8d9c-2d14bf729e19",
        "outputId": "db7e62e2-5537-4380-f6ba-291f88824cc5"
      },
      "outputs": [
        {
          "output_type": "stream",
          "name": "stdout",
          "text": [
            "('click', '2', 1.0, 1)\n",
            "('click', '201', 1.0, 7)\n",
            "('click', '3', 1.0, 2)\n",
            "('click', '200', 1.0, 5)\n",
            "('click', '1', 1.0, 6)\n",
            "('click', '5', 1.0, 4)\n",
            "('click', '4', 1.0, 3)\n"
          ]
        }
      ],
      "source": [
        "for ev in events.describe_events():\n",
        "    print(ev)"
      ]
    },
    {
      "cell_type": "markdown",
      "id": "5f9b296d-9e77-4e4a-8288-d6c88f117d45",
      "metadata": {
        "id": "5f9b296d-9e77-4e4a-8288-d6c88f117d45"
      },
      "source": [
        "<div class=\"alert alert-block alert-info\">\n",
        "<b>Note 1:</b> We have done event discovery by scanning the whole dataset and were not limited in size. There were only 7 different events and we had capacity for 1000. In general, we may have to use the <b>max_num_events</b> argument of the constructor to decide how many events we want to learn.\n",
        "</div>"
      ]
    },
    {
      "cell_type": "markdown",
      "id": "56a322f5-2dda-4276-bdc6-619267241110",
      "metadata": {
        "id": "56a322f5-2dda-4276-bdc6-619267241110"
      },
      "source": [
        "<div class=\"alert alert-block alert-info\">\n",
        "<b>Note 2:</b> Besides letting the Events object learn by scanning the whole dataset, we could have defined the events manually by either pushing them one by one using the <b>.define_event()</b> method of the events object or using the Intake's <b>.define_events()</b> method.\n",
        "</div>"
      ]
    },
    {
      "cell_type": "markdown",
      "id": "f66dda93-d0ac-4a43-8bd1-345732820b26",
      "metadata": {
        "id": "f66dda93-d0ac-4a43-8bd1-345732820b26"
      },
      "source": [
        "## The Clients class\n",
        "\n",
        "<img style=\"right;\" src=\"https://raw.githubusercontent.com/BBVA/mercury-reels/master/notebooks/images/clients.png\">\n",
        "\n",
        "The Clients class is a filter that can be used in the following classes (Clips and Targets) to limit processing to a set of clients. This may be necessary for memory reasons since the whole processing is in-memory. We can use this class to contain a subset of all the clients and compute everything over each subset."
      ]
    },
    {
      "cell_type": "code",
      "execution_count": 16,
      "id": "36bf8cba-4c04-4507-b4d5-39598eb2d4c5",
      "metadata": {
        "id": "36bf8cba-4c04-4507-b4d5-39598eb2d4c5"
      },
      "outputs": [],
      "source": [
        "clients = reels.Clients()"
      ]
    },
    {
      "cell_type": "code",
      "execution_count": 17,
      "id": "7a7c5b98-d2bd-4b0e-8ea6-9c7cb85eda6c",
      "metadata": {
        "colab": {
          "base_uri": "https://localhost:8080/"
        },
        "id": "7a7c5b98-d2bd-4b0e-8ea6-9c7cb85eda6c",
        "outputId": "b5997954-8a74-4944-fe56-dc24db3f1c0b"
      },
      "outputs": [
        {
          "output_type": "execute_result",
          "data": {
            "text/plain": [
              "Empty reels.Clients object (Empty objects select ALL clients.)"
            ]
          },
          "metadata": {},
          "execution_count": 17
        }
      ],
      "source": [
        "clients"
      ]
    },
    {
      "cell_type": "markdown",
      "id": "dc3c720d-af48-4e7d-987f-966cf3c8d61e",
      "metadata": {
        "id": "dc3c720d-af48-4e7d-987f-966cf3c8d61e"
      },
      "source": [
        "<div class=\"alert alert-block alert-success\">\n",
        "<b>Note that:</b> An empty Clients object means \"for every client\". We are not going to populate this object. This could be done using the object's <b>add_client_id()</b> method.\n",
        "</div>"
      ]
    },
    {
      "cell_type": "markdown",
      "id": "e1603d5d-4a9d-4830-9832-b27a1ab6b1be",
      "metadata": {
        "id": "e1603d5d-4a9d-4830-9832-b27a1ab6b1be"
      },
      "source": [
        "## The Clips class\n",
        "\n",
        "<img style=\"right;\" src=\"https://raw.githubusercontent.com/BBVA/mercury-reels/master/notebooks/images/clips.png\">\n",
        "\n",
        "A **clip** is the sequence of events of one client. In a clip, the time at which the event happens and the integer code representing the event is stored.\n",
        "\n",
        "The **clips** object is a collection of clips for all the clients (or possibly a subset of them filtered using the Clients object).\n",
        "\n",
        "We create an empty object."
      ]
    },
    {
      "cell_type": "code",
      "execution_count": 18,
      "id": "c38092b3-806d-40f8-86d4-652e02241852",
      "metadata": {
        "id": "c38092b3-806d-40f8-86d4-652e02241852"
      },
      "outputs": [],
      "source": [
        "clips = reels.Clips(clients, events)"
      ]
    },
    {
      "cell_type": "markdown",
      "id": "66cb1b58-5bd4-42cf-8998-66cc33f2fac8",
      "metadata": {
        "id": "66cb1b58-5bd4-42cf-8998-66cc33f2fac8"
      },
      "source": [
        "<div class=\"alert alert-block alert-success\">\n",
        "<b>Note that:</b> We will give the time of the events to this object. If the time format is not the default <b>'%Y-%m-%d %H:%M:%S'</b>, we have to use the <b>time_format</b> argument.\n",
        "</div>"
      ]
    },
    {
      "cell_type": "code",
      "execution_count": 19,
      "id": "3e3d7475-8694-40c3-983f-7f2b31afe8a8",
      "metadata": {
        "colab": {
          "base_uri": "https://localhost:8080/"
        },
        "id": "3e3d7475-8694-40c3-983f-7f2b31afe8a8",
        "outputId": "3df1bd09-1afa-4968-f1ed-151ec6c7618f"
      },
      "outputs": [
        {
          "output_type": "execute_result",
          "data": {
            "text/plain": [
              "0"
            ]
          },
          "metadata": {},
          "execution_count": 19
        }
      ],
      "source": [
        "clips.num_clips()"
      ]
    },
    {
      "cell_type": "markdown",
      "id": "4dbe5837-16c2-4d26-ad6e-d13c6ad6ac54",
      "metadata": {
        "id": "4dbe5837-16c2-4d26-ad6e-d13c6ad6ac54"
      },
      "source": [
        "And we populate it just as before using the Intake object."
      ]
    },
    {
      "cell_type": "code",
      "execution_count": 20,
      "id": "9163f1a9-6af6-4e78-9098-717642772863",
      "metadata": {
        "id": "9163f1a9-6af6-4e78-9098-717642772863"
      },
      "outputs": [],
      "source": [
        "intake_data.scan_events(clips)"
      ]
    },
    {
      "cell_type": "markdown",
      "id": "1e178035-6d52-4516-b70e-da842540ea18",
      "metadata": {
        "id": "1e178035-6d52-4516-b70e-da842540ea18"
      },
      "source": [
        "<div class=\"alert alert-block alert-success\">\n",
        "<b>Note that:</b> Again, the column names, in this case, <b>`emitter`, `description`, `weight`, 'client', 'time'</b> in the dataframe are the default names and we are not using the argument <b>columns</b>.\n",
        "</div>"
      ]
    },
    {
      "cell_type": "markdown",
      "id": "0a953d26-655d-4723-b222-9ea41146b232",
      "metadata": {
        "id": "0a953d26-655d-4723-b222-9ea41146b232"
      },
      "source": [
        "And we can see the clips by client id."
      ]
    },
    {
      "cell_type": "code",
      "execution_count": 21,
      "id": "e8b6f85d-be5f-420c-ab6c-f9869a7fd0f5",
      "metadata": {
        "colab": {
          "base_uri": "https://localhost:8080/"
        },
        "id": "e8b6f85d-be5f-420c-ab6c-f9869a7fd0f5",
        "outputId": "342fd04e-2831-43ca-f2c4-0a2d63d974a4"
      },
      "outputs": [
        {
          "output_type": "execute_result",
          "data": {
            "text/plain": [
              "reels.Clips object with 1000 clips totalling 5954 events"
            ]
          },
          "metadata": {},
          "execution_count": 21
        }
      ],
      "source": [
        "clips"
      ]
    },
    {
      "cell_type": "code",
      "execution_count": 22,
      "id": "7297f6b2-6dcd-48cb-ba83-cb0e61f74bd2",
      "metadata": {
        "colab": {
          "base_uri": "https://localhost:8080/"
        },
        "id": "7297f6b2-6dcd-48cb-ba83-cb0e61f74bd2",
        "outputId": "093b1e02-d575-413e-887e-f503dfcc920b"
      },
      "outputs": [
        {
          "output_type": "execute_result",
          "data": {
            "text/plain": [
              "1000"
            ]
          },
          "metadata": {},
          "execution_count": 22
        }
      ],
      "source": [
        "clips.num_clips()"
      ]
    },
    {
      "cell_type": "code",
      "execution_count": 23,
      "id": "7c256797-3fa0-40b9-a3ed-0fe642a614da",
      "metadata": {
        "colab": {
          "base_uri": "https://localhost:8080/"
        },
        "id": "7c256797-3fa0-40b9-a3ed-0fe642a614da",
        "outputId": "a75b8a3a-491d-4e1e-9142-332e3ac254b7"
      },
      "outputs": [
        {
          "output_type": "execute_result",
          "data": {
            "text/plain": [
              "[1, 1, 2, 3]"
            ]
          },
          "metadata": {},
          "execution_count": 23
        }
      ],
      "source": [
        "clips.describe_clip('1')"
      ]
    },
    {
      "cell_type": "code",
      "execution_count": 24,
      "id": "a1ac6701-d236-4b29-a57b-9116f230849a",
      "metadata": {
        "colab": {
          "base_uri": "https://localhost:8080/"
        },
        "id": "a1ac6701-d236-4b29-a57b-9116f230849a",
        "outputId": "7b400952-ef09-4660-8846-25a8ddbb7337"
      },
      "outputs": [
        {
          "output_type": "execute_result",
          "data": {
            "text/plain": [
              "[2, 6, 4, 3, 1, 3, 1, 1, 3, 4]"
            ]
          },
          "metadata": {},
          "execution_count": 24
        }
      ],
      "source": [
        "clips.describe_clip('1000')"
      ]
    },
    {
      "cell_type": "code",
      "execution_count": 25,
      "id": "8c611842-63cb-4f4e-b006-59d01cec2807",
      "metadata": {
        "id": "8c611842-63cb-4f4e-b006-59d01cec2807"
      },
      "outputs": [],
      "source": [
        "clips.describe_clip('1001')"
      ]
    },
    {
      "cell_type": "markdown",
      "id": "f51dabf2-762c-4cd8-b23c-b9c5f4e1817a",
      "metadata": {
        "id": "f51dabf2-762c-4cd8-b23c-b9c5f4e1817a"
      },
      "source": [
        "## The Targets class\n",
        "\n",
        "<img style=\"right;\" src=\"https://raw.githubusercontent.com/BBVA/mercury-reels/master/notebooks/images/targets.png\">\n",
        "\n",
        "A targets object does mainly two things:\n",
        "\n",
        "  - Aggregating all the clips in a Clips object as a tree in reverse order. Note that some clips do not lead to a target event and will be stored entirely and others have a target event and all the events after it will be removed.\n",
        "  - Predicting the expected time to a hypothetical target event based on a clip using that tree learned from all the data in a Clips object.\n",
        "  \n",
        "We create a Targets object giving its constructor the populated Clips object we just created."
      ]
    },
    {
      "cell_type": "code",
      "execution_count": 26,
      "id": "7c3bce6c-535e-4b6b-9516-43d025d8e50e",
      "metadata": {
        "id": "7c3bce6c-535e-4b6b-9516-43d025d8e50e"
      },
      "outputs": [],
      "source": [
        "targets = reels.Targets(clips)"
      ]
    },
    {
      "cell_type": "markdown",
      "id": "dad93ba7-774b-4b22-9494-a21b2379eb48",
      "metadata": {
        "id": "dad93ba7-774b-4b22-9494-a21b2379eb48"
      },
      "source": [
        "<div class=\"alert alert-block alert-success\">\n",
        "<b>Note that:</b> We will give the time of the targets to this object. If the time format is not the default <b>'%Y-%m-%d %H:%M:%S'</b>, we have to use the <b>time_format</b> argument.\n",
        "</div>"
      ]
    },
    {
      "cell_type": "code",
      "execution_count": 27,
      "id": "7f604083-93c0-4562-99b1-8ffd2c241bba",
      "metadata": {
        "colab": {
          "base_uri": "https://localhost:8080/"
        },
        "id": "7f604083-93c0-4562-99b1-8ffd2c241bba",
        "outputId": "26c49464-f590-45ab-a466-dae27da35200"
      },
      "outputs": [
        {
          "output_type": "execute_result",
          "data": {
            "text/plain": [
              "reels.Targets object with 1000 clips\n",
              "\n",
              "Has no targets defined.\n",
              "\n",
              "Is not fitted."
            ]
          },
          "metadata": {},
          "execution_count": 27
        }
      ],
      "source": [
        "targets"
      ]
    },
    {
      "cell_type": "markdown",
      "id": "d5cc8d2a-203a-4252-b6ab-f244266bd2a7",
      "metadata": {
        "id": "d5cc8d2a-203a-4252-b6ab-f244266bd2a7"
      },
      "source": [
        "It still does not contain the targets."
      ]
    },
    {
      "cell_type": "code",
      "execution_count": 28,
      "id": "d3376383-214b-4846-ab2e-980377f697ec",
      "metadata": {
        "colab": {
          "base_uri": "https://localhost:8080/"
        },
        "id": "d3376383-214b-4846-ab2e-980377f697ec",
        "outputId": "4fba46c7-f787-43af-b040-83ee909d31f3"
      },
      "outputs": [
        {
          "output_type": "execute_result",
          "data": {
            "text/plain": [
              "0"
            ]
          },
          "metadata": {},
          "execution_count": 28
        }
      ],
      "source": [
        "targets.num_targets()"
      ]
    },
    {
      "cell_type": "markdown",
      "id": "e18f0b37-ce80-444f-afad-e54ca1fd3b1e",
      "metadata": {
        "id": "e18f0b37-ce80-444f-afad-e54ca1fd3b1e"
      },
      "source": [
        "And we populate it again, using the Intake. This time the intake of the targets dataframe."
      ]
    },
    {
      "cell_type": "code",
      "execution_count": 29,
      "id": "7a502135-1a37-43bb-aa55-2d4f050b8e42",
      "metadata": {
        "id": "7a502135-1a37-43bb-aa55-2d4f050b8e42"
      },
      "outputs": [],
      "source": [
        "intake_targs.insert_targets(targets)"
      ]
    },
    {
      "cell_type": "markdown",
      "id": "71f31111-5dc3-4580-a741-e21f67cf9c26",
      "metadata": {
        "id": "71f31111-5dc3-4580-a741-e21f67cf9c26"
      },
      "source": [
        "<div class=\"alert alert-block alert-success\">\n",
        "<b>Note that:</b> Again, the column names, in this case, <b>'client', 'time'</b> in the dataframe are the default names and we are not using the argument <b>columns</b>.\n",
        "</div>"
      ]
    },
    {
      "cell_type": "code",
      "execution_count": 30,
      "id": "01a29f49-9ff9-410c-9838-23899baa06e4",
      "metadata": {
        "colab": {
          "base_uri": "https://localhost:8080/"
        },
        "id": "01a29f49-9ff9-410c-9838-23899baa06e4",
        "outputId": "b929bce3-804b-45e9-fb8b-7e0365001c72"
      },
      "outputs": [
        {
          "output_type": "execute_result",
          "data": {
            "text/plain": [
              "381"
            ]
          },
          "metadata": {},
          "execution_count": 30
        }
      ],
      "source": [
        "targets.num_targets()"
      ]
    },
    {
      "cell_type": "markdown",
      "id": "2691841e-23bc-4726-9876-ac6da51f544f",
      "metadata": {
        "id": "2691841e-23bc-4726-9876-ac6da51f544f"
      },
      "source": [
        "We have everything, but we have not yet fitted the model. The tree has just one root node with no clip information."
      ]
    },
    {
      "cell_type": "code",
      "execution_count": 31,
      "id": "5d87ea1f-6b38-4164-a83a-ad8f10d25ca2",
      "metadata": {
        "colab": {
          "base_uri": "https://localhost:8080/"
        },
        "id": "5d87ea1f-6b38-4164-a83a-ad8f10d25ca2",
        "outputId": "6dbbabba-2f76-40b8-f94d-d4cc61ea1c78"
      },
      "outputs": [
        {
          "output_type": "execute_result",
          "data": {
            "text/plain": [
              "reels.Targets object with 1000 clips\n",
              "\n",
              "Has 381 targets.\n",
              "\n",
              "Is not fitted."
            ]
          },
          "metadata": {},
          "execution_count": 31
        }
      ],
      "source": [
        "targets"
      ]
    },
    {
      "cell_type": "code",
      "execution_count": 32,
      "id": "42f060c9-23e6-44a1-9848-8be8a145af73",
      "metadata": {
        "colab": {
          "base_uri": "https://localhost:8080/"
        },
        "id": "42f060c9-23e6-44a1-9848-8be8a145af73",
        "outputId": "628a6057-4749-4ce4-d920-2af25effec2e"
      },
      "outputs": [
        {
          "output_type": "execute_result",
          "data": {
            "text/plain": [
              "(0, 0, 0.0, 0)"
            ]
          },
          "metadata": {},
          "execution_count": 32
        }
      ],
      "source": [
        "targets.describe_tree_node(0)"
      ]
    },
    {
      "cell_type": "markdown",
      "id": "981f1f7f-6fd4-48b9-8480-3e4ee3c69016",
      "metadata": {
        "id": "981f1f7f-6fd4-48b9-8480-3e4ee3c69016"
      },
      "source": [
        "To build the tree, we call (just once per Targets object) the .fit() method."
      ]
    },
    {
      "cell_type": "code",
      "execution_count": 33,
      "id": "8d509f3d-6c65-41d0-b40c-80dce471398f",
      "metadata": {
        "colab": {
          "base_uri": "https://localhost:8080/"
        },
        "id": "8d509f3d-6c65-41d0-b40c-80dce471398f",
        "outputId": "2fd16498-b3ec-41ce-b98f-8c0beab06bbb"
      },
      "outputs": [
        {
          "output_type": "execute_result",
          "data": {
            "text/plain": [
              "True"
            ]
          },
          "metadata": {},
          "execution_count": 33
        }
      ],
      "source": [
        "targets.fit()"
      ]
    },
    {
      "cell_type": "markdown",
      "id": "9be84638-ed96-4839-b144-c151b893b95f",
      "metadata": {
        "id": "9be84638-ed96-4839-b144-c151b893b95f"
      },
      "source": [
        "<div class=\"alert alert-block alert-success\">\n",
        "<b>Note that:</b> We are using default hyperparameters. The arguments <b>x_form, agg, p, depth</b> and <b>as_states</b> are described below under \"How prediction works\".\n",
        "</div>"
      ]
    },
    {
      "cell_type": "markdown",
      "id": "fda25542-1288-4e9d-9b98-f9c59f453e2a",
      "metadata": {
        "id": "fda25542-1288-4e9d-9b98-f9c59f453e2a"
      },
      "source": [
        "Now, we have a root tree node containing information.\n",
        "\n",
        "The first value, 1000, is the number of visits (which is the number of total clips), the second is the number of targets (the number of rows in the targs dataset), the third is a global time to target aggregation (without any particular sequence since it is the root node). The final 7, is the number of children the node has (one for each event code)."
      ]
    },
    {
      "cell_type": "code",
      "execution_count": 34,
      "id": "0df88cc9-1c54-483a-b263-499dda54a9a8",
      "metadata": {
        "colab": {
          "base_uri": "https://localhost:8080/"
        },
        "id": "0df88cc9-1c54-483a-b263-499dda54a9a8",
        "outputId": "4271fbe5-dc75-413d-f7c8-c53f9fb246d6"
      },
      "outputs": [
        {
          "output_type": "execute_result",
          "data": {
            "text/plain": [
              "reels.Targets object with 1000 clips\n",
              "\n",
              "Has 381 targets.\n",
              "\n",
              "Is fitted with 1000 clips."
            ]
          },
          "metadata": {},
          "execution_count": 34
        }
      ],
      "source": [
        "targets"
      ]
    },
    {
      "cell_type": "code",
      "execution_count": 35,
      "id": "88d65991-4488-4668-a648-5f3c67c476fe",
      "metadata": {
        "colab": {
          "base_uri": "https://localhost:8080/"
        },
        "id": "88d65991-4488-4668-a648-5f3c67c476fe",
        "outputId": "2251ef85-0adc-49da-ba9d-31fa787637fd"
      },
      "outputs": [
        {
          "output_type": "execute_result",
          "data": {
            "text/plain": [
              "(1000, 381, 4568.595376, 7)"
            ]
          },
          "metadata": {},
          "execution_count": 35
        }
      ],
      "source": [
        "targets.describe_tree_node(0)"
      ]
    },
    {
      "cell_type": "markdown",
      "id": "4c7b7aa2-d1f1-47c2-a483-faa73f357dbc",
      "metadata": {
        "id": "4c7b7aa2-d1f1-47c2-a483-faa73f357dbc"
      },
      "source": [
        "If we wanted to see the codes corresponding to its children we could:"
      ]
    },
    {
      "cell_type": "code",
      "execution_count": 36,
      "id": "655442d5-c7fb-46c9-85d2-70840dd24a76",
      "metadata": {
        "colab": {
          "base_uri": "https://localhost:8080/"
        },
        "id": "655442d5-c7fb-46c9-85d2-70840dd24a76",
        "outputId": "802ebebf-8722-4cb2-c5b9-d18ed4bf6c9c"
      },
      "outputs": [
        {
          "output_type": "execute_result",
          "data": {
            "text/plain": [
              "[1, 2, 3, 4, 5, 6, 7]"
            ]
          },
          "metadata": {},
          "execution_count": 36
        }
      ],
      "source": [
        "targets.tree_node_children(0)"
      ]
    },
    {
      "cell_type": "markdown",
      "id": "14a52af8-b84d-44e3-97ca-3b6ea6250280",
      "metadata": {
        "id": "14a52af8-b84d-44e3-97ca-3b6ea6250280"
      },
      "source": [
        "If we wanted to see which code corresponds to the antidote, since the dataset is random and codes are assigned in random order, we call it `code_antidote`:"
      ]
    },
    {
      "cell_type": "code",
      "execution_count": 37,
      "id": "5e28462b-e4d2-4574-86cd-e7bfd6392c9d",
      "metadata": {
        "id": "5e28462b-e4d2-4574-86cd-e7bfd6392c9d"
      },
      "outputs": [],
      "source": [
        "for ev_tup in events.describe_events():\n",
        "    _, ev, _, code = ev_tup\n",
        "    if ev == '201':\n",
        "        code_antidote = code"
      ]
    },
    {
      "cell_type": "markdown",
      "id": "8e9dc5f6-5ee9-4b7f-a43a-e5ba9d2a6df8",
      "metadata": {
        "id": "8e9dc5f6-5ee9-4b7f-a43a-e5ba9d2a6df8"
      },
      "source": [
        "We can access it by asking the tree what is the index of the child `code_antidote` of the root node. I.e., `targets.tree_node_idx(0, code_antidote)` and confirm that it has no targets. It is impossible to die immediately after taking the antidote the way the simulation works."
      ]
    },
    {
      "cell_type": "code",
      "execution_count": 38,
      "id": "a7dad36a-d170-4bd7-926a-4613c4304cdb",
      "metadata": {
        "colab": {
          "base_uri": "https://localhost:8080/"
        },
        "id": "a7dad36a-d170-4bd7-926a-4613c4304cdb",
        "outputId": "cd9c7ccc-3d58-431c-8d3b-41a77f76fd85"
      },
      "outputs": [
        {
          "output_type": "execute_result",
          "data": {
            "text/plain": [
              "(31, 0, 0.0, 5)"
            ]
          },
          "metadata": {},
          "execution_count": 38
        }
      ],
      "source": [
        "targets.describe_tree_node(targets.tree_node_idx(0, code_antidote))"
      ]
    },
    {
      "cell_type": "markdown",
      "id": "ec5c180a-fce2-4b88-b5f3-ac6a06f5f216",
      "metadata": {
        "id": "ec5c180a-fce2-4b88-b5f3-ac6a06f5f216"
      },
      "source": [
        "### Making predictions"
      ]
    },
    {
      "cell_type": "markdown",
      "id": "b7a26508-1e84-43ea-9a14-f5c26dc43192",
      "metadata": {
        "id": "b7a26508-1e84-43ea-9a14-f5c26dc43192"
      },
      "source": [
        "To get predictions as the time to the expected target event, you just have to bear in mind that targets.predict_clips(clips) will give you an iterator. \n",
        "\n",
        "You can just convert them into a list."
      ]
    },
    {
      "cell_type": "code",
      "execution_count": 39,
      "id": "a3c1ae12-5f57-4563-abb7-924ff85e7ba9",
      "metadata": {
        "id": "a3c1ae12-5f57-4563-abb7-924ff85e7ba9"
      },
      "outputs": [],
      "source": [
        "T = list(targets.predict_clips(clips))"
      ]
    },
    {
      "cell_type": "markdown",
      "id": "841f703f-56b0-4a64-b8e1-1a9c9cd661d4",
      "metadata": {
        "id": "841f703f-56b0-4a64-b8e1-1a9c9cd661d4"
      },
      "source": [
        "And see the first 5:"
      ]
    },
    {
      "cell_type": "code",
      "execution_count": 40,
      "id": "79994054-3201-46a8-95d0-eaf4a27d4163",
      "metadata": {
        "colab": {
          "base_uri": "https://localhost:8080/"
        },
        "id": "79994054-3201-46a8-95d0-eaf4a27d4163",
        "outputId": "e19d0939-ac95-4e71-c533-4a627426e47f"
      },
      "outputs": [
        {
          "output_type": "execute_result",
          "data": {
            "text/plain": [
              "[273987.4233416462,\n",
              " 443072.02851064265,\n",
              " 25800.3122625789,\n",
              " 344351.2589951287,\n",
              " 191015.1586986647]"
            ]
          },
          "metadata": {},
          "execution_count": 40
        }
      ],
      "source": [
        "T[0:5]"
      ]
    },
    {
      "cell_type": "markdown",
      "id": "b4c45ba7-878d-470c-9be4-bd87e66e2ed9",
      "metadata": {
        "id": "b4c45ba7-878d-470c-9be4-bd87e66e2ed9"
      },
      "source": [
        "A more realistic approach would be treating the time as a score (the lower, the more likely) of the event happening. We want to verify that this prediction has a strong signal, despite being built of top of very random sequences, over a not very large dataset, etc.\n",
        "\n",
        "To verify that, we need to have a ground truth and compare both. Let's do it without cross validation first and then with cross validation.\n",
        "\n",
        "We create a simple utility function that we will re-use later."
      ]
    },
    {
      "cell_type": "code",
      "execution_count": 41,
      "id": "7a6d67ba-31f8-407c-95c2-ea5146443602",
      "metadata": {
        "id": "7a6d67ba-31f8-407c-95c2-ea5146443602"
      },
      "outputs": [],
      "source": [
        "def analyze(targets, clips, targs):\n",
        "    t_hashes = set([clients.hash_client_id(str(id)) for id in targs.client])    # This is the set of all the clients who are targets\n",
        "    Y_obs = [int(hh in t_hashes) for hh in clips.clips_client_hashes()]         # This is the observed target/no_target for all the clients\n",
        "    \n",
        "    T = [t for t in targets.predict_clips(clips)]                               # These are the predicted times\n",
        "    \n",
        "    t_copy = T.copy()\n",
        "    t_copy.sort()\n",
        "    t_cut = t_copy[sum(Y_obs)]                                                  # t_cut is a cutting time that generates the same number of targets.\n",
        "    \n",
        "    Y_pred = [int(t <= t_cut) for t in T]                                       # This is the predicted target/no_target for all the clients\n",
        "    \n",
        "    x_tab = pd.crosstab(pd.array(Y_obs), \n",
        "                        pd.array(Y_pred), \n",
        "                        rownames = ['Obs'], \n",
        "                        colnames = ['Pred'])\n",
        "    \n",
        "    acc  = metrics.accuracy_score(Y_obs, Y_pred)                                # We compute basic metrics\n",
        "    prec = metrics.precision_score(Y_obs, Y_pred)\n",
        "    f1   = metrics.f1_score(Y_obs, Y_pred)\n",
        "\n",
        "    print(x_tab)\n",
        "    print('Accuracy: %.3f, precision: %.3f, f1-score: %.3f' % (acc, prec, f1))"
      ]
    },
    {
      "cell_type": "markdown",
      "id": "3d41ba0a-d7d0-4088-b57d-d9982b05d8b1",
      "metadata": {
        "id": "3d41ba0a-d7d0-4088-b57d-d9982b05d8b1"
      },
      "source": [
        "We observe that the model captures a lot of structure from small and random data."
      ]
    },
    {
      "cell_type": "code",
      "execution_count": 42,
      "id": "dea038a4-c22e-4771-8cef-5135ad29b1f7",
      "metadata": {
        "colab": {
          "base_uri": "https://localhost:8080/"
        },
        "id": "dea038a4-c22e-4771-8cef-5135ad29b1f7",
        "outputId": "15375bf7-b57a-4f04-d5b8-1389ac65ec02"
      },
      "outputs": [
        {
          "output_type": "stream",
          "name": "stdout",
          "text": [
            "Pred    0    1\n",
            "Obs           \n",
            "0     530   89\n",
            "1      78  303\n",
            "Accuracy: 0.833, precision: 0.773, f1-score: 0.784\n"
          ]
        }
      ],
      "source": [
        "analyze(targets, clips, targs)"
      ]
    },
    {
      "cell_type": "markdown",
      "id": "7c5ad5e7-3b3b-4b9d-b8b7-3e85edafa960",
      "metadata": {
        "id": "7c5ad5e7-3b3b-4b9d-b8b7-3e85edafa960"
      },
      "source": [
        "### Making predictions over a different dataset (cross-validation)\n",
        "\n",
        "Now, we build two new smaller testing datasets."
      ]
    },
    {
      "cell_type": "code",
      "execution_count": 43,
      "id": "dab9df6b-be28-48d0-b326-1b94c82ec2f6",
      "metadata": {
        "id": "dab9df6b-be28-48d0-b326-1b94c82ec2f6"
      },
      "outputs": [],
      "source": [
        "test_data, test_targs = create_dataframes(500)"
      ]
    },
    {
      "cell_type": "markdown",
      "id": "dc4ffe80-6531-4b38-9ebf-21b95d108a10",
      "metadata": {
        "id": "dc4ffe80-6531-4b38-9ebf-21b95d108a10"
      },
      "source": [
        "We need a new Clips object that builds new clips using the test dataset."
      ]
    },
    {
      "cell_type": "code",
      "execution_count": 44,
      "id": "796d183c-e28e-4c89-a900-1bee343d7c05",
      "metadata": {
        "id": "796d183c-e28e-4c89-a900-1bee343d7c05"
      },
      "outputs": [],
      "source": [
        "test_clips = reels.Clips(clients, events)"
      ]
    },
    {
      "cell_type": "markdown",
      "id": "1e36f375-4f32-4f40-b59e-8c85e67ae8c3",
      "metadata": {
        "id": "1e36f375-4f32-4f40-b59e-8c85e67ae8c3"
      },
      "source": [
        "<div class=\"alert alert-block alert-warning\">\n",
        "<b>Important:</b> We need the events dataset to be the same as before because it contains the conversion from events to codes. If we learned a new one, we would learn the events in a different order and the code would change. That would make the model useless.\n",
        "</div>"
      ]
    },
    {
      "cell_type": "markdown",
      "id": "2262f88c-3ad5-4929-b745-d77d566e94c3",
      "metadata": {
        "id": "2262f88c-3ad5-4929-b745-d77d566e94c3"
      },
      "source": [
        "We populate it with a one-use-only Intake."
      ]
    },
    {
      "cell_type": "code",
      "execution_count": 45,
      "id": "26f09b0b-bc4d-48e2-98a7-81baa1805310",
      "metadata": {
        "id": "26f09b0b-bc4d-48e2-98a7-81baa1805310"
      },
      "outputs": [],
      "source": [
        "reels.Intake(test_data).scan_events(test_clips)"
      ]
    },
    {
      "cell_type": "markdown",
      "id": "8edc9369-fd4e-4e5b-8c96-76cdd81894c2",
      "metadata": {
        "id": "8edc9369-fd4e-4e5b-8c96-76cdd81894c2"
      },
      "source": [
        "And we obtain a prediction that is, as expected, worse than the previous one, but still captures structure on a small random dataset."
      ]
    },
    {
      "cell_type": "code",
      "execution_count": 46,
      "id": "3ae2dcc0-49c5-4446-9f71-5da92bf1400e",
      "metadata": {
        "colab": {
          "base_uri": "https://localhost:8080/"
        },
        "id": "3ae2dcc0-49c5-4446-9f71-5da92bf1400e",
        "outputId": "f71edbcd-a98a-4c3d-d0f6-17370f77d773"
      },
      "outputs": [
        {
          "output_type": "stream",
          "name": "stdout",
          "text": [
            "Pred    0    1\n",
            "Obs           \n",
            "0     227   75\n",
            "1      73  125\n",
            "Accuracy: 0.704, precision: 0.625, f1-score: 0.628\n"
          ]
        }
      ],
      "source": [
        "analyze(targets, test_clips, test_targs)"
      ]
    },
    {
      "cell_type": "markdown",
      "id": "5b3c8eaa-8e0e-45dd-887c-9ffe52f74bc7",
      "metadata": {
        "id": "5b3c8eaa-8e0e-45dd-887c-9ffe52f74bc7"
      },
      "source": [
        "## How prediction works\n",
        "\n",
        "Now we will have a closer look at how the prediction works and explain the different parameters that can be passed to `fit()`."
      ]
    },
    {
      "cell_type": "markdown",
      "id": "03263015-7b07-40a5-96a6-73daf8196741",
      "metadata": {
        "id": "03263015-7b07-40a5-96a6-73daf8196741"
      },
      "source": [
        "### Aggregating the different possible matches\n",
        "\n",
        "If we are predicting a sequence that ends with the events `NF, w, x, y, z` where NF means **not found**. The tree just contains (in reverse order, remember) a root node that has a child `z`, that has a child `y` ... `x` ... `w` that does not have a child `NF`. Therefore, we can match the sequences: `..., w, x, y, z`, `..., x, y, z`, `..., y, z` and `..., z`. Each of them has data on how many times it was seen, how many times a target event follows and how long after the event the target event happened.\n",
        "\n",
        "Each of these sequences can make a prediction. So, how do we combine those predictions into a single value?\n",
        "\n",
        "This is what the argument `agg` does."
      ]
    },
    {
      "cell_type": "code",
      "execution_count": 47,
      "id": "0f362dd7-b25e-47b1-8618-92ed85383318",
      "metadata": {
        "id": "0f362dd7-b25e-47b1-8618-92ed85383318"
      },
      "outputs": [],
      "source": [
        "new_targets = reels.Targets(clips)\n",
        "intake_targs.insert_targets(new_targets)"
      ]
    },
    {
      "cell_type": "markdown",
      "id": "3fb21516-9e0c-4c42-b2c5-9ce5c8e8d6ac",
      "metadata": {
        "id": "3fb21516-9e0c-4c42-b2c5-9ce5c8e8d6ac"
      },
      "source": [
        "In two lines, we created a populated new_targets object.\n",
        "\n",
        "Let's take the prediction from the longest possible sequence (which is the most specific, but also the one with smallest sample size)."
      ]
    },
    {
      "cell_type": "code",
      "execution_count": 48,
      "id": "095745f2-9273-4505-a229-03912f102f4e",
      "metadata": {
        "colab": {
          "base_uri": "https://localhost:8080/"
        },
        "id": "095745f2-9273-4505-a229-03912f102f4e",
        "outputId": "78da6794-5005-400f-f586-83fd9dbf8dda"
      },
      "outputs": [
        {
          "output_type": "execute_result",
          "data": {
            "text/plain": [
              "True"
            ]
          },
          "metadata": {},
          "execution_count": 48
        }
      ],
      "source": [
        "new_targets.fit(agg = 'longest')"
      ]
    },
    {
      "cell_type": "markdown",
      "id": "34641bf8-27d2-4fdb-ad6f-b1c8e65564fb",
      "metadata": {
        "id": "34641bf8-27d2-4fdb-ad6f-b1c8e65564fb"
      },
      "source": [
        "<div class=\"alert alert-block alert-success\">\n",
        "    <b>Note that:</b> The argument <b>agg</b> can also be set to <b>'mean'</b> or <b>'minimax'</b>. The former averages all the predictions and the latter returns the min() of all. This is intended to be combined with an upper confidence bound based on evidence (sample size). The parameter value is called 'minimax' to remind that it should be combined with an upper bound.\n",
        "</div>"
      ]
    },
    {
      "cell_type": "code",
      "execution_count": 49,
      "id": "ed77051b-4371-4e0c-8097-6f5452dcf325",
      "metadata": {
        "colab": {
          "base_uri": "https://localhost:8080/"
        },
        "id": "ed77051b-4371-4e0c-8097-6f5452dcf325",
        "outputId": "1ca63a23-22d6-456c-b33e-58ac2f69c37e"
      },
      "outputs": [
        {
          "output_type": "stream",
          "name": "stdout",
          "text": [
            "Pred    0    1\n",
            "Obs           \n",
            "0     530   89\n",
            "1      78  303\n",
            "Accuracy: 0.833, precision: 0.773, f1-score: 0.784\n"
          ]
        }
      ],
      "source": [
        "analyze(targets, clips, targs)"
      ]
    },
    {
      "cell_type": "markdown",
      "id": "97d354b4-78ee-48db-96f9-0c252e708388",
      "metadata": {
        "id": "97d354b4-78ee-48db-96f9-0c252e708388"
      },
      "source": [
        "And we can compare the previous result (we repeat it here) with that of the new model. We should observe some improvement because in this dataset the longer clips are more informative since they are more likely to contain the poison/antidote events."
      ]
    },
    {
      "cell_type": "code",
      "execution_count": 50,
      "id": "5f78cf1c-62da-4a7e-aae3-0ed725dd5c0e",
      "metadata": {
        "colab": {
          "base_uri": "https://localhost:8080/"
        },
        "id": "5f78cf1c-62da-4a7e-aae3-0ed725dd5c0e",
        "outputId": "a9211839-71a2-48b5-8796-afe8f04a4795"
      },
      "outputs": [
        {
          "output_type": "stream",
          "name": "stdout",
          "text": [
            "Pred    0    1\n",
            "Obs           \n",
            "0     573   46\n",
            "1      34  347\n",
            "Accuracy: 0.920, precision: 0.883, f1-score: 0.897\n"
          ]
        }
      ],
      "source": [
        "analyze(new_targets, clips, targs)"
      ]
    },
    {
      "cell_type": "markdown",
      "id": "399026a3-f30e-4289-b24b-a3da33a4b7ab",
      "metadata": {
        "id": "399026a3-f30e-4289-b24b-a3da33a4b7ab"
      },
      "source": [
        "### Zooming into the prediction details \n",
        "\n",
        "There are two fundamental ideas that we have to keep in mind.\n",
        "\n",
        "#### We only have the \"time to target\" for the targets\n",
        "\n",
        "This is obvious, but still important to bear in mind. In survival analysis when we observe failures of lightbulbs, the lightbulbs that do not fail during our study are **not expected to work forever**.\n",
        "\n",
        "**The Poisson distribution** expresses the probability of a given number of events occurring with a known constant mean rate. Our predictions will assign time estimates to the **non targets** according to this principle, because it is the simplest possible assumption.\n",
        "\n",
        "This translates in: If we had 40% of targets happening 1 hour after the sequence, the non targets would have a prediction time accordingly longer than one hour, but shorter than if the same targets would have been 4% instead of 40%.\n",
        "\n",
        "#### \"Targets vs. non targets\" is a binomial proportion\n",
        "\n",
        "If we observe 3 targets out of 7, we have much less evidence than if we observe 300 out of 700 even if the maximum likelihood estimate (3/7) is the same in both cases. A better estimate, if we consider that the target is a risk, would be an upper confidence bound for the binomial proportion. Reels implements the Agresti-Coull upper bound for a given probability `p`. In that case, the upper bound would be much higher for 3 of 7 than for 300 of 700.\n",
        "\n",
        "<center><img src=\"https://raw.githubusercontent.com/BBVA/mercury-reels/master/notebooks/images/bounds_small.png\"/></center>\n",
        "\n",
        "**The parameter `p`** controls how the upper bound (UB in the picture) is given for an Agresti-Coull confidence interval. The resulting proportion (targets vs. no targets) controls how the prediction is blending the non targets (Poisson distribution) and the targets (observed time). \n",
        "<div class=\"alert alert-block alert-info\">\n",
        "    <b>Note:</b> By setting <b>p = 0</b> we remove the confidence interval and the estimate will be exactly <b>(number of observed targets)/(number of observed)</b>.\n",
        "</div>"
      ]
    },
    {
      "cell_type": "code",
      "execution_count": 51,
      "id": "b29fc7b2-72ed-4b62-8a69-e1e2c3b2c9d6",
      "metadata": {
        "id": "b29fc7b2-72ed-4b62-8a69-e1e2c3b2c9d6"
      },
      "outputs": [],
      "source": [
        "new_targets = reels.Targets(clips)\n",
        "intake_targs.insert_targets(new_targets)"
      ]
    },
    {
      "cell_type": "markdown",
      "id": "7714a5cb-0afe-47c1-a46c-0b1fba544420",
      "metadata": {
        "id": "7714a5cb-0afe-47c1-a46c-0b1fba544420"
      },
      "source": [
        "Let's play with `p`. Again, we populate a new targets object."
      ]
    },
    {
      "cell_type": "code",
      "execution_count": 52,
      "id": "e27a235d-7675-4320-923a-21bf71e30dcf",
      "metadata": {
        "colab": {
          "base_uri": "https://localhost:8080/"
        },
        "id": "e27a235d-7675-4320-923a-21bf71e30dcf",
        "outputId": "b027d39d-c0e6-4001-e8f6-b6e575968eae"
      },
      "outputs": [
        {
          "output_type": "execute_result",
          "data": {
            "text/plain": [
              "True"
            ]
          },
          "metadata": {},
          "execution_count": 52
        }
      ],
      "source": [
        "new_targets.fit(agg = 'longest', p = 0)"
      ]
    },
    {
      "cell_type": "markdown",
      "id": "e23084e3-7161-45ce-b4b9-cb263f3770c1",
      "metadata": {
        "id": "e23084e3-7161-45ce-b4b9-cb263f3770c1"
      },
      "source": [
        "And we notice even more improvement. \n",
        "\n",
        "(Note that we are overfitting to the training set. This is just a play on the parameters. Removing the confidence intervals is giving us the original times more accurately.)"
      ]
    },
    {
      "cell_type": "code",
      "execution_count": 53,
      "id": "e9958051-4671-40a4-8f01-84ade4d27b1f",
      "metadata": {
        "colab": {
          "base_uri": "https://localhost:8080/"
        },
        "id": "e9958051-4671-40a4-8f01-84ade4d27b1f",
        "outputId": "320d87d7-d9c6-44db-dbcd-5ba3b6b2492c"
      },
      "outputs": [
        {
          "output_type": "stream",
          "name": "stdout",
          "text": [
            "Pred    0    1\n",
            "Obs           \n",
            "0     592   27\n",
            "1      26  355\n",
            "Accuracy: 0.947, precision: 0.929, f1-score: 0.931\n"
          ]
        }
      ],
      "source": [
        "analyze(new_targets, clips, targs)"
      ]
    },
    {
      "cell_type": "markdown",
      "id": "42873e81-5493-4e4e-883e-5903243a7e21",
      "metadata": {
        "id": "42873e81-5493-4e4e-883e-5903243a7e21"
      },
      "source": [
        "### More fit() parameters: x_form\n",
        "\n",
        "This parameter controls if a `log()` transformation should be applied to the times (default value, `x_form = 'log'`) or not (`x_form = 'linear'`). If applied, the predicted times will also be applied the corresponding `exp()` transformation so that they are expressed in the same units.  "
      ]
    },
    {
      "cell_type": "code",
      "execution_count": 54,
      "id": "db9f04bd-d09d-46f8-9344-1edf01a0cef2",
      "metadata": {
        "id": "db9f04bd-d09d-46f8-9344-1edf01a0cef2"
      },
      "outputs": [],
      "source": [
        "new_targets = reels.Targets(clips)\n",
        "intake_targs.insert_targets(new_targets)"
      ]
    },
    {
      "cell_type": "code",
      "execution_count": 55,
      "id": "756332ae-018e-4c37-b21c-135ca3c903f4",
      "metadata": {
        "colab": {
          "base_uri": "https://localhost:8080/"
        },
        "id": "756332ae-018e-4c37-b21c-135ca3c903f4",
        "outputId": "b67323cb-0565-4885-b561-e54f4909c650"
      },
      "outputs": [
        {
          "output_type": "execute_result",
          "data": {
            "text/plain": [
              "True"
            ]
          },
          "metadata": {},
          "execution_count": 55
        }
      ],
      "source": [
        "new_targets.fit(agg = 'longest', p = 0, x_form = 'linear')"
      ]
    },
    {
      "cell_type": "markdown",
      "id": "f6165fc0-9115-42e1-9271-6745edd1033b",
      "metadata": {
        "id": "f6165fc0-9115-42e1-9271-6745edd1033b"
      },
      "source": [
        "Again, we could see some improvement by returning the overfitted times with more accuracy."
      ]
    },
    {
      "cell_type": "code",
      "execution_count": 56,
      "id": "ef84a65a-0538-4952-a3ed-fa3f40d6e3d4",
      "metadata": {
        "colab": {
          "base_uri": "https://localhost:8080/"
        },
        "id": "ef84a65a-0538-4952-a3ed-fa3f40d6e3d4",
        "outputId": "00256231-c7e1-4571-becc-4c00eb7cf306"
      },
      "outputs": [
        {
          "output_type": "stream",
          "name": "stdout",
          "text": [
            "Pred    0    1\n",
            "Obs           \n",
            "0     596   23\n",
            "1      20  361\n",
            "Accuracy: 0.957, precision: 0.940, f1-score: 0.944\n"
          ]
        }
      ],
      "source": [
        "analyze(new_targets, clips, targs)"
      ]
    },
    {
      "cell_type": "markdown",
      "id": "f7bf18bf-c019-4af6-ba42-3d93a54283ae",
      "metadata": {
        "id": "f7bf18bf-c019-4af6-ba42-3d93a54283ae"
      },
      "source": [
        "### More fit() parameters: depth\n",
        "\n",
        "This parameter sets the maximum depth of the tree and, therefore, the maximum length of the sequences that are learnt.\n"
      ]
    },
    {
      "cell_type": "code",
      "execution_count": 57,
      "id": "033765d2-37c0-4b6d-91e3-cd410d3a7abb",
      "metadata": {
        "id": "033765d2-37c0-4b6d-91e3-cd410d3a7abb"
      },
      "outputs": [],
      "source": [
        "new_targets = reels.Targets(clips)\n",
        "intake_targs.insert_targets(new_targets)"
      ]
    },
    {
      "cell_type": "code",
      "execution_count": 58,
      "id": "fd3ffd57-da1c-4db4-88be-4e54f579e4b7",
      "metadata": {
        "colab": {
          "base_uri": "https://localhost:8080/"
        },
        "id": "fd3ffd57-da1c-4db4-88be-4e54f579e4b7",
        "outputId": "c37523b5-efca-4ea0-f4c8-2dc9f55c183b"
      },
      "outputs": [
        {
          "output_type": "execute_result",
          "data": {
            "text/plain": [
              "True"
            ]
          },
          "metadata": {},
          "execution_count": 58
        }
      ],
      "source": [
        "new_targets.fit(agg = 'longest', p = 0, x_form = 'linear', depth = 3)"
      ]
    },
    {
      "cell_type": "markdown",
      "id": "98cb815a-18cf-4933-84be-9a2600026b42",
      "metadata": {
        "id": "98cb815a-18cf-4933-84be-9a2600026b42"
      },
      "source": [
        "By limiting the sequence length to 3, we see a large drop in performance."
      ]
    },
    {
      "cell_type": "code",
      "execution_count": 59,
      "id": "c71363de-e4ae-4c48-aa87-9dc5407bf2f9",
      "metadata": {
        "colab": {
          "base_uri": "https://localhost:8080/"
        },
        "id": "c71363de-e4ae-4c48-aa87-9dc5407bf2f9",
        "outputId": "8d9b3383-e24b-4af4-97c0-236d5d2c7f2c"
      },
      "outputs": [
        {
          "output_type": "stream",
          "name": "stdout",
          "text": [
            "Pred    0    1\n",
            "Obs           \n",
            "0     516  103\n",
            "1      99  282\n",
            "Accuracy: 0.798, precision: 0.732, f1-score: 0.736\n"
          ]
        }
      ],
      "source": [
        "analyze(new_targets, clips, targs)"
      ]
    },
    {
      "cell_type": "markdown",
      "id": "b3d3b088-c8ff-4068-8516-685e324ef199",
      "metadata": {
        "id": "b3d3b088-c8ff-4068-8516-685e324ef199"
      },
      "source": [
        "### More fit() parameters: as_states\n",
        "\n",
        "In some cases, it may be good to treat the events as states. I.e., **removing consecutive identical events**. Instead of an event in time, we consider the event as a state that does not change until a **different** event changes the state.\n",
        "\n",
        "Reels supports doing this automatically. Just set `as_states = True` and events will be treated as states."
      ]
    },
    {
      "cell_type": "code",
      "execution_count": 60,
      "id": "afedc042-0ff2-41a2-9143-6d085de8b185",
      "metadata": {
        "id": "afedc042-0ff2-41a2-9143-6d085de8b185"
      },
      "outputs": [],
      "source": [
        "new_targets = reels.Targets(clips)\n",
        "intake_targs.insert_targets(new_targets)"
      ]
    },
    {
      "cell_type": "code",
      "execution_count": 61,
      "id": "a39261f6-3314-4213-8694-c511926db80d",
      "metadata": {
        "colab": {
          "base_uri": "https://localhost:8080/"
        },
        "id": "a39261f6-3314-4213-8694-c511926db80d",
        "outputId": "52210586-fa56-49b6-d671-3c36af494436"
      },
      "outputs": [
        {
          "output_type": "execute_result",
          "data": {
            "text/plain": [
              "True"
            ]
          },
          "metadata": {},
          "execution_count": 61
        }
      ],
      "source": [
        "new_targets.fit(agg = 'longest', p = 0, x_form = 'linear', as_states = True)"
      ]
    },
    {
      "cell_type": "markdown",
      "id": "0ae5d2cf-c3c7-433a-bbe4-63e227161417",
      "metadata": {
        "id": "0ae5d2cf-c3c7-433a-bbe4-63e227161417"
      },
      "source": [
        "Again, we create a new targets and fit it setting `as_states = True`. The previous best performance is not reached this time. "
      ]
    },
    {
      "cell_type": "code",
      "execution_count": 62,
      "id": "35f1b7ea-87d4-4124-b968-d0fc01a7b6d2",
      "metadata": {
        "colab": {
          "base_uri": "https://localhost:8080/"
        },
        "id": "35f1b7ea-87d4-4124-b968-d0fc01a7b6d2",
        "outputId": "d86b3506-2363-4383-bcd5-b57deb9a8762"
      },
      "outputs": [
        {
          "output_type": "stream",
          "name": "stdout",
          "text": [
            "Pred    0    1\n",
            "Obs           \n",
            "0     536   83\n",
            "1      66  315\n",
            "Accuracy: 0.851, precision: 0.791, f1-score: 0.809\n"
          ]
        }
      ],
      "source": [
        "analyze(new_targets, clips, targs)"
      ]
    },
    {
      "cell_type": "markdown",
      "id": "ce6ce685-c4f8-48c6-b288-51fc9e883c84",
      "metadata": {
        "id": "ce6ce685-c4f8-48c6-b288-51fc9e883c84"
      },
      "source": [
        "<div class=\"alert alert-block alert-info\">\n",
        "    <b>Note:</b> In all our examples we have been using the <b>predict_clips()</b> method that makes predictions based on clips. Besides that method, there is a \n",
        "<b>predict_clients()</b> that makes predictions based on client ids stored in a Clients object. For it to work, the clients must be part of the Clips object passed to the constructor where their clips can be found.\n",
        "</div>"
      ]
    },
    {
      "cell_type": "markdown",
      "id": "0b47c0ef-7041-406b-89d2-a8874665a167",
      "metadata": {
        "id": "0b47c0ef-7041-406b-89d2-a8874665a167"
      },
      "source": [
        "## What's next?\n",
        "\n",
        "<img style=\"float: left;\" src=\"https://raw.githubusercontent.com/BBVA/mercury-reels/master/notebooks/images/reels_small.png\"> Now, you can also check the **reels_event_optimization** tutorial to dive deeper into reels!\n"
      ]
    }
  ],
  "metadata": {
    "kernelspec": {
      "display_name": "Python 3 (ipykernel)",
      "language": "python",
      "name": "python3"
    },
    "language_info": {
      "codemirror_mode": {
        "name": "ipython",
        "version": 3
      },
      "file_extension": ".py",
      "mimetype": "text/x-python",
      "name": "python",
      "nbconvert_exporter": "python",
      "pygments_lexer": "ipython3",
      "version": "3.10.6"
    },
    "vscode": {
      "interpreter": {
        "hash": "767d51c1340bd893661ea55ea3124f6de3c7a262a8b4abca0554b478b1e2ff90"
      }
    },
    "colab": {
      "provenance": [],
      "include_colab_link": true
    }
  },
  "nbformat": 4,
  "nbformat_minor": 5
}