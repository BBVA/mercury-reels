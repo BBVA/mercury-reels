{
 "cells": [
  {
   "cell_type": "markdown",
   "id": "2995e072-2d3e-45c3-9183-d5b639051628",
   "metadata": {},
   "source": [
    "# Walk through most of mercury-dynamics REELS functionality\n",
    "\n",
    "<img style=\"float: right;\" src=\"images/reels_logo.jpg\">\n",
    "\n",
    "**Reels** is a **mercury** library to analyze sequences of events extracted from transactional data. These events can be automatically discovered or manually defined. Reels identifies events by assigning them **event codes** and creates **clips**, which are sequences of codes and times for each client. Using these clips, a model can be generated to predict the time at which similar events may occur in the future, based on new data.\n",
    "\n",
    "This notebook provides a comprehensive overview of the majority of the functionalities and also provides an explanation of how the prediction process works.\n"
   ]
  },
  {
   "cell_type": "markdown",
   "id": "26a87111-d1fc-4fc2-99e6-68f497c15318",
   "metadata": {},
   "source": [
    "## Imports\n",
    "\n",
    "We will use some standard packages in this notebook that we include here."
   ]
  },
  {
   "cell_type": "code",
   "execution_count": 1,
   "id": "6a77b67e-f1d6-4979-9f10-b71db402b0dc",
   "metadata": {},
   "outputs": [],
   "source": [
    "import random, time\n",
    "\n",
    "import pandas as pd\n",
    "\n",
    "from sklearn import metrics"
   ]
  },
  {
   "cell_type": "markdown",
   "id": "5b6b0282-59d1-473b-9b11-d26abe8032cf",
   "metadata": {},
   "source": [
    "Now, we import reels."
   ]
  },
  {
   "cell_type": "code",
   "execution_count": 2,
   "id": "1e261875-1a83-48e4-b4df-eeaba8d34939",
   "metadata": {},
   "outputs": [],
   "source": [
    "from mercury.dynamics import reels"
   ]
  },
  {
   "cell_type": "markdown",
   "id": "d27c7b69-8b12-408e-9ce7-7ba4236fb8b7",
   "metadata": {},
   "source": [
    "Additionally, we can verify that we are using the right version. (This notebook requires at least a version 1.3.1.)"
   ]
  },
  {
   "cell_type": "code",
   "execution_count": 3,
   "id": "a375a3a1-cb6f-4193-b226-3294c5a821d3",
   "metadata": {},
   "outputs": [
    {
     "data": {
      "text/plain": [
       "'1.3.1'"
      ]
     },
     "execution_count": 3,
     "metadata": {},
     "output_type": "execute_result"
    }
   ],
   "source": [
    "import mercury.dynamics as md\n",
    "\n",
    "md.__version__"
   ]
  },
  {
   "cell_type": "markdown",
   "id": "5239f663-80fd-463f-bd56-178ef39bdb9a",
   "metadata": {},
   "source": [
    "## The dataset\n",
    "\n",
    "The dataset is a synthetic dataset. The following code generates the dataset for a given number of clients with many configurable parameters.\n",
    "\n",
    "### The simulation\n",
    "\n",
    "The dataset simulates for each client a random number of events. The client either drinks a placebo (which does nothing), a poison or an antidote at random and at random time intervals.\n",
    "If the client has taken the poison a fatal timing count starts. If an event is applied after the fatal time is exceeded, the client dies, generating a target event (the client's death)\n",
    "at a point in time random but longer than a given parameter. If in the time after the poison and before the death he drinks the antidote, the effect of the poison is cancelled and the \n",
    "client survives unless he is poisoned again. If he quits the study poisoned, but before the fatal time expired, we will not observe his death. This is a common situation in survival analysis and is why we treat the data as censored, i.e., not accessible to the observer."
   ]
  },
  {
   "cell_type": "code",
   "execution_count": 4,
   "id": "3baca919-31b5-4c7a-8501-575866410379",
   "metadata": {
    "jupyter": {
     "source_hidden": true
    },
    "tags": []
   },
   "outputs": [],
   "source": [
    "def new_sequence(max_events, time_ori, min_delay, max_delay, dead_in, poison, antidote, n_placebos):\n",
    "    \n",
    "    N = random.randrange(max_events) + 1\n",
    "    \n",
    "    poisoned = False\n",
    "    target   = None\n",
    "    \n",
    "    codes = []\n",
    "    times = []\n",
    "    \n",
    "    ct = time.mktime(time.strptime(time_ori, '%Y-%m-%d %H:%M:%S')) + random.randrange(min_delay, max_delay)\n",
    "    \n",
    "    for i in range(N):\n",
    "        ct = ct + random.randrange(min_delay, max_delay)\n",
    "    \n",
    "        if (poisoned and ct - poison_t > dead_in):\n",
    "            target = time.strftime('%Y-%m-%d %H:%M:%S', time.localtime(ct))\n",
    "            break\n",
    "            \n",
    "        codes.append(random.randrange(n_placebos + 1) + 1)\n",
    "        times.append(time.strftime('%Y-%m-%d %H:%M:%S', time.localtime(ct)))\n",
    "        \n",
    "        if codes[-1] > n_placebos:\n",
    "            if poisoned:\n",
    "                codes[-1] = antidote\n",
    "                poisoned = False\n",
    "            else:\n",
    "                codes[-1] = poison\n",
    "                poisoned = True\n",
    "                poison_t = ct\n",
    "                \n",
    "    return codes, times, target\n",
    "\n",
    "\n",
    "def create_dataframes(num_clients = 1000, max_events = 15, time_ori = '2022-06-01 00:00:01', min_delay = 60, max_delay = 72*3600, dead_in = 96*3600, poison = 200, antidote = 201, n_placebos = 5):\n",
    "    \n",
    "    data    = None\n",
    "    targets = None\n",
    "\n",
    "    for cli in range(1, num_clients + 1):\n",
    "        codes, times, target = new_sequence(max_events, time_ori, min_delay, max_delay, dead_in, poison, antidote, n_placebos)\n",
    "    \n",
    "        emi    = ['click' for _ in range(len(codes))]\n",
    "        weight = [1 for _ in range(len(codes))]\n",
    "        client = [cli for _ in range(len(codes))]\n",
    "    \n",
    "        chunk = pd.DataFrame(list(zip(emi, codes, weight, client, times)), columns = ['emitter', 'description', 'weight', 'client', 'time'])\n",
    "\n",
    "        data = chunk if data is None else pd.concat([data, chunk])\n",
    "    \n",
    "        if target is not None:\n",
    "            chunk   = pd.DataFrame([[cli, target]], columns = ['client', 'time'])\n",
    "            targets = chunk if targets is None else pd.concat([targets, chunk])\n",
    "            \n",
    "    return data, targets"
   ]
  },
  {
   "cell_type": "code",
   "execution_count": 5,
   "id": "ae867b39-5094-4a9b-9f06-61d739aa2835",
   "metadata": {},
   "outputs": [],
   "source": [
    "data, targs = create_dataframes()"
   ]
  },
  {
   "cell_type": "markdown",
   "id": "fe708919-354f-4122-8e85-eb0d613a1b58",
   "metadata": {},
   "source": [
    "In general, all the reels datasets will have transactional nature. They represent events that happen in time which is explicitly given for each row. We have a client identified by some string that will be necessary to cross it with the targets dataset. And we have an event. An event is defined by the union of `(emitter, description, weight)`. This is handy to represent many situations: E.g., in a navigation dataset, the emitter could be the source webpage, the description the destination webpage. In e-commerce, the emitter could be the seller, the description the product and the numerical value the price to help distinguishing different products. \n",
    "\n",
    "In this case, we only need one to identify what the client drinks by a code that is 1 to 5 (placebo), 200 (poison) or 201 (antidote). The other two fields are not used and contain constant values."
   ]
  },
  {
   "cell_type": "code",
   "execution_count": 6,
   "id": "d55ed3d6-1f96-46cc-ad2f-6a82dcfb19cf",
   "metadata": {},
   "outputs": [
    {
     "data": {
      "text/html": [
       "<div>\n",
       "<style scoped>\n",
       "    .dataframe tbody tr th:only-of-type {\n",
       "        vertical-align: middle;\n",
       "    }\n",
       "\n",
       "    .dataframe tbody tr th {\n",
       "        vertical-align: top;\n",
       "    }\n",
       "\n",
       "    .dataframe thead th {\n",
       "        text-align: right;\n",
       "    }\n",
       "</style>\n",
       "<table border=\"1\" class=\"dataframe\">\n",
       "  <thead>\n",
       "    <tr style=\"text-align: right;\">\n",
       "      <th></th>\n",
       "      <th>emitter</th>\n",
       "      <th>description</th>\n",
       "      <th>weight</th>\n",
       "      <th>client</th>\n",
       "      <th>time</th>\n",
       "    </tr>\n",
       "  </thead>\n",
       "  <tbody>\n",
       "    <tr>\n",
       "      <th>0</th>\n",
       "      <td>click</td>\n",
       "      <td>1</td>\n",
       "      <td>1</td>\n",
       "      <td>1</td>\n",
       "      <td>2022-06-03 12:30:41</td>\n",
       "    </tr>\n",
       "    <tr>\n",
       "      <th>1</th>\n",
       "      <td>click</td>\n",
       "      <td>200</td>\n",
       "      <td>1</td>\n",
       "      <td>1</td>\n",
       "      <td>2022-06-03 17:41:16</td>\n",
       "    </tr>\n",
       "    <tr>\n",
       "      <th>2</th>\n",
       "      <td>click</td>\n",
       "      <td>5</td>\n",
       "      <td>1</td>\n",
       "      <td>1</td>\n",
       "      <td>2022-06-04 06:54:14</td>\n",
       "    </tr>\n",
       "    <tr>\n",
       "      <th>3</th>\n",
       "      <td>click</td>\n",
       "      <td>201</td>\n",
       "      <td>1</td>\n",
       "      <td>1</td>\n",
       "      <td>2022-06-05 14:01:38</td>\n",
       "    </tr>\n",
       "    <tr>\n",
       "      <th>4</th>\n",
       "      <td>click</td>\n",
       "      <td>1</td>\n",
       "      <td>1</td>\n",
       "      <td>1</td>\n",
       "      <td>2022-06-06 08:04:08</td>\n",
       "    </tr>\n",
       "    <tr>\n",
       "      <th>...</th>\n",
       "      <td>...</td>\n",
       "      <td>...</td>\n",
       "      <td>...</td>\n",
       "      <td>...</td>\n",
       "      <td>...</td>\n",
       "    </tr>\n",
       "    <tr>\n",
       "      <th>6</th>\n",
       "      <td>click</td>\n",
       "      <td>2</td>\n",
       "      <td>1</td>\n",
       "      <td>1000</td>\n",
       "      <td>2022-06-09 20:29:25</td>\n",
       "    </tr>\n",
       "    <tr>\n",
       "      <th>7</th>\n",
       "      <td>click</td>\n",
       "      <td>3</td>\n",
       "      <td>1</td>\n",
       "      <td>1000</td>\n",
       "      <td>2022-06-10 01:03:12</td>\n",
       "    </tr>\n",
       "    <tr>\n",
       "      <th>8</th>\n",
       "      <td>click</td>\n",
       "      <td>200</td>\n",
       "      <td>1</td>\n",
       "      <td>1000</td>\n",
       "      <td>2022-06-10 18:22:37</td>\n",
       "    </tr>\n",
       "    <tr>\n",
       "      <th>9</th>\n",
       "      <td>click</td>\n",
       "      <td>5</td>\n",
       "      <td>1</td>\n",
       "      <td>1000</td>\n",
       "      <td>2022-06-13 10:32:31</td>\n",
       "    </tr>\n",
       "    <tr>\n",
       "      <th>10</th>\n",
       "      <td>click</td>\n",
       "      <td>3</td>\n",
       "      <td>1</td>\n",
       "      <td>1000</td>\n",
       "      <td>2022-06-14 00:45:06</td>\n",
       "    </tr>\n",
       "  </tbody>\n",
       "</table>\n",
       "<p>6073 rows × 5 columns</p>\n",
       "</div>"
      ],
      "text/plain": [
       "   emitter  description  weight  client                 time\n",
       "0    click            1       1       1  2022-06-03 12:30:41\n",
       "1    click          200       1       1  2022-06-03 17:41:16\n",
       "2    click            5       1       1  2022-06-04 06:54:14\n",
       "3    click          201       1       1  2022-06-05 14:01:38\n",
       "4    click            1       1       1  2022-06-06 08:04:08\n",
       "..     ...          ...     ...     ...                  ...\n",
       "6    click            2       1    1000  2022-06-09 20:29:25\n",
       "7    click            3       1    1000  2022-06-10 01:03:12\n",
       "8    click          200       1    1000  2022-06-10 18:22:37\n",
       "9    click            5       1    1000  2022-06-13 10:32:31\n",
       "10   click            3       1    1000  2022-06-14 00:45:06\n",
       "\n",
       "[6073 rows x 5 columns]"
      ]
     },
     "execution_count": 6,
     "metadata": {},
     "output_type": "execute_result"
    }
   ],
   "source": [
    "data"
   ]
  },
  {
   "cell_type": "markdown",
   "id": "18f64f89-3f4e-4ad5-8313-8373c6558fa6",
   "metadata": {},
   "source": [
    "The other dataset is much simpler and only for the clients who died. It contains the client id in the same format as in the previous dataset and the date of the target event."
   ]
  },
  {
   "cell_type": "code",
   "execution_count": 7,
   "id": "32361a21-bb3b-4dc7-9f88-8db8aeffb88e",
   "metadata": {},
   "outputs": [
    {
     "data": {
      "text/html": [
       "<div>\n",
       "<style scoped>\n",
       "    .dataframe tbody tr th:only-of-type {\n",
       "        vertical-align: middle;\n",
       "    }\n",
       "\n",
       "    .dataframe tbody tr th {\n",
       "        vertical-align: top;\n",
       "    }\n",
       "\n",
       "    .dataframe thead th {\n",
       "        text-align: right;\n",
       "    }\n",
       "</style>\n",
       "<table border=\"1\" class=\"dataframe\">\n",
       "  <thead>\n",
       "    <tr style=\"text-align: right;\">\n",
       "      <th></th>\n",
       "      <th>client</th>\n",
       "      <th>time</th>\n",
       "    </tr>\n",
       "  </thead>\n",
       "  <tbody>\n",
       "    <tr>\n",
       "      <th>0</th>\n",
       "      <td>3</td>\n",
       "      <td>2022-06-19 18:06:29</td>\n",
       "    </tr>\n",
       "    <tr>\n",
       "      <th>0</th>\n",
       "      <td>5</td>\n",
       "      <td>2022-06-08 16:37:05</td>\n",
       "    </tr>\n",
       "    <tr>\n",
       "      <th>0</th>\n",
       "      <td>10</td>\n",
       "      <td>2022-06-11 09:33:39</td>\n",
       "    </tr>\n",
       "    <tr>\n",
       "      <th>0</th>\n",
       "      <td>13</td>\n",
       "      <td>2022-06-08 20:34:35</td>\n",
       "    </tr>\n",
       "    <tr>\n",
       "      <th>0</th>\n",
       "      <td>14</td>\n",
       "      <td>2022-06-15 09:36:29</td>\n",
       "    </tr>\n",
       "    <tr>\n",
       "      <th>...</th>\n",
       "      <td>...</td>\n",
       "      <td>...</td>\n",
       "    </tr>\n",
       "    <tr>\n",
       "      <th>0</th>\n",
       "      <td>985</td>\n",
       "      <td>2022-06-10 07:32:30</td>\n",
       "    </tr>\n",
       "    <tr>\n",
       "      <th>0</th>\n",
       "      <td>986</td>\n",
       "      <td>2022-06-19 16:07:48</td>\n",
       "    </tr>\n",
       "    <tr>\n",
       "      <th>0</th>\n",
       "      <td>989</td>\n",
       "      <td>2022-06-10 11:26:42</td>\n",
       "    </tr>\n",
       "    <tr>\n",
       "      <th>0</th>\n",
       "      <td>995</td>\n",
       "      <td>2022-06-09 21:59:48</td>\n",
       "    </tr>\n",
       "    <tr>\n",
       "      <th>0</th>\n",
       "      <td>1000</td>\n",
       "      <td>2022-06-16 19:30:04</td>\n",
       "    </tr>\n",
       "  </tbody>\n",
       "</table>\n",
       "<p>386 rows × 2 columns</p>\n",
       "</div>"
      ],
      "text/plain": [
       "    client                 time\n",
       "0        3  2022-06-19 18:06:29\n",
       "0        5  2022-06-08 16:37:05\n",
       "0       10  2022-06-11 09:33:39\n",
       "0       13  2022-06-08 20:34:35\n",
       "0       14  2022-06-15 09:36:29\n",
       "..     ...                  ...\n",
       "0      985  2022-06-10 07:32:30\n",
       "0      986  2022-06-19 16:07:48\n",
       "0      989  2022-06-10 11:26:42\n",
       "0      995  2022-06-09 21:59:48\n",
       "0     1000  2022-06-16 19:30:04\n",
       "\n",
       "[386 rows x 2 columns]"
      ]
     },
     "execution_count": 7,
     "metadata": {},
     "output_type": "execute_result"
    }
   ],
   "source": [
    "targs"
   ]
  },
  {
   "cell_type": "markdown",
   "id": "059d3e82-6a88-4374-879e-bd0e52dd0332",
   "metadata": {},
   "source": [
    "## The Intake class\n",
    "\n",
    "The Intake class is a data management utility. It applies the loading of data at a dataframe level to any reels object. E.g., to apply the data of a complete dataframe to a reels `Events.insert_row() method`, the intake will have an `.insert_rows()` (in plural) method. And the same for any reels object that requires data loading.\n",
    "\n",
    "The dataframe can be either a pandas or a pyspark dataframe. An Intake object can be used as many times as required. \n",
    "\n",
    "Now, we create two Intake objects for both dataframes to be used each time we need to populate an object."
   ]
  },
  {
   "cell_type": "code",
   "execution_count": 8,
   "id": "8502bc31-a710-4f25-971b-e0a2ac2c6a77",
   "metadata": {},
   "outputs": [],
   "source": [
    "intake_data  = reels.Intake(data)\n",
    "intake_targs = reels.Intake(targs)"
   ]
  },
  {
   "cell_type": "code",
   "execution_count": 9,
   "id": "bf68ad96-263f-419d-9fa7-f5c882c2ec4e",
   "metadata": {},
   "outputs": [
    {
     "data": {
      "text/plain": [
       "reels.Intake object using Pandas\n",
       "\n",
       "Column names: emitter, description, weight, client, time\n",
       "\n",
       "Shape: 6073 x 5"
      ]
     },
     "execution_count": 9,
     "metadata": {},
     "output_type": "execute_result"
    }
   ],
   "source": [
    "intake_data"
   ]
  },
  {
   "cell_type": "code",
   "execution_count": 10,
   "id": "16bf81a2-e9ef-4092-a52d-348412030163",
   "metadata": {},
   "outputs": [
    {
     "data": {
      "text/plain": [
       "reels.Intake object using Pandas\n",
       "\n",
       "Column names: client, time\n",
       "\n",
       "Shape: 386 x 2"
      ]
     },
     "execution_count": 10,
     "metadata": {},
     "output_type": "execute_result"
    }
   ],
   "source": [
    "intake_targs"
   ]
  },
  {
   "cell_type": "markdown",
   "id": "ec71c41d-5805-4ef3-b2b2-e69c1f77fe47",
   "metadata": {},
   "source": [
    "## The Events Class\n",
    "\n",
    "<img style=\"right;\" src=\"images/events.png\">\n",
    "\n",
    "An Events object is a container that keeps the definitions of every event we are interested in. Each event is stored as a mapping of `(emitter, description, weight)` into a unique \n",
    "integer code. The transactions in a file that do not represent events stored in this object will be ignored. There are many reasons to ignore transactions, including we are only interested in some manually specified events or there are millions of events and we only want to focus on, say, the most frequent ten thousand.\n",
    "\n",
    "We create an empty Events object."
   ]
  },
  {
   "cell_type": "code",
   "execution_count": 11,
   "id": "426209b3-659c-415c-9b80-90068911c79f",
   "metadata": {},
   "outputs": [],
   "source": [
    "events = reels.Events()"
   ]
  },
  {
   "cell_type": "markdown",
   "id": "cf6f6dfb-332b-437f-85d3-0dcec87deea4",
   "metadata": {},
   "source": [
    "<div class=\"alert alert-block alert-success\">\n",
    "<b>Note that:</b> This object will only store up to 1000 events, which is the default value for `max_num_events`. Otherwise, we should give that argument to the constructor.\n",
    "</div>"
   ]
  },
  {
   "cell_type": "code",
   "execution_count": 12,
   "id": "971ba60e-0b32-4f8c-b0d9-7df939f82958",
   "metadata": {},
   "outputs": [
    {
     "data": {
      "text/plain": [
       "0"
      ]
     },
     "execution_count": 12,
     "metadata": {},
     "output_type": "execute_result"
    }
   ],
   "source": [
    "events.num_events()"
   ]
  },
  {
   "cell_type": "markdown",
   "id": "adae549e-12eb-48f9-82fe-9954497729b8",
   "metadata": {},
   "source": [
    "Now, we apply the whole dataset to it using the Intake object."
   ]
  },
  {
   "cell_type": "code",
   "execution_count": 13,
   "id": "b332eae8-3b14-4caf-8e38-66339148b2aa",
   "metadata": {},
   "outputs": [],
   "source": [
    "intake_data.insert_rows(events)"
   ]
  },
  {
   "cell_type": "markdown",
   "id": "794bdf0c-1a0d-4bd6-9f3d-cf08d6d65008",
   "metadata": {},
   "source": [
    "<div class=\"alert alert-block alert-success\">\n",
    "<b>Note that:</b> The column names <b>`emitter`, `description`, `weight`</b> in the dataframe are the default names and, therefore, it is not necessary to give them. \n",
    "<br>In general, this call would have been: <b>intake_data.insert_rows(events, columns = ['x', 'y', 'z'])</b>.\n",
    "</div>"
   ]
  },
  {
   "cell_type": "markdown",
   "id": "bace43a1-ef6a-403d-976c-add4add0d0d2",
   "metadata": {},
   "source": [
    "We have explored 6K+ rows to find the 7 unique events and assign codes to them in the order in which they were found for the first time."
   ]
  },
  {
   "cell_type": "code",
   "execution_count": 14,
   "id": "675759d3-9285-4d1b-92be-1ef0a69577aa",
   "metadata": {},
   "outputs": [
    {
     "data": {
      "text/plain": [
       "reels.Events object with 7 events"
      ]
     },
     "execution_count": 14,
     "metadata": {},
     "output_type": "execute_result"
    }
   ],
   "source": [
    "events"
   ]
  },
  {
   "cell_type": "code",
   "execution_count": 15,
   "id": "da0c7dad-e0f2-4473-8d9c-2d14bf729e19",
   "metadata": {},
   "outputs": [
    {
     "name": "stdout",
     "output_type": "stream",
     "text": [
      "('click', '2', 1.0, 7)\n",
      "('click', '201', 1.0, 4)\n",
      "('click', '3', 1.0, 6)\n",
      "('click', '200', 1.0, 2)\n",
      "('click', '1', 1.0, 1)\n",
      "('click', '5', 1.0, 3)\n",
      "('click', '4', 1.0, 5)\n"
     ]
    }
   ],
   "source": [
    "for ev in events.describe_events():\n",
    "    print(ev)"
   ]
  },
  {
   "cell_type": "markdown",
   "id": "5f9b296d-9e77-4e4a-8288-d6c88f117d45",
   "metadata": {},
   "source": [
    "<div class=\"alert alert-block alert-info\">\n",
    "<b>Note 1:</b> We have done event discovery by scanning the whole dataset and were not limited in size. There were only 7 different events and we had capacity for 1000. In general, we may have to use the <b>max_num_events</b> argument of the constructor to decide how many events we want to learn.\n",
    "</div>"
   ]
  },
  {
   "cell_type": "markdown",
   "id": "56a322f5-2dda-4276-bdc6-619267241110",
   "metadata": {},
   "source": [
    "<div class=\"alert alert-block alert-info\">\n",
    "<b>Note 2:</b> Besides letting the Events object learn by scanning the whole dataset, we could have defined the events manually by either pushing them one by one using the <b>.define_event()</b> method of the events object or using the Intake's <b>.define_events()</b> method.\n",
    "</div>"
   ]
  },
  {
   "cell_type": "markdown",
   "id": "f66dda93-d0ac-4a43-8bd1-345732820b26",
   "metadata": {},
   "source": [
    "## The Clients class\n",
    "\n",
    "<img style=\"right;\" src=\"images/clients.png\">\n",
    "\n",
    "The Clients class is a filter that can be used in the following classes (Clips and Targets) to limit processing to a set of clients. This may be necessary for memory reasons since the whole processing is in-memory. We can use this class to contain a subset of all the clients and compute everything over each subset."
   ]
  },
  {
   "cell_type": "code",
   "execution_count": 16,
   "id": "36bf8cba-4c04-4507-b4d5-39598eb2d4c5",
   "metadata": {},
   "outputs": [],
   "source": [
    "clients = reels.Clients()"
   ]
  },
  {
   "cell_type": "code",
   "execution_count": 17,
   "id": "7a7c5b98-d2bd-4b0e-8ea6-9c7cb85eda6c",
   "metadata": {},
   "outputs": [
    {
     "data": {
      "text/plain": [
       "Empty reels.Clients object (Empty objects select ALL clients.)"
      ]
     },
     "execution_count": 17,
     "metadata": {},
     "output_type": "execute_result"
    }
   ],
   "source": [
    "clients"
   ]
  },
  {
   "cell_type": "markdown",
   "id": "dc3c720d-af48-4e7d-987f-966cf3c8d61e",
   "metadata": {},
   "source": [
    "<div class=\"alert alert-block alert-success\">\n",
    "<b>Note that:</b> An empty Clients object means \"for every client\". We are not going to populate this object. This could be done using the object's <b>add_client_id()</b> method.\n",
    "</div>"
   ]
  },
  {
   "cell_type": "markdown",
   "id": "e1603d5d-4a9d-4830-9832-b27a1ab6b1be",
   "metadata": {},
   "source": [
    "## The Clips class\n",
    "\n",
    "<img style=\"right;\" src=\"images/clips.png\">\n",
    "\n",
    "A **clip** is the sequence of events of one client. In a clip, the time at which the event happens and the integer code representing the event is stored.\n",
    "\n",
    "The **clips** object is a collection of clips for all the clients (or possibly a subset of them filtered using the Clients object).\n",
    "\n",
    "We create an empty object."
   ]
  },
  {
   "cell_type": "code",
   "execution_count": 18,
   "id": "c38092b3-806d-40f8-86d4-652e02241852",
   "metadata": {},
   "outputs": [],
   "source": [
    "clips = reels.Clips(clients, events)"
   ]
  },
  {
   "cell_type": "markdown",
   "id": "66cb1b58-5bd4-42cf-8998-66cc33f2fac8",
   "metadata": {},
   "source": [
    "<div class=\"alert alert-block alert-success\">\n",
    "<b>Note that:</b> We will give the time of the events to this object. If the time format is not the default <b>'%Y-%m-%d %H:%M:%S'</b>, we have to use the <b>time_format</b> argument.\n",
    "</div>"
   ]
  },
  {
   "cell_type": "code",
   "execution_count": 19,
   "id": "3e3d7475-8694-40c3-983f-7f2b31afe8a8",
   "metadata": {},
   "outputs": [
    {
     "data": {
      "text/plain": [
       "0"
      ]
     },
     "execution_count": 19,
     "metadata": {},
     "output_type": "execute_result"
    }
   ],
   "source": [
    "clips.num_clips()"
   ]
  },
  {
   "cell_type": "markdown",
   "id": "4dbe5837-16c2-4d26-ad6e-d13c6ad6ac54",
   "metadata": {},
   "source": [
    "And we populate it just as before using the Intake object."
   ]
  },
  {
   "cell_type": "code",
   "execution_count": 20,
   "id": "9163f1a9-6af6-4e78-9098-717642772863",
   "metadata": {},
   "outputs": [],
   "source": [
    "intake_data.scan_events(clips)"
   ]
  },
  {
   "cell_type": "markdown",
   "id": "1e178035-6d52-4516-b70e-da842540ea18",
   "metadata": {},
   "source": [
    "<div class=\"alert alert-block alert-success\">\n",
    "<b>Note that:</b> Again, the column names, in this case, <b>`emitter`, `description`, `weight`, 'client', 'time'</b> in the dataframe are the default names and we are not using the argument <b>columns</b>.\n",
    "</div>"
   ]
  },
  {
   "cell_type": "markdown",
   "id": "0a953d26-655d-4723-b222-9ea41146b232",
   "metadata": {},
   "source": [
    "And we can see the clips by client id."
   ]
  },
  {
   "cell_type": "code",
   "execution_count": 21,
   "id": "e8b6f85d-be5f-420c-ab6c-f9869a7fd0f5",
   "metadata": {},
   "outputs": [
    {
     "data": {
      "text/plain": [
       "reels.Clips object with 1000 clips totalling 6073 events"
      ]
     },
     "execution_count": 21,
     "metadata": {},
     "output_type": "execute_result"
    }
   ],
   "source": [
    "clips"
   ]
  },
  {
   "cell_type": "code",
   "execution_count": 22,
   "id": "7297f6b2-6dcd-48cb-ba83-cb0e61f74bd2",
   "metadata": {},
   "outputs": [
    {
     "data": {
      "text/plain": [
       "1000"
      ]
     },
     "execution_count": 22,
     "metadata": {},
     "output_type": "execute_result"
    }
   ],
   "source": [
    "clips.num_clips()"
   ]
  },
  {
   "cell_type": "code",
   "execution_count": 23,
   "id": "7c256797-3fa0-40b9-a3ed-0fe642a614da",
   "metadata": {},
   "outputs": [
    {
     "data": {
      "text/plain": [
       "[1, 2, 3, 4, 1, 5, 1, 3]"
      ]
     },
     "execution_count": 23,
     "metadata": {},
     "output_type": "execute_result"
    }
   ],
   "source": [
    "clips.describe_clip('1')"
   ]
  },
  {
   "cell_type": "code",
   "execution_count": 24,
   "id": "a1ac6701-d236-4b29-a57b-9116f230849a",
   "metadata": {},
   "outputs": [
    {
     "data": {
      "text/plain": [
       "[2, 4, 6, 7, 7, 3, 7, 6, 2, 3, 6]"
      ]
     },
     "execution_count": 24,
     "metadata": {},
     "output_type": "execute_result"
    }
   ],
   "source": [
    "clips.describe_clip('1000')"
   ]
  },
  {
   "cell_type": "code",
   "execution_count": 25,
   "id": "8c611842-63cb-4f4e-b006-59d01cec2807",
   "metadata": {},
   "outputs": [],
   "source": [
    "clips.describe_clip('1001')"
   ]
  },
  {
   "cell_type": "markdown",
   "id": "f51dabf2-762c-4cd8-b23c-b9c5f4e1817a",
   "metadata": {},
   "source": [
    "## The Targets class\n",
    "\n",
    "<img style=\"right;\" src=\"images/targets.png\">\n",
    "\n",
    "A targets object does mainly two things:\n",
    "\n",
    "  - Aggregating all the clips in a Clips object as a tree in reverse order. Note that some clips do not lead to a target event and will be stored entirely and others have a target event and all the events after it will be removed.\n",
    "  - Predicting the expected time to a hypothetical target event based on a clip using that tree learned from all the data in a Clips object.\n",
    "  \n",
    "We create a Targets object giving its constructor the populated Clips object we just created."
   ]
  },
  {
   "cell_type": "code",
   "execution_count": 26,
   "id": "7c3bce6c-535e-4b6b-9516-43d025d8e50e",
   "metadata": {},
   "outputs": [],
   "source": [
    "targets = reels.Targets(clips)"
   ]
  },
  {
   "cell_type": "markdown",
   "id": "dad93ba7-774b-4b22-9494-a21b2379eb48",
   "metadata": {},
   "source": [
    "<div class=\"alert alert-block alert-success\">\n",
    "<b>Note that:</b> We will give the time of the targets to this object. If the time format is not the default <b>'%Y-%m-%d %H:%M:%S'</b>, we have to use the <b>time_format</b> argument.\n",
    "</div>"
   ]
  },
  {
   "cell_type": "code",
   "execution_count": 27,
   "id": "7f604083-93c0-4562-99b1-8ffd2c241bba",
   "metadata": {},
   "outputs": [
    {
     "data": {
      "text/plain": [
       "reels.Targets object with 1000 clips\n",
       "\n",
       "Has no targets defined.\n",
       "\n",
       "Is not fitted."
      ]
     },
     "execution_count": 27,
     "metadata": {},
     "output_type": "execute_result"
    }
   ],
   "source": [
    "targets"
   ]
  },
  {
   "cell_type": "markdown",
   "id": "d5cc8d2a-203a-4252-b6ab-f244266bd2a7",
   "metadata": {},
   "source": [
    "It still does not contain the targets."
   ]
  },
  {
   "cell_type": "code",
   "execution_count": 28,
   "id": "d3376383-214b-4846-ab2e-980377f697ec",
   "metadata": {},
   "outputs": [
    {
     "data": {
      "text/plain": [
       "0"
      ]
     },
     "execution_count": 28,
     "metadata": {},
     "output_type": "execute_result"
    }
   ],
   "source": [
    "targets.num_targets()"
   ]
  },
  {
   "cell_type": "markdown",
   "id": "e18f0b37-ce80-444f-afad-e54ca1fd3b1e",
   "metadata": {},
   "source": [
    "And we populate it again, using the Intake. This time the intake of the targets dataframe."
   ]
  },
  {
   "cell_type": "code",
   "execution_count": 29,
   "id": "7a502135-1a37-43bb-aa55-2d4f050b8e42",
   "metadata": {},
   "outputs": [],
   "source": [
    "intake_targs.insert_targets(targets)"
   ]
  },
  {
   "cell_type": "markdown",
   "id": "71f31111-5dc3-4580-a741-e21f67cf9c26",
   "metadata": {},
   "source": [
    "<div class=\"alert alert-block alert-success\">\n",
    "<b>Note that:</b> Again, the column names, in this case, <b>'client', 'time'</b> in the dataframe are the default names and we are not using the argument <b>columns</b>.\n",
    "</div>"
   ]
  },
  {
   "cell_type": "code",
   "execution_count": 30,
   "id": "01a29f49-9ff9-410c-9838-23899baa06e4",
   "metadata": {},
   "outputs": [
    {
     "data": {
      "text/plain": [
       "386"
      ]
     },
     "execution_count": 30,
     "metadata": {},
     "output_type": "execute_result"
    }
   ],
   "source": [
    "targets.num_targets()"
   ]
  },
  {
   "cell_type": "markdown",
   "id": "2691841e-23bc-4726-9876-ac6da51f544f",
   "metadata": {},
   "source": [
    "We have everything, but we have not yet fitted the model. The tree has just one root node with no clip information."
   ]
  },
  {
   "cell_type": "code",
   "execution_count": 31,
   "id": "5d87ea1f-6b38-4164-a83a-ad8f10d25ca2",
   "metadata": {},
   "outputs": [
    {
     "data": {
      "text/plain": [
       "reels.Targets object with 1000 clips\n",
       "\n",
       "Has 386 targets.\n",
       "\n",
       "Is not fitted."
      ]
     },
     "execution_count": 31,
     "metadata": {},
     "output_type": "execute_result"
    }
   ],
   "source": [
    "targets"
   ]
  },
  {
   "cell_type": "code",
   "execution_count": 32,
   "id": "42f060c9-23e6-44a1-9848-8be8a145af73",
   "metadata": {},
   "outputs": [
    {
     "data": {
      "text/plain": [
       "(0, 0, 0.0, 0)"
      ]
     },
     "execution_count": 32,
     "metadata": {},
     "output_type": "execute_result"
    }
   ],
   "source": [
    "targets.describe_tree_node(0)"
   ]
  },
  {
   "cell_type": "markdown",
   "id": "981f1f7f-6fd4-48b9-8480-3e4ee3c69016",
   "metadata": {},
   "source": [
    "To build the tree, we call (just once per Targets object) the .fit() method."
   ]
  },
  {
   "cell_type": "code",
   "execution_count": 33,
   "id": "8d509f3d-6c65-41d0-b40c-80dce471398f",
   "metadata": {},
   "outputs": [
    {
     "data": {
      "text/plain": [
       "True"
      ]
     },
     "execution_count": 33,
     "metadata": {},
     "output_type": "execute_result"
    }
   ],
   "source": [
    "targets.fit()"
   ]
  },
  {
   "cell_type": "markdown",
   "id": "9be84638-ed96-4839-b144-c151b893b95f",
   "metadata": {},
   "source": [
    "<div class=\"alert alert-block alert-success\">\n",
    "<b>Note that:</b> We are using default hyperparameters. The arguments <b>x_form, agg, p, depth</b> and <b>as_states</b> are described below under \"How prediction works\".\n",
    "</div>"
   ]
  },
  {
   "cell_type": "markdown",
   "id": "fda25542-1288-4e9d-9b98-f9c59f453e2a",
   "metadata": {},
   "source": [
    "Now, we have a root tree node containing information.\n",
    "\n",
    "The first value, 1000, is the number of visits (which is the number of total clips), the second is the number of targets (the number of rows in the targs dataset), the third is a global time to target aggregation (without any particular sequence since it is the root node). The final 7, is the number of children the node has (one for each event code)."
   ]
  },
  {
   "cell_type": "code",
   "execution_count": 34,
   "id": "0df88cc9-1c54-483a-b263-499dda54a9a8",
   "metadata": {},
   "outputs": [
    {
     "data": {
      "text/plain": [
       "reels.Targets object with 1000 clips\n",
       "\n",
       "Has 386 targets.\n",
       "\n",
       "Is fitted with 1000 clips."
      ]
     },
     "execution_count": 34,
     "metadata": {},
     "output_type": "execute_result"
    }
   ],
   "source": [
    "targets"
   ]
  },
  {
   "cell_type": "code",
   "execution_count": 35,
   "id": "88d65991-4488-4668-a648-5f3c67c476fe",
   "metadata": {},
   "outputs": [
    {
     "data": {
      "text/plain": [
       "(1000, 386, 4621.202282, 7)"
      ]
     },
     "execution_count": 35,
     "metadata": {},
     "output_type": "execute_result"
    }
   ],
   "source": [
    "targets.describe_tree_node(0)"
   ]
  },
  {
   "cell_type": "markdown",
   "id": "4c7b7aa2-d1f1-47c2-a483-faa73f357dbc",
   "metadata": {},
   "source": [
    "If we wanted to see the codes corresponding to its children we could:"
   ]
  },
  {
   "cell_type": "code",
   "execution_count": 36,
   "id": "655442d5-c7fb-46c9-85d2-70840dd24a76",
   "metadata": {},
   "outputs": [
    {
     "data": {
      "text/plain": [
       "[1, 2, 3, 4, 5, 6, 7]"
      ]
     },
     "execution_count": 36,
     "metadata": {},
     "output_type": "execute_result"
    }
   ],
   "source": [
    "targets.tree_node_children(0)"
   ]
  },
  {
   "cell_type": "markdown",
   "id": "14a52af8-b84d-44e3-97ca-3b6ea6250280",
   "metadata": {},
   "source": [
    "If we wanted to see which code corresponds to the antidote, since the dataset is random and codes are assigned in random order, we call it `code_antidote`:"
   ]
  },
  {
   "cell_type": "code",
   "execution_count": 37,
   "id": "5e28462b-e4d2-4574-86cd-e7bfd6392c9d",
   "metadata": {},
   "outputs": [],
   "source": [
    "for ev_tup in events.describe_events():\n",
    "    _, ev, _, code = ev_tup\n",
    "    if ev == '201':\n",
    "        code_antidote = code"
   ]
  },
  {
   "cell_type": "markdown",
   "id": "8e9dc5f6-5ee9-4b7f-a43a-e5ba9d2a6df8",
   "metadata": {},
   "source": [
    "We can access it by asking the tree what is the index of the child `code_antidote` of the root node. I.e., `targets.tree_node_idx(0, code_antidote)` and confirm that it has no targets. It is impossible to die immediately after taking the antidote the way the simulation works."
   ]
  },
  {
   "cell_type": "code",
   "execution_count": 38,
   "id": "a7dad36a-d170-4bd7-926a-4613c4304cdb",
   "metadata": {},
   "outputs": [
    {
     "data": {
      "text/plain": [
       "(28, 0, 0.0, 6)"
      ]
     },
     "execution_count": 38,
     "metadata": {},
     "output_type": "execute_result"
    }
   ],
   "source": [
    "targets.describe_tree_node(targets.tree_node_idx(0, code_antidote))"
   ]
  },
  {
   "cell_type": "markdown",
   "id": "ec5c180a-fce2-4b88-b5f3-ac6a06f5f216",
   "metadata": {},
   "source": [
    "### Making predictions"
   ]
  },
  {
   "cell_type": "markdown",
   "id": "b7a26508-1e84-43ea-9a14-f5c26dc43192",
   "metadata": {},
   "source": [
    "To get predictions as the time to the expected target event, you just have to bear in mind that targets.predict_clips(clips) will give you an iterator. \n",
    "\n",
    "You can just convert them into a list."
   ]
  },
  {
   "cell_type": "code",
   "execution_count": 39,
   "id": "a3c1ae12-5f57-4563-abb7-924ff85e7ba9",
   "metadata": {},
   "outputs": [],
   "source": [
    "T = list(targets.predict_clips(clips))"
   ]
  },
  {
   "cell_type": "markdown",
   "id": "841f703f-56b0-4a64-b8e1-1a9c9cd661d4",
   "metadata": {},
   "source": [
    "And see the first 5:"
   ]
  },
  {
   "cell_type": "code",
   "execution_count": 40,
   "id": "79994054-3201-46a8-95d0-eaf4a27d4163",
   "metadata": {},
   "outputs": [
    {
     "data": {
      "text/plain": [
       "[189851.88139856473,\n",
       " 331699.56730975,\n",
       " 406802.11923933687,\n",
       " 66487.28137370583,\n",
       " 290693.62613969203]"
      ]
     },
     "execution_count": 40,
     "metadata": {},
     "output_type": "execute_result"
    }
   ],
   "source": [
    "T[0:5]"
   ]
  },
  {
   "cell_type": "markdown",
   "id": "b4c45ba7-878d-470c-9be4-bd87e66e2ed9",
   "metadata": {},
   "source": [
    "A more realistic approach would be treating the time as a score (the lower, the more likely) of the event happening. We want to verify that this prediction has a strong signal, despite being built of top of very random sequences, over a not very large dataset, etc.\n",
    "\n",
    "To verify that, we need to have a ground truth and compare both. Let's do it without cross validation first and then with cross validation.\n",
    "\n",
    "We create a simple utility function that we will re-use later."
   ]
  },
  {
   "cell_type": "code",
   "execution_count": 41,
   "id": "7a6d67ba-31f8-407c-95c2-ea5146443602",
   "metadata": {},
   "outputs": [],
   "source": [
    "def analyze(targets, clips, targs):\n",
    "    target_hashes = set([clients.hash_client_id(str(id)) for id in targs.client])  # This is the set of all the clients who are targets\n",
    "    Y_obs = [int(hh in target_hashes) for hh in clips.clips_client_hashes()]       # This is the observed target/no_target for all the clients\n",
    "    \n",
    "    T = [t for t in targets.predict_clips(clips)]                                  # These are the predicted times\n",
    "    \n",
    "    t_copy = T.copy()\n",
    "    t_copy.sort()\n",
    "    t_cut = t_copy[sum(Y_obs)]                                                     # t_cut is a cutting time that generates the same number of targets.\n",
    "    \n",
    "    Y_pred = [int(t <= t_cut) for t in T]                                          # This is the predicted target/no_target for all the clients\n",
    "    \n",
    "    x_tab = pd.crosstab(pd.array(Y_obs), pd.array(Y_pred), rownames = ['Obs'], colnames = ['Pred'])\n",
    "    \n",
    "    acc    = metrics.accuracy_score(Y_obs, Y_pred)                                 # We compute basic metrics\n",
    "    prec   = metrics.precision_score(Y_obs, Y_pred)\n",
    "    f1     = metrics.f1_score(Y_obs, Y_pred)\n",
    "\n",
    "    print(x_tab)\n",
    "    print('Accuracy: %.3f, precision: %.3f, f1-score: %.3f' % (acc, prec, f1))"
   ]
  },
  {
   "cell_type": "markdown",
   "id": "3d41ba0a-d7d0-4088-b57d-d9982b05d8b1",
   "metadata": {},
   "source": [
    "We observe that the model captures a lot of structure from small and random data."
   ]
  },
  {
   "cell_type": "code",
   "execution_count": 42,
   "id": "dea038a4-c22e-4771-8cef-5135ad29b1f7",
   "metadata": {},
   "outputs": [
    {
     "name": "stdout",
     "output_type": "stream",
     "text": [
      "Pred    0    1\n",
      "Obs           \n",
      "0     525   89\n",
      "1      86  300\n",
      "Accuracy: 0.825, precision: 0.771, f1-score: 0.774\n"
     ]
    }
   ],
   "source": [
    "analyze(targets, clips, targs)"
   ]
  },
  {
   "cell_type": "markdown",
   "id": "7c5ad5e7-3b3b-4b9d-b8b7-3e85edafa960",
   "metadata": {},
   "source": [
    "### Making predictions over a different dataset (cross-validation)\n",
    "\n",
    "Now, we build two new smaller testing datasets."
   ]
  },
  {
   "cell_type": "code",
   "execution_count": 43,
   "id": "dab9df6b-be28-48d0-b326-1b94c82ec2f6",
   "metadata": {},
   "outputs": [],
   "source": [
    "test_data, test_targs = create_dataframes(500)"
   ]
  },
  {
   "cell_type": "markdown",
   "id": "dc4ffe80-6531-4b38-9ebf-21b95d108a10",
   "metadata": {},
   "source": [
    "We need a new Clips object that builds new clips using the test dataset."
   ]
  },
  {
   "cell_type": "code",
   "execution_count": 44,
   "id": "796d183c-e28e-4c89-a900-1bee343d7c05",
   "metadata": {},
   "outputs": [],
   "source": [
    "test_clips = reels.Clips(clients, events)"
   ]
  },
  {
   "cell_type": "markdown",
   "id": "1e36f375-4f32-4f40-b59e-8c85e67ae8c3",
   "metadata": {},
   "source": [
    "<div class=\"alert alert-block alert-warning\">\n",
    "<b>Important:</b> We need the events dataset to be the same as before because it contains the conversion from events to codes. If we learned a new one, we would learn the events in a different order and the code would change. That would make the model useless.\n",
    "</div>"
   ]
  },
  {
   "cell_type": "markdown",
   "id": "2262f88c-3ad5-4929-b745-d77d566e94c3",
   "metadata": {},
   "source": [
    "We populate it with a one-use-only Intake."
   ]
  },
  {
   "cell_type": "code",
   "execution_count": 45,
   "id": "26f09b0b-bc4d-48e2-98a7-81baa1805310",
   "metadata": {},
   "outputs": [],
   "source": [
    "reels.Intake(test_data).scan_events(test_clips)"
   ]
  },
  {
   "cell_type": "markdown",
   "id": "8edc9369-fd4e-4e5b-8c96-76cdd81894c2",
   "metadata": {},
   "source": [
    "And we obtain a prediction that is, as expected, worse than the previous one, but still captures structure on a small random dataset."
   ]
  },
  {
   "cell_type": "code",
   "execution_count": 46,
   "id": "3ae2dcc0-49c5-4446-9f71-5da92bf1400e",
   "metadata": {},
   "outputs": [
    {
     "name": "stdout",
     "output_type": "stream",
     "text": [
      "Pred    0   1\n",
      "Obs          \n",
      "0     254  77\n",
      "1      73  96\n",
      "Accuracy: 0.700, precision: 0.555, f1-score: 0.561\n"
     ]
    }
   ],
   "source": [
    "analyze(targets, test_clips, test_targs)"
   ]
  },
  {
   "cell_type": "markdown",
   "id": "5b3c8eaa-8e0e-45dd-887c-9ffe52f74bc7",
   "metadata": {},
   "source": [
    "## How prediction works\n",
    "\n",
    "Now we will have a closer look at how the prediction works and explain the different parameters that can be passed to `fit()`."
   ]
  },
  {
   "cell_type": "markdown",
   "id": "03263015-7b07-40a5-96a6-73daf8196741",
   "metadata": {},
   "source": [
    "### Aggregating the different possible matches\n",
    "\n",
    "If we are predicting a sequence that ends with the events `NF, w, x, y, z` where NF means **not found**. The tree just contains (in reverse order, remember) a root node that has a child `z`, that has a child `y` ... `x` ... `w` that does not have a child `NF`. Therefore, we can match the sequences: `..., w, x, y, z`, `..., x, y, z`, `..., y, z` and `..., z`. Each of them has data on how many times it was seen, how many times a target event follows and how long after the event the target event happened.\n",
    "\n",
    "Each of these sequences can make a prediction. So, how do we combine those predictions into a single value?\n",
    "\n",
    "This is what the argument `agg` does."
   ]
  },
  {
   "cell_type": "code",
   "execution_count": 47,
   "id": "0f362dd7-b25e-47b1-8618-92ed85383318",
   "metadata": {},
   "outputs": [],
   "source": [
    "new_targets = reels.Targets(clips)\n",
    "intake_targs.insert_targets(new_targets)"
   ]
  },
  {
   "cell_type": "markdown",
   "id": "3fb21516-9e0c-4c42-b2c5-9ce5c8e8d6ac",
   "metadata": {},
   "source": [
    "In two lines, we created a populated new_targets object.\n",
    "\n",
    "Let's take the prediction from the longest possible sequence (which is the most specific, but also the one with smallest sample size)."
   ]
  },
  {
   "cell_type": "code",
   "execution_count": 48,
   "id": "095745f2-9273-4505-a229-03912f102f4e",
   "metadata": {},
   "outputs": [
    {
     "data": {
      "text/plain": [
       "True"
      ]
     },
     "execution_count": 48,
     "metadata": {},
     "output_type": "execute_result"
    }
   ],
   "source": [
    "new_targets.fit(agg = 'longest')"
   ]
  },
  {
   "cell_type": "markdown",
   "id": "34641bf8-27d2-4fdb-ad6f-b1c8e65564fb",
   "metadata": {},
   "source": [
    "<div class=\"alert alert-block alert-success\">\n",
    "    <b>Note that:</b> The argument <b>agg</b> can also be set to <b>'mean'</b> or <b>'minimax'</b>. The former averages all the predictions and the latter returns the min() of all. This is intended to be combined with an upper confidence bound based on evidence (sample size). The parameter value is called 'minimax' to remind that it should be combined with an upper bound.\n",
    "</div>"
   ]
  },
  {
   "cell_type": "code",
   "execution_count": 49,
   "id": "ed77051b-4371-4e0c-8097-6f5452dcf325",
   "metadata": {},
   "outputs": [
    {
     "name": "stdout",
     "output_type": "stream",
     "text": [
      "Pred    0    1\n",
      "Obs           \n",
      "0     525   89\n",
      "1      86  300\n",
      "Accuracy: 0.825, precision: 0.771, f1-score: 0.774\n"
     ]
    }
   ],
   "source": [
    "analyze(targets, clips, targs)"
   ]
  },
  {
   "cell_type": "markdown",
   "id": "97d354b4-78ee-48db-96f9-0c252e708388",
   "metadata": {},
   "source": [
    "And we can compare the previous result (we repeat it here) with that of the new model. We should observe some improvement because in this dataset the longer clips are more informative since they are more likely to contain the poison/antidote events."
   ]
  },
  {
   "cell_type": "code",
   "execution_count": 50,
   "id": "5f78cf1c-62da-4a7e-aae3-0ed725dd5c0e",
   "metadata": {},
   "outputs": [
    {
     "name": "stdout",
     "output_type": "stream",
     "text": [
      "Pred    0    1\n",
      "Obs           \n",
      "0     546   68\n",
      "1      67  319\n",
      "Accuracy: 0.865, precision: 0.824, f1-score: 0.825\n"
     ]
    }
   ],
   "source": [
    "analyze(new_targets, clips, targs)"
   ]
  },
  {
   "cell_type": "markdown",
   "id": "399026a3-f30e-4289-b24b-a3da33a4b7ab",
   "metadata": {},
   "source": [
    "### Zooming into the prediction details \n",
    "\n",
    "There are two fundamental ideas that we have to keep in mind.\n",
    "\n",
    "#### We only have the \"time to target\" for the targets\n",
    "\n",
    "This is obvious, but still important to bear in mind. In survival analysis when we observe failures of lightbulbs, the lightbulbs that do not fail during our study are **not expected to work forever**.\n",
    "\n",
    "**The Poisson distribution** expresses the probability of a given number of events occurring with a known constant mean rate. Our predictions will assign time estimates to the **non targets** according to this principle, because it is the simplest possible assumption.\n",
    "\n",
    "This translates in: If we had 40% of targets happening 1 hour after the sequence, the non targets would have a prediction time accordingly longer than one hour, but shorter than if the same targets would have been 4% instead of 40%.\n",
    "\n",
    "#### \"Targets vs. non targets\" is a binomial proportion\n",
    "\n",
    "If we observe 3 targets out of 7, we have much less evidence than if we observe 300 out of 700 even if the maximum likelihood estimate (3/7) is the same in both cases. A better estimate, if we consider that the target is a risk, would be an upper confidence bound for the binomial proportion. Reels implements the Agresti-Coull upper bound for a given probability `p`. In that case, the upper bound would be much higher for 3 of 7 than for 300 of 700.\n",
    "\n",
    "<center><img src=\"images/bounds_small.png\"/></center>\n",
    "\n",
    "**The parameter `p`** controls how the upper bound (UB in the picture) is given for an Agresti-Coull confidence interval. The resulting proportion (targets vs. no targets) controls how the prediction is blending the non targets (Poisson distribution) and the targets (observed time). \n",
    "<div class=\"alert alert-block alert-info\">\n",
    "    <b>Note:</b> By setting <b>p = 0</b> we remove the confidence interval and the estimate will be exactly <b>(number of observed targets)/(number of observed)</b>.\n",
    "</div>"
   ]
  },
  {
   "cell_type": "code",
   "execution_count": 51,
   "id": "b29fc7b2-72ed-4b62-8a69-e1e2c3b2c9d6",
   "metadata": {},
   "outputs": [],
   "source": [
    "new_targets = reels.Targets(clips)\n",
    "intake_targs.insert_targets(new_targets)"
   ]
  },
  {
   "cell_type": "markdown",
   "id": "7714a5cb-0afe-47c1-a46c-0b1fba544420",
   "metadata": {},
   "source": [
    "Let's play with `p`. Again, we populate a new targets object."
   ]
  },
  {
   "cell_type": "code",
   "execution_count": 52,
   "id": "e27a235d-7675-4320-923a-21bf71e30dcf",
   "metadata": {},
   "outputs": [
    {
     "data": {
      "text/plain": [
       "True"
      ]
     },
     "execution_count": 52,
     "metadata": {},
     "output_type": "execute_result"
    }
   ],
   "source": [
    "new_targets.fit(agg = 'longest', p = 0)"
   ]
  },
  {
   "cell_type": "markdown",
   "id": "e23084e3-7161-45ce-b4b9-cb263f3770c1",
   "metadata": {},
   "source": [
    "And we notice even more improvement. \n",
    "\n",
    "(Note that we are overfitting to the training set. This is just a play on the parameters. Removing the confidence intervals is giving us the original times more accurately.)"
   ]
  },
  {
   "cell_type": "code",
   "execution_count": 53,
   "id": "e9958051-4671-40a4-8f01-84ade4d27b1f",
   "metadata": {},
   "outputs": [
    {
     "name": "stdout",
     "output_type": "stream",
     "text": [
      "Pred    0    1\n",
      "Obs           \n",
      "0     581   33\n",
      "1      32  354\n",
      "Accuracy: 0.935, precision: 0.915, f1-score: 0.916\n"
     ]
    }
   ],
   "source": [
    "analyze(new_targets, clips, targs)"
   ]
  },
  {
   "cell_type": "markdown",
   "id": "42873e81-5493-4e4e-883e-5903243a7e21",
   "metadata": {},
   "source": [
    "### More fit() parameters: x_form\n",
    "\n",
    "This parameter controls if a `log()` transformation should be applied to the times (default value, `x_form = 'log'`) or not (`x_form = 'linear'`). If applied, the predicted times will also be applied the corresponding `exp()` transformation so that they are expressed in the same units.  "
   ]
  },
  {
   "cell_type": "code",
   "execution_count": 54,
   "id": "db9f04bd-d09d-46f8-9344-1edf01a0cef2",
   "metadata": {},
   "outputs": [],
   "source": [
    "new_targets = reels.Targets(clips)\n",
    "intake_targs.insert_targets(new_targets)"
   ]
  },
  {
   "cell_type": "code",
   "execution_count": 55,
   "id": "756332ae-018e-4c37-b21c-135ca3c903f4",
   "metadata": {},
   "outputs": [
    {
     "data": {
      "text/plain": [
       "True"
      ]
     },
     "execution_count": 55,
     "metadata": {},
     "output_type": "execute_result"
    }
   ],
   "source": [
    "new_targets.fit(agg = 'longest', p = 0, x_form = 'linear')"
   ]
  },
  {
   "cell_type": "markdown",
   "id": "f6165fc0-9115-42e1-9271-6745edd1033b",
   "metadata": {},
   "source": [
    "Again, we could see some improvement by returning the overfitted times with more accuracy."
   ]
  },
  {
   "cell_type": "code",
   "execution_count": 56,
   "id": "ef84a65a-0538-4952-a3ed-fa3f40d6e3d4",
   "metadata": {},
   "outputs": [
    {
     "name": "stdout",
     "output_type": "stream",
     "text": [
      "Pred    0    1\n",
      "Obs           \n",
      "0     583   31\n",
      "1      30  356\n",
      "Accuracy: 0.939, precision: 0.920, f1-score: 0.921\n"
     ]
    }
   ],
   "source": [
    "analyze(new_targets, clips, targs)"
   ]
  },
  {
   "cell_type": "markdown",
   "id": "f7bf18bf-c019-4af6-ba42-3d93a54283ae",
   "metadata": {},
   "source": [
    "### More fit() parameters: depth\n",
    "\n",
    "This parameter sets the maximum depth of the tree and, therefore, the maximum length of the sequences that are learnt.\n"
   ]
  },
  {
   "cell_type": "code",
   "execution_count": 57,
   "id": "033765d2-37c0-4b6d-91e3-cd410d3a7abb",
   "metadata": {},
   "outputs": [],
   "source": [
    "new_targets = reels.Targets(clips)\n",
    "intake_targs.insert_targets(new_targets)"
   ]
  },
  {
   "cell_type": "code",
   "execution_count": 58,
   "id": "fd3ffd57-da1c-4db4-88be-4e54f579e4b7",
   "metadata": {},
   "outputs": [
    {
     "data": {
      "text/plain": [
       "True"
      ]
     },
     "execution_count": 58,
     "metadata": {},
     "output_type": "execute_result"
    }
   ],
   "source": [
    "new_targets.fit(agg = 'longest', p = 0, x_form = 'linear', depth = 3)"
   ]
  },
  {
   "cell_type": "markdown",
   "id": "98cb815a-18cf-4933-84be-9a2600026b42",
   "metadata": {},
   "source": [
    "By limiting the sequence length to 3, we see a large drop in performance."
   ]
  },
  {
   "cell_type": "code",
   "execution_count": 59,
   "id": "c71363de-e4ae-4c48-aa87-9dc5407bf2f9",
   "metadata": {},
   "outputs": [
    {
     "name": "stdout",
     "output_type": "stream",
     "text": [
      "Pred    0    1\n",
      "Obs           \n",
      "0     516   98\n",
      "1      93  293\n",
      "Accuracy: 0.809, precision: 0.749, f1-score: 0.754\n"
     ]
    }
   ],
   "source": [
    "analyze(new_targets, clips, targs)"
   ]
  },
  {
   "cell_type": "markdown",
   "id": "b3d3b088-c8ff-4068-8516-685e324ef199",
   "metadata": {},
   "source": [
    "### More fit() parameters: as_states\n",
    "\n",
    "In some cases, it may be good to treat the events as states. I.e., **removing consecutive identical events**. Instead of an event in time, we consider the event as a state that does not change until a **different** event changes the state.\n",
    "\n",
    "Reels supports doing this automatically. Just set `as_states = True` and events will be treated as states."
   ]
  },
  {
   "cell_type": "code",
   "execution_count": 60,
   "id": "afedc042-0ff2-41a2-9143-6d085de8b185",
   "metadata": {},
   "outputs": [],
   "source": [
    "new_targets = reels.Targets(clips)\n",
    "intake_targs.insert_targets(new_targets)"
   ]
  },
  {
   "cell_type": "code",
   "execution_count": 61,
   "id": "a39261f6-3314-4213-8694-c511926db80d",
   "metadata": {},
   "outputs": [
    {
     "data": {
      "text/plain": [
       "True"
      ]
     },
     "execution_count": 61,
     "metadata": {},
     "output_type": "execute_result"
    }
   ],
   "source": [
    "new_targets.fit(agg = 'longest', p = 0, x_form = 'linear', as_states = True)"
   ]
  },
  {
   "cell_type": "markdown",
   "id": "0ae5d2cf-c3c7-433a-bbe4-63e227161417",
   "metadata": {},
   "source": [
    "Again, we create a new targets and fit it setting `as_states = True`. The previous best performance is not reached this time. "
   ]
  },
  {
   "cell_type": "code",
   "execution_count": 62,
   "id": "35f1b7ea-87d4-4124-b968-d0fc01a7b6d2",
   "metadata": {},
   "outputs": [
    {
     "name": "stdout",
     "output_type": "stream",
     "text": [
      "Pred    0    1\n",
      "Obs           \n",
      "0     529   85\n",
      "1      84  302\n",
      "Accuracy: 0.831, precision: 0.780, f1-score: 0.781\n"
     ]
    }
   ],
   "source": [
    "analyze(new_targets, clips, targs)"
   ]
  },
  {
   "cell_type": "markdown",
   "id": "ce6ce685-c4f8-48c6-b288-51fc9e883c84",
   "metadata": {},
   "source": [
    "<div class=\"alert alert-block alert-info\">\n",
    "    <b>Note:</b> In all our examples we have been using the <b>predict_clips()</b> method that makes predictions based on clips. Besides that method, there is a \n",
    "<b>predict_clients()</b> that makes predictions based on client ids stored in a Clients object. For it to work, the clients must be part of the Clips object passed to the constructor where their clips can be found.\n",
    "</div>"
   ]
  },
  {
   "cell_type": "markdown",
   "id": "0b47c0ef-7041-406b-89d2-a8874665a167",
   "metadata": {},
   "source": [
    "## What's next?\n",
    "\n",
    "<img style=\"float: left;\" src=\"images/reels_small.png\"> Now, you can also check the **reels_event_optimization** tutorial to dive deeper into reels!\n"
   ]
  }
 ],
 "metadata": {
  "kernelspec": {
   "display_name": "Python 3 (ipykernel)",
   "language": "python",
   "name": "python3"
  },
  "language_info": {
   "codemirror_mode": {
    "name": "ipython",
    "version": 3
   },
   "file_extension": ".py",
   "mimetype": "text/x-python",
   "name": "python",
   "nbconvert_exporter": "python",
   "pygments_lexer": "ipython3",
   "version": "3.10.6"
  },
  "vscode": {
   "interpreter": {
    "hash": "767d51c1340bd893661ea55ea3124f6de3c7a262a8b4abca0554b478b1e2ff90"
   }
  }
 },
 "nbformat": 4,
 "nbformat_minor": 5
}
