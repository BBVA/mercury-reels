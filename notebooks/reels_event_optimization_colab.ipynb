{
  "cells": [
    {
      "cell_type": "markdown",
      "metadata": {
        "id": "view-in-github",
        "colab_type": "text"
      },
      "source": [
        "<a href=\"https://colab.research.google.com/github/BBVA/mercury-reels/blob/master/notebooks/reels_event_optimization_colab.ipynb\" target=\"_parent\"><img src=\"https://colab.research.google.com/assets/colab-badge.svg\" alt=\"Open In Colab\"/></a>"
      ]
    },
    {
      "cell_type": "markdown",
      "id": "96a24c8a-dede-4658-bccd-0db87cff718b",
      "metadata": {
        "id": "96a24c8a-dede-4658-bccd-0db87cff718b"
      },
      "source": [
        "# REELS: Event optimizer\n",
        "\n",
        "<img style=\"float: right;\" src=\"https://raw.githubusercontent.com/BBVA/mercury-reels/master/notebooks/images/piece-puzzle.jpg\">"
      ]
    },
    {
      "cell_type": "markdown",
      "id": "51496d5b-babc-45be-ad69-1e5ae66f619e",
      "metadata": {
        "id": "51496d5b-babc-45be-ad69-1e5ae66f619e"
      },
      "source": [
        "## Prerequisite!!\n",
        "\n",
        "<img style=\"float: left;\" src=\"https://raw.githubusercontent.com/BBVA/mercury-reels/master/notebooks/images/reels_small.png\"> You should complete the **reels_walkthrough** tutorial before starting with this one!\n"
      ]
    },
    {
      "cell_type": "markdown",
      "id": "91eb2c80-55e0-4273-86df-ba874e922a8c",
      "metadata": {
        "id": "91eb2c80-55e0-4273-86df-ba874e922a8c"
      },
      "source": [
        "## Imports\n",
        "\n",
        "We will use some standard packages in this notebook that we include here."
      ]
    },
    {
      "cell_type": "code",
      "execution_count": 1,
      "id": "81db30db-071c-450d-a5d9-c63a2bed201a",
      "metadata": {
        "id": "81db30db-071c-450d-a5d9-c63a2bed201a"
      },
      "outputs": [],
      "source": [
        "import random, time, io\n",
        "\n",
        "import pandas as pd\n",
        "\n",
        "from sklearn import metrics"
      ]
    },
    {
      "cell_type": "markdown",
      "id": "3bc0b29a-ed11-4ebe-b00d-53b8f25d6d8c",
      "metadata": {
        "id": "3bc0b29a-ed11-4ebe-b00d-53b8f25d6d8c"
      },
      "source": [
        "Now, we import reels."
      ]
    },
    {
      "cell_type": "code",
      "execution_count": null,
      "id": "c79e7af0-9ac6-41b3-ad02-bc10fc2e4113",
      "metadata": {
        "id": "c79e7af0-9ac6-41b3-ad02-bc10fc2e4113"
      },
      "outputs": [],
      "source": [
        "try:\n",
        "    import reels\n",
        "\n",
        "except ModuleNotFoundError:\n",
        "    !pip install mercury-reels\n",
        "\n",
        "    import reels"
      ]
    },
    {
      "cell_type": "markdown",
      "id": "3dea1aee-d4da-44e0-b812-c18e8147df17",
      "metadata": {
        "id": "3dea1aee-d4da-44e0-b812-c18e8147df17"
      },
      "source": [
        "Additionally, we can verify that we are using the right version. (This notebook requires at least a version 1.3.1.)"
      ]
    },
    {
      "cell_type": "code",
      "execution_count": 3,
      "id": "88ac35a4-e588-409d-9ea9-fa9d188891be",
      "metadata": {
        "tags": [],
        "colab": {
          "base_uri": "https://localhost:8080/",
          "height": 35
        },
        "id": "88ac35a4-e588-409d-9ea9-fa9d188891be",
        "outputId": "e2fe40a1-6861-437f-a3ce-5594850d7607"
      },
      "outputs": [
        {
          "output_type": "execute_result",
          "data": {
            "text/plain": [
              "'1.4.1'"
            ],
            "application/vnd.google.colaboratory.intrinsic+json": {
              "type": "string"
            }
          },
          "metadata": {},
          "execution_count": 3
        }
      ],
      "source": [
        "reels.__version__"
      ]
    },
    {
      "cell_type": "markdown",
      "id": "2ab33474-96c4-4c32-9533-d28df463adfa",
      "metadata": {
        "id": "2ab33474-96c4-4c32-9533-d28df463adfa"
      },
      "source": [
        "## The problem Event Optimization solves!\n",
        "\n",
        "Real datasets possibly have hundreds of millions of transactions, millions of clients and thousands of event codes. Reels usually works just fine in those conditions.\n",
        "\n",
        "On top of that, there may be additional complications:\n",
        "\n",
        "  - Sequences for each client are typically very long (over 100 events).\n",
        "  - We want to predict a target that is extremely unbalanced, like in fraud applications where only 1 in 10,000 clients are targets.\n",
        "\n",
        "Fitting the data will result in way too many sequences being seen just once in the dataset. That will result in extreme overfitting to the point that the model will be of very limited use when applied to unseen data. \n",
        "\n",
        "### What is the \"magical solution\" to that\n",
        "\n",
        "In these conditions, we will typically fit the model with the `as_states` argument of `Targets.fit()` set to true. If, rather than having 30,000 event codes, we could \n",
        "\"magically\" select the 20 codes that are relevant to predicting the target and assign a dummy code to all the rest, we would benefit of both:\n",
        "\n",
        "  - The sequences becoming much shorter (as states)\n",
        "  - The sequences being much less unique\n",
        "  \n",
        "That produces a much smaller tree with many more visits per node that will generalize much better to unseen data.\n",
        "\n",
        "### What is the \"practical solution\" to that\n",
        "\n",
        "Needless to say, it is hard to \"magically\" find **the 20** codes. When we limit the discovery of codes by setting the `max_num_events` argument when constructing `Events` objects, we are only limiting the event to the most **frequently seen** in the dataset, **not necessarily relevant** to any prediction.\n",
        "\n",
        "The good news is: we may find a set of 200 codes that includes 15 of them that works almost as well as the \"perfect\" fit.\n",
        "\n",
        "And we can do that, if we are lucky, by calling an automatic search with default parameters. More likely, it will happen using the tools the **event optimizer** provides to better understand the problem and manually including and excluding sets of codes from the model.\n",
        "\n",
        "### The quest for \"The Dictionary\"\n",
        "\n",
        "Summarizing, we want to find a dictionary that maps thousands of codes in an **Events** object into tenths of relevant codes.\n",
        "\n",
        "This notebook provides examples to understand how to discover and apply that dictionary."
      ]
    },
    {
      "cell_type": "markdown",
      "id": "113ad3c0-88a5-41c1-b15d-0f062f08d1c3",
      "metadata": {
        "id": "113ad3c0-88a5-41c1-b15d-0f062f08d1c3"
      },
      "source": [
        "## The dataset\n",
        "\n",
        "This synthetic dataset is \"loosely based\" on a real BBVA web navigation dataset. The original dataset cannot be used in the tutorial for compliance and practical considerations.\n",
        "\n",
        "This synthetic dataset is smaller, simpler and much less unbalanced than the original one. Therefore, it works much better \"out of the box\". Nonetheless, it does improve somewhat with event optimization and, because it is not so easy to auto detect the signal, provides a good basis to understand manual intervention on the optimization algorithm."
      ]
    },
    {
      "cell_type": "markdown",
      "id": "7eb36a0c-c1c6-4c0d-aac9-f8a28b331ccd",
      "metadata": {
        "id": "7eb36a0c-c1c6-4c0d-aac9-f8a28b331ccd"
      },
      "source": [
        "The following code defines the function `create_datasets()` that uses a Clips object to read the test sequences from it and modifies them at random."
      ]
    },
    {
      "cell_type": "code",
      "execution_count": 4,
      "id": "ebd6dc82-39cc-4771-abb8-b5faa3efc26d",
      "metadata": {
        "jupyter": {
          "source_hidden": true
        },
        "tags": [],
        "cellView": "form",
        "id": "ebd6dc82-39cc-4771-abb8-b5faa3efc26d"
      },
      "outputs": [],
      "source": [
        "#@title\n",
        "def build_chunk(seq, cli, time_ori, max_delay):\n",
        "\tN = len(seq)\n",
        "\n",
        "\temi    = ['click' for _ in range(N)]\n",
        "\tweight = [1 for _ in range(N)]\n",
        "\tclient = [cli for _ in range(N)]\n",
        "\ttimes  = []\n",
        "\tct = time_ori\n",
        "\n",
        "\tfor _ in range(N):\n",
        "\t\tct += random.random()*max_delay\n",
        "\t\ttimes.append(time.strftime('%Y-%m-%d %H:%M:%S', time.localtime(ct)))\n",
        "\n",
        "\treturn pd.DataFrame(list(zip(emi, seq, weight, client, times)), columns = ['emitter', 'description', 'weight', 'client', 'time'])\n",
        "\n",
        "\n",
        "def modify_chunk(chunk, cli, reduce, mutate):\n",
        "\tN = chunk.shape[0]\n",
        "\n",
        "\tif N > 5:\n",
        "\t\tchunk = chunk.sample(frac = reduce, replace = False)\n",
        "\t\tN = chunk.shape[0]\n",
        "\n",
        "\tchunk.reset_index(drop = True, inplace = True)\n",
        "\n",
        "\tfor _ in range(random.randrange(1, round(2 + mutate*N))):\n",
        "\t\ti = random.randrange(0, N)\n",
        "\t\tj = random.randrange(0, N)\n",
        "\t\tx = chunk.description.at[i] + 1\n",
        "\t\tchunk.description.at[i] = chunk.description.at[j]\n",
        "\t\tchunk.description.at[j] = x\n",
        "\n",
        "\tchunk.client = [cli for _ in range(N)]\n",
        "\n",
        "\treturn chunk\n",
        "\n",
        "\n",
        "def create_datasets(test = False, n_extra = 10, reduce = 0.95, mutate = 0.15):\n",
        "\n",
        "\tevents  = reels.Events()\n",
        "\tclients = reels.Clients()\n",
        "\tclips   = reels.Clips(clients, events)\n",
        "\n",
        "\tchunks = []\n",
        "\ttargs  = None\n",
        "\n",
        "\ttime_ori  = time.mktime(time.strptime('2022-06-01 00:00:01', '%Y-%m-%d %H:%M:%S'))\n",
        "\tmax_delay = 3600\n",
        "\n",
        "\tif test:\n",
        "\t\ti_base = 400\n",
        "\t\ti_top  = 500\n",
        "\telse:\n",
        "\t\ti_base = 0\n",
        "\t\ti_top  = 400\n",
        "\n",
        "\tfor i_cli in range(i_base, i_top):\n",
        "\t\tseq = clips.test_sequence(i_cli, False)\n",
        "\n",
        "\t\tcli = 'n%04i%03i' % (i_cli, 0)\n",
        "\n",
        "\t\tchunk = build_chunk(seq, cli, time_ori, max_delay)\n",
        "\t\tchunks.append(chunk)\n",
        "\n",
        "\t\tfor t in range(1, n_extra):\n",
        "\t\t\tcli\t  = 'n%04i%03i' % (i_cli, t)\n",
        "\t\t\tchunk = modify_chunk(chunk, cli, reduce, mutate)\n",
        "\t\t\tchunks.append(chunk)\n",
        "\n",
        "\t\tseq = clips.test_sequence(i_cli, True)\n",
        "\n",
        "\t\tcli = 't%04i%03i' % (i_cli, 0)\n",
        "\n",
        "\t\tchunk = build_chunk(seq, cli, time_ori, max_delay)\n",
        "\t\tchunks.append(chunk)\n",
        "\n",
        "\t\tct = time.mktime(time.strptime(chunk.time.iloc[-1], '%Y-%m-%d %H:%M:%S'))\n",
        "\t\tct += random.random()*max_delay\n",
        "\t\tct -= random.random()*max_delay\n",
        "\n",
        "\t\tchunk = pd.DataFrame([[cli, time.strftime('%Y-%m-%d %H:%M:%S', time.localtime(ct))]], columns = ['client', 'time'])\n",
        "\t\ttargs = chunk if targs is None else pd.concat([targs, chunk])\n",
        "\n",
        "\treturn pd.concat(chunks), targs\n"
      ]
    },
    {
      "cell_type": "markdown",
      "id": "87f5b907-b165-43f4-86b6-8058d03c559a",
      "metadata": {
        "id": "87f5b907-b165-43f4-86b6-8058d03c559a"
      },
      "source": [
        "## A simple analysis\n",
        "\n",
        "We also copy from the **reels_walkthrough** tutorial the function `analyze()` that will serve to evaluate our model."
      ]
    },
    {
      "cell_type": "code",
      "execution_count": 5,
      "metadata": {
        "id": "7a6d67ba-31f8-407c-95c2-ea5146443602"
      },
      "outputs": [],
      "source": [
        "def analyze(targets, clips, targs):\n",
        "    t_hashes = set([clients.hash_client_id(str(id)) for id in targs.client])    # This is the set of all the clients who are targets\n",
        "    Y_obs = [int(hh in t_hashes) for hh in clips.clips_client_hashes()]         # This is the observed target/no_target for all the clients\n",
        "    \n",
        "    T = [t for t in targets.predict_clips(clips)]                               # These are the predicted times\n",
        "    \n",
        "    t_copy = T.copy()\n",
        "    t_copy.sort()\n",
        "    t_cut = t_copy[sum(Y_obs)]                                                  # t_cut is a cutting time that generates the same number of targets.\n",
        "    \n",
        "    Y_pred = [int(t <= t_cut) for t in T]                                       # This is the predicted target/no_target for all the clients\n",
        "    \n",
        "    x_tab = pd.crosstab(pd.array(Y_obs), \n",
        "                        pd.array(Y_pred), \n",
        "                        rownames = ['Obs'], \n",
        "                        colnames = ['Pred'])\n",
        "    \n",
        "    acc  = metrics.accuracy_score(Y_obs, Y_pred)                                # We compute basic metrics\n",
        "    prec = metrics.precision_score(Y_obs, Y_pred)\n",
        "    f1   = metrics.f1_score(Y_obs, Y_pred)\n",
        "\n",
        "    print(x_tab)\n",
        "    print('Accuracy: %.3f, precision: %.3f, f1-score: %.3f' % (acc, prec, f1))"
      ],
      "id": "7a6d67ba-31f8-407c-95c2-ea5146443602"
    },
    {
      "cell_type": "markdown",
      "id": "4b1eb6ad-e805-41c6-bb41-34eb33ee3fff",
      "metadata": {
        "id": "4b1eb6ad-e805-41c6-bb41-34eb33ee3fff"
      },
      "source": [
        "We create the datasets."
      ]
    },
    {
      "cell_type": "code",
      "execution_count": 6,
      "id": "9b336cb1-da38-444e-ab1b-b0ce0f85b967",
      "metadata": {
        "id": "9b336cb1-da38-444e-ab1b-b0ce0f85b967"
      },
      "outputs": [],
      "source": [
        "train, train_targs = create_datasets(False)\n",
        "test,  test_targs  = create_datasets(True)"
      ]
    },
    {
      "cell_type": "code",
      "execution_count": 7,
      "id": "7681ccad-c997-4a30-9ba0-c56254f0b6b3",
      "metadata": {
        "colab": {
          "base_uri": "https://localhost:8080/",
          "height": 424
        },
        "id": "7681ccad-c997-4a30-9ba0-c56254f0b6b3",
        "outputId": "ff2b1bbe-332a-474c-fe6d-3c1576034483"
      },
      "outputs": [
        {
          "output_type": "execute_result",
          "data": {
            "text/plain": [
              "   emitter  description  weight    client                 time\n",
              "0    click            1       1  n0000000  2022-06-01 00:47:20\n",
              "1    click           17       1  n0000000  2022-06-01 01:32:35\n",
              "2    click           92       1  n0000000  2022-06-01 01:44:45\n",
              "3    click          227       1  n0000000  2022-06-01 02:33:53\n",
              "4    click          864       1  n0000000  2022-06-01 02:51:40\n",
              "..     ...          ...     ...       ...                  ...\n",
              "14   click          459       1  t0399000  2022-06-01 07:57:01\n",
              "15   click          459       1  t0399000  2022-06-01 07:57:36\n",
              "16   click          459       1  t0399000  2022-06-01 08:41:41\n",
              "17   click          459       1  t0399000  2022-06-01 08:54:24\n",
              "18   click          462       1  t0399000  2022-06-01 09:28:28\n",
              "\n",
              "[139783 rows x 5 columns]"
            ],
            "text/html": [
              "\n",
              "  <div id=\"df-26e30ac9-f0e5-4ace-a98e-25d83d5afd48\">\n",
              "    <div class=\"colab-df-container\">\n",
              "      <div>\n",
              "<style scoped>\n",
              "    .dataframe tbody tr th:only-of-type {\n",
              "        vertical-align: middle;\n",
              "    }\n",
              "\n",
              "    .dataframe tbody tr th {\n",
              "        vertical-align: top;\n",
              "    }\n",
              "\n",
              "    .dataframe thead th {\n",
              "        text-align: right;\n",
              "    }\n",
              "</style>\n",
              "<table border=\"1\" class=\"dataframe\">\n",
              "  <thead>\n",
              "    <tr style=\"text-align: right;\">\n",
              "      <th></th>\n",
              "      <th>emitter</th>\n",
              "      <th>description</th>\n",
              "      <th>weight</th>\n",
              "      <th>client</th>\n",
              "      <th>time</th>\n",
              "    </tr>\n",
              "  </thead>\n",
              "  <tbody>\n",
              "    <tr>\n",
              "      <th>0</th>\n",
              "      <td>click</td>\n",
              "      <td>1</td>\n",
              "      <td>1</td>\n",
              "      <td>n0000000</td>\n",
              "      <td>2022-06-01 00:47:20</td>\n",
              "    </tr>\n",
              "    <tr>\n",
              "      <th>1</th>\n",
              "      <td>click</td>\n",
              "      <td>17</td>\n",
              "      <td>1</td>\n",
              "      <td>n0000000</td>\n",
              "      <td>2022-06-01 01:32:35</td>\n",
              "    </tr>\n",
              "    <tr>\n",
              "      <th>2</th>\n",
              "      <td>click</td>\n",
              "      <td>92</td>\n",
              "      <td>1</td>\n",
              "      <td>n0000000</td>\n",
              "      <td>2022-06-01 01:44:45</td>\n",
              "    </tr>\n",
              "    <tr>\n",
              "      <th>3</th>\n",
              "      <td>click</td>\n",
              "      <td>227</td>\n",
              "      <td>1</td>\n",
              "      <td>n0000000</td>\n",
              "      <td>2022-06-01 02:33:53</td>\n",
              "    </tr>\n",
              "    <tr>\n",
              "      <th>4</th>\n",
              "      <td>click</td>\n",
              "      <td>864</td>\n",
              "      <td>1</td>\n",
              "      <td>n0000000</td>\n",
              "      <td>2022-06-01 02:51:40</td>\n",
              "    </tr>\n",
              "    <tr>\n",
              "      <th>...</th>\n",
              "      <td>...</td>\n",
              "      <td>...</td>\n",
              "      <td>...</td>\n",
              "      <td>...</td>\n",
              "      <td>...</td>\n",
              "    </tr>\n",
              "    <tr>\n",
              "      <th>14</th>\n",
              "      <td>click</td>\n",
              "      <td>459</td>\n",
              "      <td>1</td>\n",
              "      <td>t0399000</td>\n",
              "      <td>2022-06-01 07:57:01</td>\n",
              "    </tr>\n",
              "    <tr>\n",
              "      <th>15</th>\n",
              "      <td>click</td>\n",
              "      <td>459</td>\n",
              "      <td>1</td>\n",
              "      <td>t0399000</td>\n",
              "      <td>2022-06-01 07:57:36</td>\n",
              "    </tr>\n",
              "    <tr>\n",
              "      <th>16</th>\n",
              "      <td>click</td>\n",
              "      <td>459</td>\n",
              "      <td>1</td>\n",
              "      <td>t0399000</td>\n",
              "      <td>2022-06-01 08:41:41</td>\n",
              "    </tr>\n",
              "    <tr>\n",
              "      <th>17</th>\n",
              "      <td>click</td>\n",
              "      <td>459</td>\n",
              "      <td>1</td>\n",
              "      <td>t0399000</td>\n",
              "      <td>2022-06-01 08:54:24</td>\n",
              "    </tr>\n",
              "    <tr>\n",
              "      <th>18</th>\n",
              "      <td>click</td>\n",
              "      <td>462</td>\n",
              "      <td>1</td>\n",
              "      <td>t0399000</td>\n",
              "      <td>2022-06-01 09:28:28</td>\n",
              "    </tr>\n",
              "  </tbody>\n",
              "</table>\n",
              "<p>139783 rows × 5 columns</p>\n",
              "</div>\n",
              "      <button class=\"colab-df-convert\" onclick=\"convertToInteractive('df-26e30ac9-f0e5-4ace-a98e-25d83d5afd48')\"\n",
              "              title=\"Convert this dataframe to an interactive table.\"\n",
              "              style=\"display:none;\">\n",
              "        \n",
              "  <svg xmlns=\"http://www.w3.org/2000/svg\" height=\"24px\"viewBox=\"0 0 24 24\"\n",
              "       width=\"24px\">\n",
              "    <path d=\"M0 0h24v24H0V0z\" fill=\"none\"/>\n",
              "    <path d=\"M18.56 5.44l.94 2.06.94-2.06 2.06-.94-2.06-.94-.94-2.06-.94 2.06-2.06.94zm-11 1L8.5 8.5l.94-2.06 2.06-.94-2.06-.94L8.5 2.5l-.94 2.06-2.06.94zm10 10l.94 2.06.94-2.06 2.06-.94-2.06-.94-.94-2.06-.94 2.06-2.06.94z\"/><path d=\"M17.41 7.96l-1.37-1.37c-.4-.4-.92-.59-1.43-.59-.52 0-1.04.2-1.43.59L10.3 9.45l-7.72 7.72c-.78.78-.78 2.05 0 2.83L4 21.41c.39.39.9.59 1.41.59.51 0 1.02-.2 1.41-.59l7.78-7.78 2.81-2.81c.8-.78.8-2.07 0-2.86zM5.41 20L4 18.59l7.72-7.72 1.47 1.35L5.41 20z\"/>\n",
              "  </svg>\n",
              "      </button>\n",
              "      \n",
              "  <style>\n",
              "    .colab-df-container {\n",
              "      display:flex;\n",
              "      flex-wrap:wrap;\n",
              "      gap: 12px;\n",
              "    }\n",
              "\n",
              "    .colab-df-convert {\n",
              "      background-color: #E8F0FE;\n",
              "      border: none;\n",
              "      border-radius: 50%;\n",
              "      cursor: pointer;\n",
              "      display: none;\n",
              "      fill: #1967D2;\n",
              "      height: 32px;\n",
              "      padding: 0 0 0 0;\n",
              "      width: 32px;\n",
              "    }\n",
              "\n",
              "    .colab-df-convert:hover {\n",
              "      background-color: #E2EBFA;\n",
              "      box-shadow: 0px 1px 2px rgba(60, 64, 67, 0.3), 0px 1px 3px 1px rgba(60, 64, 67, 0.15);\n",
              "      fill: #174EA6;\n",
              "    }\n",
              "\n",
              "    [theme=dark] .colab-df-convert {\n",
              "      background-color: #3B4455;\n",
              "      fill: #D2E3FC;\n",
              "    }\n",
              "\n",
              "    [theme=dark] .colab-df-convert:hover {\n",
              "      background-color: #434B5C;\n",
              "      box-shadow: 0px 1px 3px 1px rgba(0, 0, 0, 0.15);\n",
              "      filter: drop-shadow(0px 1px 2px rgba(0, 0, 0, 0.3));\n",
              "      fill: #FFFFFF;\n",
              "    }\n",
              "  </style>\n",
              "\n",
              "      <script>\n",
              "        const buttonEl =\n",
              "          document.querySelector('#df-26e30ac9-f0e5-4ace-a98e-25d83d5afd48 button.colab-df-convert');\n",
              "        buttonEl.style.display =\n",
              "          google.colab.kernel.accessAllowed ? 'block' : 'none';\n",
              "\n",
              "        async function convertToInteractive(key) {\n",
              "          const element = document.querySelector('#df-26e30ac9-f0e5-4ace-a98e-25d83d5afd48');\n",
              "          const dataTable =\n",
              "            await google.colab.kernel.invokeFunction('convertToInteractive',\n",
              "                                                     [key], {});\n",
              "          if (!dataTable) return;\n",
              "\n",
              "          const docLinkHtml = 'Like what you see? Visit the ' +\n",
              "            '<a target=\"_blank\" href=https://colab.research.google.com/notebooks/data_table.ipynb>data table notebook</a>'\n",
              "            + ' to learn more about interactive tables.';\n",
              "          element.innerHTML = '';\n",
              "          dataTable['output_type'] = 'display_data';\n",
              "          await google.colab.output.renderOutput(dataTable, element);\n",
              "          const docLink = document.createElement('div');\n",
              "          docLink.innerHTML = docLinkHtml;\n",
              "          element.appendChild(docLink);\n",
              "        }\n",
              "      </script>\n",
              "    </div>\n",
              "  </div>\n",
              "  "
            ]
          },
          "metadata": {},
          "execution_count": 7
        }
      ],
      "source": [
        "train"
      ]
    },
    {
      "cell_type": "code",
      "execution_count": 8,
      "id": "644a8a6a-8c88-4124-9a99-c44a7c306f3e",
      "metadata": {
        "colab": {
          "base_uri": "https://localhost:8080/",
          "height": 424
        },
        "id": "644a8a6a-8c88-4124-9a99-c44a7c306f3e",
        "outputId": "e4efe5ca-dacf-4cb0-a534-b8a52981d33e"
      },
      "outputs": [
        {
          "output_type": "execute_result",
          "data": {
            "text/plain": [
              "      client                 time\n",
              "0   t0000000  2022-06-01 14:04:54\n",
              "0   t0001000  2022-06-02 01:13:12\n",
              "0   t0002000  2022-06-01 05:26:27\n",
              "0   t0003000  2022-06-01 14:40:35\n",
              "0   t0004000  2022-06-01 06:13:11\n",
              "..       ...                  ...\n",
              "0   t0395000  2022-06-01 09:04:49\n",
              "0   t0396000  2022-06-02 12:09:50\n",
              "0   t0397000  2022-06-01 03:48:45\n",
              "0   t0398000  2022-06-02 05:33:40\n",
              "0   t0399000  2022-06-01 09:53:48\n",
              "\n",
              "[400 rows x 2 columns]"
            ],
            "text/html": [
              "\n",
              "  <div id=\"df-d2c2c4f8-269b-45c9-879c-cacde2804162\">\n",
              "    <div class=\"colab-df-container\">\n",
              "      <div>\n",
              "<style scoped>\n",
              "    .dataframe tbody tr th:only-of-type {\n",
              "        vertical-align: middle;\n",
              "    }\n",
              "\n",
              "    .dataframe tbody tr th {\n",
              "        vertical-align: top;\n",
              "    }\n",
              "\n",
              "    .dataframe thead th {\n",
              "        text-align: right;\n",
              "    }\n",
              "</style>\n",
              "<table border=\"1\" class=\"dataframe\">\n",
              "  <thead>\n",
              "    <tr style=\"text-align: right;\">\n",
              "      <th></th>\n",
              "      <th>client</th>\n",
              "      <th>time</th>\n",
              "    </tr>\n",
              "  </thead>\n",
              "  <tbody>\n",
              "    <tr>\n",
              "      <th>0</th>\n",
              "      <td>t0000000</td>\n",
              "      <td>2022-06-01 14:04:54</td>\n",
              "    </tr>\n",
              "    <tr>\n",
              "      <th>0</th>\n",
              "      <td>t0001000</td>\n",
              "      <td>2022-06-02 01:13:12</td>\n",
              "    </tr>\n",
              "    <tr>\n",
              "      <th>0</th>\n",
              "      <td>t0002000</td>\n",
              "      <td>2022-06-01 05:26:27</td>\n",
              "    </tr>\n",
              "    <tr>\n",
              "      <th>0</th>\n",
              "      <td>t0003000</td>\n",
              "      <td>2022-06-01 14:40:35</td>\n",
              "    </tr>\n",
              "    <tr>\n",
              "      <th>0</th>\n",
              "      <td>t0004000</td>\n",
              "      <td>2022-06-01 06:13:11</td>\n",
              "    </tr>\n",
              "    <tr>\n",
              "      <th>...</th>\n",
              "      <td>...</td>\n",
              "      <td>...</td>\n",
              "    </tr>\n",
              "    <tr>\n",
              "      <th>0</th>\n",
              "      <td>t0395000</td>\n",
              "      <td>2022-06-01 09:04:49</td>\n",
              "    </tr>\n",
              "    <tr>\n",
              "      <th>0</th>\n",
              "      <td>t0396000</td>\n",
              "      <td>2022-06-02 12:09:50</td>\n",
              "    </tr>\n",
              "    <tr>\n",
              "      <th>0</th>\n",
              "      <td>t0397000</td>\n",
              "      <td>2022-06-01 03:48:45</td>\n",
              "    </tr>\n",
              "    <tr>\n",
              "      <th>0</th>\n",
              "      <td>t0398000</td>\n",
              "      <td>2022-06-02 05:33:40</td>\n",
              "    </tr>\n",
              "    <tr>\n",
              "      <th>0</th>\n",
              "      <td>t0399000</td>\n",
              "      <td>2022-06-01 09:53:48</td>\n",
              "    </tr>\n",
              "  </tbody>\n",
              "</table>\n",
              "<p>400 rows × 2 columns</p>\n",
              "</div>\n",
              "      <button class=\"colab-df-convert\" onclick=\"convertToInteractive('df-d2c2c4f8-269b-45c9-879c-cacde2804162')\"\n",
              "              title=\"Convert this dataframe to an interactive table.\"\n",
              "              style=\"display:none;\">\n",
              "        \n",
              "  <svg xmlns=\"http://www.w3.org/2000/svg\" height=\"24px\"viewBox=\"0 0 24 24\"\n",
              "       width=\"24px\">\n",
              "    <path d=\"M0 0h24v24H0V0z\" fill=\"none\"/>\n",
              "    <path d=\"M18.56 5.44l.94 2.06.94-2.06 2.06-.94-2.06-.94-.94-2.06-.94 2.06-2.06.94zm-11 1L8.5 8.5l.94-2.06 2.06-.94-2.06-.94L8.5 2.5l-.94 2.06-2.06.94zm10 10l.94 2.06.94-2.06 2.06-.94-2.06-.94-.94-2.06-.94 2.06-2.06.94z\"/><path d=\"M17.41 7.96l-1.37-1.37c-.4-.4-.92-.59-1.43-.59-.52 0-1.04.2-1.43.59L10.3 9.45l-7.72 7.72c-.78.78-.78 2.05 0 2.83L4 21.41c.39.39.9.59 1.41.59.51 0 1.02-.2 1.41-.59l7.78-7.78 2.81-2.81c.8-.78.8-2.07 0-2.86zM5.41 20L4 18.59l7.72-7.72 1.47 1.35L5.41 20z\"/>\n",
              "  </svg>\n",
              "      </button>\n",
              "      \n",
              "  <style>\n",
              "    .colab-df-container {\n",
              "      display:flex;\n",
              "      flex-wrap:wrap;\n",
              "      gap: 12px;\n",
              "    }\n",
              "\n",
              "    .colab-df-convert {\n",
              "      background-color: #E8F0FE;\n",
              "      border: none;\n",
              "      border-radius: 50%;\n",
              "      cursor: pointer;\n",
              "      display: none;\n",
              "      fill: #1967D2;\n",
              "      height: 32px;\n",
              "      padding: 0 0 0 0;\n",
              "      width: 32px;\n",
              "    }\n",
              "\n",
              "    .colab-df-convert:hover {\n",
              "      background-color: #E2EBFA;\n",
              "      box-shadow: 0px 1px 2px rgba(60, 64, 67, 0.3), 0px 1px 3px 1px rgba(60, 64, 67, 0.15);\n",
              "      fill: #174EA6;\n",
              "    }\n",
              "\n",
              "    [theme=dark] .colab-df-convert {\n",
              "      background-color: #3B4455;\n",
              "      fill: #D2E3FC;\n",
              "    }\n",
              "\n",
              "    [theme=dark] .colab-df-convert:hover {\n",
              "      background-color: #434B5C;\n",
              "      box-shadow: 0px 1px 3px 1px rgba(0, 0, 0, 0.15);\n",
              "      filter: drop-shadow(0px 1px 2px rgba(0, 0, 0, 0.3));\n",
              "      fill: #FFFFFF;\n",
              "    }\n",
              "  </style>\n",
              "\n",
              "      <script>\n",
              "        const buttonEl =\n",
              "          document.querySelector('#df-d2c2c4f8-269b-45c9-879c-cacde2804162 button.colab-df-convert');\n",
              "        buttonEl.style.display =\n",
              "          google.colab.kernel.accessAllowed ? 'block' : 'none';\n",
              "\n",
              "        async function convertToInteractive(key) {\n",
              "          const element = document.querySelector('#df-d2c2c4f8-269b-45c9-879c-cacde2804162');\n",
              "          const dataTable =\n",
              "            await google.colab.kernel.invokeFunction('convertToInteractive',\n",
              "                                                     [key], {});\n",
              "          if (!dataTable) return;\n",
              "\n",
              "          const docLinkHtml = 'Like what you see? Visit the ' +\n",
              "            '<a target=\"_blank\" href=https://colab.research.google.com/notebooks/data_table.ipynb>data table notebook</a>'\n",
              "            + ' to learn more about interactive tables.';\n",
              "          element.innerHTML = '';\n",
              "          dataTable['output_type'] = 'display_data';\n",
              "          await google.colab.output.renderOutput(dataTable, element);\n",
              "          const docLink = document.createElement('div');\n",
              "          docLink.innerHTML = docLinkHtml;\n",
              "          element.appendChild(docLink);\n",
              "        }\n",
              "      </script>\n",
              "    </div>\n",
              "  </div>\n",
              "  "
            ]
          },
          "metadata": {},
          "execution_count": 8
        }
      ],
      "source": [
        "train_targs"
      ]
    },
    {
      "cell_type": "markdown",
      "id": "b04e5ccc-8953-45b3-b1c4-96eae68b44f7",
      "metadata": {
        "id": "b04e5ccc-8953-45b3-b1c4-96eae68b44f7"
      },
      "source": [
        "And now, we do a very simple cross-validated fit/predict like we learned in the **reels_walkthrough** tutorial. "
      ]
    },
    {
      "cell_type": "code",
      "execution_count": 9,
      "id": "8502bc31-a710-4f25-971b-e0a2ac2c6a77",
      "metadata": {
        "id": "8502bc31-a710-4f25-971b-e0a2ac2c6a77"
      },
      "outputs": [],
      "source": [
        "intake_train       = reels.Intake(train)\n",
        "intake_train_targs = reels.Intake(train_targs)\n",
        "intake_test        = reels.Intake(test)\n",
        "intake_test_targs  = reels.Intake(test_targs)"
      ]
    },
    {
      "cell_type": "markdown",
      "id": "c3ab82fd-9a8c-4f53-aa2b-5cd46bb3547e",
      "metadata": {
        "id": "c3ab82fd-9a8c-4f53-aa2b-5cd46bb3547e"
      },
      "source": [
        "</br>"
      ]
    },
    {
      "cell_type": "code",
      "execution_count": 10,
      "id": "426209b3-659c-415c-9b80-90068911c79f",
      "metadata": {
        "colab": {
          "base_uri": "https://localhost:8080/"
        },
        "id": "426209b3-659c-415c-9b80-90068911c79f",
        "outputId": "a49c0749-8873-438c-c800-67e66fbec627"
      },
      "outputs": [
        {
          "output_type": "execute_result",
          "data": {
            "text/plain": [
              "reels.Events object with 1989 events"
            ]
          },
          "metadata": {},
          "execution_count": 10
        }
      ],
      "source": [
        "events = reels.Events(max_num_events = 10000)\n",
        "\n",
        "intake_train.insert_rows(events)\n",
        "intake_test.insert_rows(events)\n",
        "\n",
        "events"
      ]
    },
    {
      "cell_type": "markdown",
      "id": "7d291e74-7ead-48b4-96d6-969023c29442",
      "metadata": {
        "id": "7d291e74-7ead-48b4-96d6-969023c29442"
      },
      "source": [
        "</br>"
      ]
    },
    {
      "cell_type": "code",
      "execution_count": 11,
      "id": "d9900535-1bbe-4edc-92ad-b0997ad23b6c",
      "metadata": {
        "colab": {
          "base_uri": "https://localhost:8080/"
        },
        "id": "d9900535-1bbe-4edc-92ad-b0997ad23b6c",
        "outputId": "5ecac157-8d12-4f3e-c514-36780bc4d314"
      },
      "outputs": [
        {
          "output_type": "execute_result",
          "data": {
            "text/plain": [
              "Empty reels.Clients object (Empty objects select ALL clients.)"
            ]
          },
          "metadata": {},
          "execution_count": 11
        }
      ],
      "source": [
        "clients = reels.Clients()\n",
        "\n",
        "clients"
      ]
    },
    {
      "cell_type": "markdown",
      "id": "d876308e-b6d5-43b0-891f-d9bf885ddb64",
      "metadata": {
        "id": "d876308e-b6d5-43b0-891f-d9bf885ddb64"
      },
      "source": [
        "</br>"
      ]
    },
    {
      "cell_type": "code",
      "execution_count": 12,
      "id": "6a82854c-3b9c-49e3-bf3a-4e7c1a3d8484",
      "metadata": {
        "colab": {
          "base_uri": "https://localhost:8080/"
        },
        "id": "6a82854c-3b9c-49e3-bf3a-4e7c1a3d8484",
        "outputId": "03719af9-cb02-4c6e-bf15-a7a6247b495e"
      },
      "outputs": [
        {
          "output_type": "execute_result",
          "data": {
            "text/plain": [
              "reels.Clips object with 4130 clips totalling 138702 events"
            ]
          },
          "metadata": {},
          "execution_count": 12
        }
      ],
      "source": [
        "train_clips = reels.Clips(clients, events)\n",
        "intake_train.scan_events(train_clips)\n",
        "\n",
        "train_clips"
      ]
    },
    {
      "cell_type": "markdown",
      "id": "1bb6948f-f6d4-4195-8d20-10c14aac4d63",
      "metadata": {
        "id": "1bb6948f-f6d4-4195-8d20-10c14aac4d63"
      },
      "source": [
        "</br>"
      ]
    },
    {
      "cell_type": "code",
      "execution_count": 13,
      "id": "fe2677cf-0498-4866-89a5-83673b0def26",
      "metadata": {
        "colab": {
          "base_uri": "https://localhost:8080/"
        },
        "id": "fe2677cf-0498-4866-89a5-83673b0def26",
        "outputId": "627aef89-4ee6-4f04-cede-f3ae68c892ae"
      },
      "outputs": [
        {
          "output_type": "execute_result",
          "data": {
            "text/plain": [
              "reels.Targets object with 4130 clips\n",
              "\n",
              "Has 400 targets.\n",
              "\n",
              "Is fitted with 4127 clips."
            ]
          },
          "metadata": {},
          "execution_count": 13
        }
      ],
      "source": [
        "targets = reels.Targets(train_clips)\n",
        "intake_train_targs.insert_targets(targets)\n",
        "targets.fit(agg = 'longest', depth = 100, as_states = True)\n",
        "\n",
        "targets"
      ]
    },
    {
      "cell_type": "markdown",
      "id": "6d612c86-41f6-4e87-ab13-84f8afa9af50",
      "metadata": {
        "id": "6d612c86-41f6-4e87-ab13-84f8afa9af50"
      },
      "source": [
        "We evaluate the prediction over the **training set**."
      ]
    },
    {
      "cell_type": "code",
      "execution_count": 14,
      "id": "b81edaf5-3c8a-4fad-b74d-09a754f5f7e1",
      "metadata": {
        "colab": {
          "base_uri": "https://localhost:8080/"
        },
        "id": "b81edaf5-3c8a-4fad-b74d-09a754f5f7e1",
        "outputId": "18adf6eb-59d9-412b-9e45-236053084f1c"
      },
      "outputs": [
        {
          "output_type": "stream",
          "name": "stdout",
          "text": [
            "Pred     0    1\n",
            "Obs            \n",
            "0     3566  164\n",
            "1      163  237\n",
            "Accuracy: 0.921, precision: 0.591, f1-score: 0.592\n"
          ]
        }
      ],
      "source": [
        "analyze(targets, train_clips, train_targs)"
      ]
    },
    {
      "cell_type": "markdown",
      "id": "8101a54c-71dd-4486-a3ab-1e82a0dfae47",
      "metadata": {
        "id": "8101a54c-71dd-4486-a3ab-1e82a0dfae47"
      },
      "source": [
        "</br>"
      ]
    },
    {
      "cell_type": "code",
      "execution_count": 15,
      "id": "72e9f68f-d5e6-4d4c-be3a-f6759286b52f",
      "metadata": {
        "colab": {
          "base_uri": "https://localhost:8080/"
        },
        "id": "72e9f68f-d5e6-4d4c-be3a-f6759286b52f",
        "outputId": "a89628a7-36e8-433e-d218-505b66cbcc8a"
      },
      "outputs": [
        {
          "output_type": "execute_result",
          "data": {
            "text/plain": [
              "reels.Clips object with 1037 clips totalling 30816 events"
            ]
          },
          "metadata": {},
          "execution_count": 15
        }
      ],
      "source": [
        "test_clips = reels.Clips(clients, events)\n",
        "intake_test.scan_events(test_clips)\n",
        "\n",
        "test_clips"
      ]
    },
    {
      "cell_type": "markdown",
      "id": "a8dc6ef7-287f-482b-8ea5-4d88a7300d0c",
      "metadata": {
        "id": "a8dc6ef7-287f-482b-8ea5-4d88a7300d0c"
      },
      "source": [
        "And evaluate the prediction over the **test set**."
      ]
    },
    {
      "cell_type": "code",
      "execution_count": 16,
      "id": "f9c50e30-72dc-438a-ac26-bcdc833389bc",
      "metadata": {
        "colab": {
          "base_uri": "https://localhost:8080/"
        },
        "id": "f9c50e30-72dc-438a-ac26-bcdc833389bc",
        "outputId": "6ad71f28-77e7-45db-b18f-1e74571c616d"
      },
      "outputs": [
        {
          "output_type": "stream",
          "name": "stdout",
          "text": [
            "Pred    0   1\n",
            "Obs          \n",
            "0     849  88\n",
            "1      81  19\n",
            "Accuracy: 0.837, precision: 0.178, f1-score: 0.184\n"
          ]
        }
      ],
      "source": [
        "analyze(targets, test_clips, test_targs)"
      ]
    },
    {
      "cell_type": "markdown",
      "id": "908c685d-7875-41cb-94d3-2345fc10e58b",
      "metadata": {
        "id": "908c685d-7875-41cb-94d3-2345fc10e58b"
      },
      "source": [
        "## Event Optimization\n",
        "\n",
        "So far, we have trained a rather good model that performs worse on test data, just as expected.\n",
        "\n",
        "We can also check some statistics about the nodes of the fitted tree."
      ]
    },
    {
      "cell_type": "code",
      "execution_count": 17,
      "id": "2cd1fbba-ec83-45ab-aa5e-cea3f96c8a24",
      "metadata": {
        "colab": {
          "base_uri": "https://localhost:8080/"
        },
        "id": "2cd1fbba-ec83-45ab-aa5e-cea3f96c8a24",
        "outputId": "2185b14d-fe41-4821-a81f-950bd6a5a97a"
      },
      "outputs": [
        {
          "output_type": "stream",
          "name": "stdout",
          "text": [
            "tree.size() : 95523\n",
            "\n",
            "num_of_nodes_with_zero_visits : 0\n",
            "num_of_no_targets_one_visit   : 80135\n",
            "num_of_has_target_one_visit   : 10024\n",
            "num_of_no_targets_more_visits : 4931\n",
            "num_of_has_target_more_visits : 433\n",
            "num_of_no_targets_final_node  : 3693\n",
            "num_of_has_target_final_node  : 364\n",
            "\n"
          ]
        }
      ],
      "source": [
        "print(targets.describe_tree())"
      ]
    },
    {
      "cell_type": "markdown",
      "id": "3d42fa5e-9d7b-4f37-8daa-e2830047d287",
      "metadata": {
        "id": "3d42fa5e-9d7b-4f37-8daa-e2830047d287"
      },
      "source": [
        "As we would expect, it has many nodes with only one visit and is unbalanced, but not too much 8:1."
      ]
    },
    {
      "cell_type": "markdown",
      "id": "baf84e4c-45dd-4aa1-9f6f-4d2a5de82d56",
      "metadata": {
        "id": "baf84e4c-45dd-4aa1-9f6f-4d2a5de82d56"
      },
      "source": [
        "In case the original data provides some business insight to us, since we assume the codes are just meaningless numbers,\n",
        "we are going to build a simple dictionary mapping the content to the code. In this case, we map the field `description` (that in our example contains just numbers, but could have been descriptive.)\n",
        "\n",
        "Later we will add a column to our code exploration dataset using this.\n",
        "\n",
        "This can be done by just iterating through the object via `describe_events()`."
      ]
    },
    {
      "cell_type": "code",
      "execution_count": 18,
      "id": "2981ff36-41da-4869-9427-1d310b6ce173",
      "metadata": {
        "tags": [],
        "id": "2981ff36-41da-4869-9427-1d310b6ce173"
      },
      "outputs": [],
      "source": [
        "description = {}\n",
        "for emitter, descr, weight, code in events.describe_events():\n",
        "    description[code] = descr"
      ]
    },
    {
      "cell_type": "markdown",
      "id": "5687a09c-6b0d-4c8c-a7b7-7d7bf176ba46",
      "metadata": {
        "id": "5687a09c-6b0d-4c8c-a7b7-7d7bf176ba46"
      },
      "source": [
        "Now, we make a copy of the events dataset and optimize the copy, since the optimization will alter the object and we are just running it to get some data."
      ]
    },
    {
      "cell_type": "code",
      "execution_count": 19,
      "id": "17fe0299-fa0f-4c5d-9b94-4da56d16f46c",
      "metadata": {
        "id": "17fe0299-fa0f-4c5d-9b94-4da56d16f46c"
      },
      "outputs": [],
      "source": [
        "events_copy = events.copy()"
      ]
    },
    {
      "cell_type": "markdown",
      "id": "dd6fddf0-531a-49e1-bd8e-4c806a125e87",
      "metadata": {
        "id": "dd6fddf0-531a-49e1-bd8e-4c806a125e87"
      },
      "source": [
        "Now we run the `optimize_events()` method, just for one iteration and removing exponential decay and the confidence interval.\n",
        "\n",
        "The **exponential decay** is a parameter that allows weighting the score of a code less as it is found deeper in the tree.\n",
        "\n",
        "The **confidence interval** is computed exactly like in `Targets().fit()` and allows computing lift based on the lower bound of a binomial confidence interval for a proportion rather than the proportion itself."
      ]
    },
    {
      "cell_type": "code",
      "execution_count": 20,
      "id": "94e6bd37-821a-48f9-b7b3-1a3732c2401b",
      "metadata": {
        "id": "94e6bd37-821a-48f9-b7b3-1a3732c2401b"
      },
      "outputs": [],
      "source": [
        "success, dictionary, top_codes, log = events_copy.optimize_events(train_clips, targets, num_steps = 1, exp_decay = 0, lower_bound_p = 0)"
      ]
    },
    {
      "cell_type": "markdown",
      "id": "414fc1ec-3414-43df-b348-9968a1e92c10",
      "metadata": {
        "id": "414fc1ec-3414-43df-b348-9968a1e92c10"
      },
      "source": [
        "It returns a tuple of 4 elements:\n",
        "\n",
        " 1. the dictionary that we are not going to use yet, \n",
        " 2. a boolean that is true on success,"
      ]
    },
    {
      "cell_type": "code",
      "execution_count": 21,
      "id": "21447c77-3a0d-4b41-a01b-f6dcb25b9444",
      "metadata": {
        "id": "21447c77-3a0d-4b41-a01b-f6dcb25b9444"
      },
      "outputs": [],
      "source": [
        "assert success"
      ]
    },
    {
      "cell_type": "markdown",
      "id": "91d89fd5-56e0-4527-85ba-fc6b2de6be30",
      "metadata": {
        "id": "91d89fd5-56e0-4527-85ba-fc6b2de6be30"
      },
      "source": [
        " 3. a log saved as a string giving us some idea about how the search went,"
      ]
    },
    {
      "cell_type": "code",
      "execution_count": 22,
      "id": "80c41fb3-0c06-44e5-adad-2a84a0ccf8a0",
      "metadata": {
        "colab": {
          "base_uri": "https://localhost:8080/"
        },
        "id": "80c41fb3-0c06-44e5-adad-2a84a0ccf8a0",
        "outputId": "ab34f19c-ab2b-4b83-c412-e6f97d9e9df6"
      },
      "outputs": [
        {
          "output_type": "stream",
          "name": "stdout",
          "text": [
            "Preprocessing:\n",
            "\n",
            "  1855 codes found in clips.\n",
            "  134 codes removed from internal EventMap.\n",
            "  Current score = 0.882513\n",
            "\n",
            "Step 1 of 1\n",
            "\n",
            "  Trying:\n",
            "    Code 1376 as 2\n",
            "    Code 1753 as 3\n",
            "    Code 1132 as 4\n",
            "    Code 1474 as 5\n",
            "    Code 1140 as 6\n",
            "    ---------------\n",
            "    Score = 0.077619\n",
            "    Best score so far.\n",
            "\n",
            "== F I N A L ==\n",
            "\n",
            "  Final score      = 0.077619\n"
          ]
        }
      ],
      "source": [
        "print(log)"
      ]
    },
    {
      "cell_type": "markdown",
      "id": "f562c530-e80e-49c5-a429-049d9819fdfd",
      "metadata": {
        "id": "f562c530-e80e-49c5-a429-049d9819fdfd"
      },
      "source": [
        " 4. and a dataframe with the performance of each code as a string `top_codes`.\n",
        "    \n",
        "We convert it into a pandas dataframe by passing the string to `pd.read_csv()` using an `io.StringIO` and sort it by the column `n_incl_target`."
      ]
    },
    {
      "cell_type": "code",
      "execution_count": 23,
      "id": "830b0479-1131-4ba3-aafd-a7cb1b3f6a4e",
      "metadata": {
        "tags": [],
        "colab": {
          "base_uri": "https://localhost:8080/",
          "height": 424
        },
        "id": "830b0479-1131-4ba3-aafd-a7cb1b3f6a4e",
        "outputId": "3095e200-2854-4f39-e3eb-ce4329b78329"
      },
      "outputs": [
        {
          "output_type": "execute_result",
          "data": {
            "text/plain": [
              "      n_succ_seen  n_succ_target  n_incl_seen  n_incl_target  sum_dep  n_dep  \\\n",
              "0           22324           2601        15573           2030   585434  13320   \n",
              "1           14375           1779         6819           1012   268917   5893   \n",
              "2           11567           1371         4774            660   130111   3764   \n",
              "3           16806           1447         8877            552   351936   7639   \n",
              "4            8782           1082         1935            310    85305   1801   \n",
              "...           ...            ...          ...            ...      ...    ...   \n",
              "1850            6              0            6              0     1089      6   \n",
              "1851          859            105           52              0      863     47   \n",
              "1852            2              0            2              0     1095      2   \n",
              "1853            9              0            9              0     2093      9   \n",
              "1854          626             86           19              0      803     15   \n",
              "\n",
              "      edf  prop_succ  prop_incl      lift     score  code description  \n",
              "0     1.0   0.116511   0.130354  0.750853  0.097877     1           1  \n",
              "1     1.0   0.123757   0.148409  0.788094  0.116960     2          17  \n",
              "2     1.0   0.118527   0.138249  0.773063  0.106875    20         349  \n",
              "3     1.0   0.086100   0.062183  0.543613  0.033804    10           2  \n",
              "4     1.0   0.123207   0.160207  0.833044  0.133459   319           7  \n",
              "...   ...        ...        ...       ...       ...   ...         ...  \n",
              "1850  1.0   0.000000   0.000000  0.000000  0.000000  1222        1931  \n",
              "1851  1.0   0.122235   0.000000  0.000000  0.000000   463          70  \n",
              "1852  1.0   0.000000   0.000000  0.000000  0.000000  1224        2641  \n",
              "1853  1.0   0.000000   0.000000  0.000000  0.000000  1225         758  \n",
              "1854  1.0   0.137380   0.000000  0.000000  0.000000   928        2691  \n",
              "\n",
              "[1855 rows x 13 columns]"
            ],
            "text/html": [
              "\n",
              "  <div id=\"df-5f972f6b-d237-4975-9abc-7a0e2993d351\">\n",
              "    <div class=\"colab-df-container\">\n",
              "      <div>\n",
              "<style scoped>\n",
              "    .dataframe tbody tr th:only-of-type {\n",
              "        vertical-align: middle;\n",
              "    }\n",
              "\n",
              "    .dataframe tbody tr th {\n",
              "        vertical-align: top;\n",
              "    }\n",
              "\n",
              "    .dataframe thead th {\n",
              "        text-align: right;\n",
              "    }\n",
              "</style>\n",
              "<table border=\"1\" class=\"dataframe\">\n",
              "  <thead>\n",
              "    <tr style=\"text-align: right;\">\n",
              "      <th></th>\n",
              "      <th>n_succ_seen</th>\n",
              "      <th>n_succ_target</th>\n",
              "      <th>n_incl_seen</th>\n",
              "      <th>n_incl_target</th>\n",
              "      <th>sum_dep</th>\n",
              "      <th>n_dep</th>\n",
              "      <th>edf</th>\n",
              "      <th>prop_succ</th>\n",
              "      <th>prop_incl</th>\n",
              "      <th>lift</th>\n",
              "      <th>score</th>\n",
              "      <th>code</th>\n",
              "      <th>description</th>\n",
              "    </tr>\n",
              "  </thead>\n",
              "  <tbody>\n",
              "    <tr>\n",
              "      <th>0</th>\n",
              "      <td>22324</td>\n",
              "      <td>2601</td>\n",
              "      <td>15573</td>\n",
              "      <td>2030</td>\n",
              "      <td>585434</td>\n",
              "      <td>13320</td>\n",
              "      <td>1.0</td>\n",
              "      <td>0.116511</td>\n",
              "      <td>0.130354</td>\n",
              "      <td>0.750853</td>\n",
              "      <td>0.097877</td>\n",
              "      <td>1</td>\n",
              "      <td>1</td>\n",
              "    </tr>\n",
              "    <tr>\n",
              "      <th>1</th>\n",
              "      <td>14375</td>\n",
              "      <td>1779</td>\n",
              "      <td>6819</td>\n",
              "      <td>1012</td>\n",
              "      <td>268917</td>\n",
              "      <td>5893</td>\n",
              "      <td>1.0</td>\n",
              "      <td>0.123757</td>\n",
              "      <td>0.148409</td>\n",
              "      <td>0.788094</td>\n",
              "      <td>0.116960</td>\n",
              "      <td>2</td>\n",
              "      <td>17</td>\n",
              "    </tr>\n",
              "    <tr>\n",
              "      <th>2</th>\n",
              "      <td>11567</td>\n",
              "      <td>1371</td>\n",
              "      <td>4774</td>\n",
              "      <td>660</td>\n",
              "      <td>130111</td>\n",
              "      <td>3764</td>\n",
              "      <td>1.0</td>\n",
              "      <td>0.118527</td>\n",
              "      <td>0.138249</td>\n",
              "      <td>0.773063</td>\n",
              "      <td>0.106875</td>\n",
              "      <td>20</td>\n",
              "      <td>349</td>\n",
              "    </tr>\n",
              "    <tr>\n",
              "      <th>3</th>\n",
              "      <td>16806</td>\n",
              "      <td>1447</td>\n",
              "      <td>8877</td>\n",
              "      <td>552</td>\n",
              "      <td>351936</td>\n",
              "      <td>7639</td>\n",
              "      <td>1.0</td>\n",
              "      <td>0.086100</td>\n",
              "      <td>0.062183</td>\n",
              "      <td>0.543613</td>\n",
              "      <td>0.033804</td>\n",
              "      <td>10</td>\n",
              "      <td>2</td>\n",
              "    </tr>\n",
              "    <tr>\n",
              "      <th>4</th>\n",
              "      <td>8782</td>\n",
              "      <td>1082</td>\n",
              "      <td>1935</td>\n",
              "      <td>310</td>\n",
              "      <td>85305</td>\n",
              "      <td>1801</td>\n",
              "      <td>1.0</td>\n",
              "      <td>0.123207</td>\n",
              "      <td>0.160207</td>\n",
              "      <td>0.833044</td>\n",
              "      <td>0.133459</td>\n",
              "      <td>319</td>\n",
              "      <td>7</td>\n",
              "    </tr>\n",
              "    <tr>\n",
              "      <th>...</th>\n",
              "      <td>...</td>\n",
              "      <td>...</td>\n",
              "      <td>...</td>\n",
              "      <td>...</td>\n",
              "      <td>...</td>\n",
              "      <td>...</td>\n",
              "      <td>...</td>\n",
              "      <td>...</td>\n",
              "      <td>...</td>\n",
              "      <td>...</td>\n",
              "      <td>...</td>\n",
              "      <td>...</td>\n",
              "      <td>...</td>\n",
              "    </tr>\n",
              "    <tr>\n",
              "      <th>1850</th>\n",
              "      <td>6</td>\n",
              "      <td>0</td>\n",
              "      <td>6</td>\n",
              "      <td>0</td>\n",
              "      <td>1089</td>\n",
              "      <td>6</td>\n",
              "      <td>1.0</td>\n",
              "      <td>0.000000</td>\n",
              "      <td>0.000000</td>\n",
              "      <td>0.000000</td>\n",
              "      <td>0.000000</td>\n",
              "      <td>1222</td>\n",
              "      <td>1931</td>\n",
              "    </tr>\n",
              "    <tr>\n",
              "      <th>1851</th>\n",
              "      <td>859</td>\n",
              "      <td>105</td>\n",
              "      <td>52</td>\n",
              "      <td>0</td>\n",
              "      <td>863</td>\n",
              "      <td>47</td>\n",
              "      <td>1.0</td>\n",
              "      <td>0.122235</td>\n",
              "      <td>0.000000</td>\n",
              "      <td>0.000000</td>\n",
              "      <td>0.000000</td>\n",
              "      <td>463</td>\n",
              "      <td>70</td>\n",
              "    </tr>\n",
              "    <tr>\n",
              "      <th>1852</th>\n",
              "      <td>2</td>\n",
              "      <td>0</td>\n",
              "      <td>2</td>\n",
              "      <td>0</td>\n",
              "      <td>1095</td>\n",
              "      <td>2</td>\n",
              "      <td>1.0</td>\n",
              "      <td>0.000000</td>\n",
              "      <td>0.000000</td>\n",
              "      <td>0.000000</td>\n",
              "      <td>0.000000</td>\n",
              "      <td>1224</td>\n",
              "      <td>2641</td>\n",
              "    </tr>\n",
              "    <tr>\n",
              "      <th>1853</th>\n",
              "      <td>9</td>\n",
              "      <td>0</td>\n",
              "      <td>9</td>\n",
              "      <td>0</td>\n",
              "      <td>2093</td>\n",
              "      <td>9</td>\n",
              "      <td>1.0</td>\n",
              "      <td>0.000000</td>\n",
              "      <td>0.000000</td>\n",
              "      <td>0.000000</td>\n",
              "      <td>0.000000</td>\n",
              "      <td>1225</td>\n",
              "      <td>758</td>\n",
              "    </tr>\n",
              "    <tr>\n",
              "      <th>1854</th>\n",
              "      <td>626</td>\n",
              "      <td>86</td>\n",
              "      <td>19</td>\n",
              "      <td>0</td>\n",
              "      <td>803</td>\n",
              "      <td>15</td>\n",
              "      <td>1.0</td>\n",
              "      <td>0.137380</td>\n",
              "      <td>0.000000</td>\n",
              "      <td>0.000000</td>\n",
              "      <td>0.000000</td>\n",
              "      <td>928</td>\n",
              "      <td>2691</td>\n",
              "    </tr>\n",
              "  </tbody>\n",
              "</table>\n",
              "<p>1855 rows × 13 columns</p>\n",
              "</div>\n",
              "      <button class=\"colab-df-convert\" onclick=\"convertToInteractive('df-5f972f6b-d237-4975-9abc-7a0e2993d351')\"\n",
              "              title=\"Convert this dataframe to an interactive table.\"\n",
              "              style=\"display:none;\">\n",
              "        \n",
              "  <svg xmlns=\"http://www.w3.org/2000/svg\" height=\"24px\"viewBox=\"0 0 24 24\"\n",
              "       width=\"24px\">\n",
              "    <path d=\"M0 0h24v24H0V0z\" fill=\"none\"/>\n",
              "    <path d=\"M18.56 5.44l.94 2.06.94-2.06 2.06-.94-2.06-.94-.94-2.06-.94 2.06-2.06.94zm-11 1L8.5 8.5l.94-2.06 2.06-.94-2.06-.94L8.5 2.5l-.94 2.06-2.06.94zm10 10l.94 2.06.94-2.06 2.06-.94-2.06-.94-.94-2.06-.94 2.06-2.06.94z\"/><path d=\"M17.41 7.96l-1.37-1.37c-.4-.4-.92-.59-1.43-.59-.52 0-1.04.2-1.43.59L10.3 9.45l-7.72 7.72c-.78.78-.78 2.05 0 2.83L4 21.41c.39.39.9.59 1.41.59.51 0 1.02-.2 1.41-.59l7.78-7.78 2.81-2.81c.8-.78.8-2.07 0-2.86zM5.41 20L4 18.59l7.72-7.72 1.47 1.35L5.41 20z\"/>\n",
              "  </svg>\n",
              "      </button>\n",
              "      \n",
              "  <style>\n",
              "    .colab-df-container {\n",
              "      display:flex;\n",
              "      flex-wrap:wrap;\n",
              "      gap: 12px;\n",
              "    }\n",
              "\n",
              "    .colab-df-convert {\n",
              "      background-color: #E8F0FE;\n",
              "      border: none;\n",
              "      border-radius: 50%;\n",
              "      cursor: pointer;\n",
              "      display: none;\n",
              "      fill: #1967D2;\n",
              "      height: 32px;\n",
              "      padding: 0 0 0 0;\n",
              "      width: 32px;\n",
              "    }\n",
              "\n",
              "    .colab-df-convert:hover {\n",
              "      background-color: #E2EBFA;\n",
              "      box-shadow: 0px 1px 2px rgba(60, 64, 67, 0.3), 0px 1px 3px 1px rgba(60, 64, 67, 0.15);\n",
              "      fill: #174EA6;\n",
              "    }\n",
              "\n",
              "    [theme=dark] .colab-df-convert {\n",
              "      background-color: #3B4455;\n",
              "      fill: #D2E3FC;\n",
              "    }\n",
              "\n",
              "    [theme=dark] .colab-df-convert:hover {\n",
              "      background-color: #434B5C;\n",
              "      box-shadow: 0px 1px 3px 1px rgba(0, 0, 0, 0.15);\n",
              "      filter: drop-shadow(0px 1px 2px rgba(0, 0, 0, 0.3));\n",
              "      fill: #FFFFFF;\n",
              "    }\n",
              "  </style>\n",
              "\n",
              "      <script>\n",
              "        const buttonEl =\n",
              "          document.querySelector('#df-5f972f6b-d237-4975-9abc-7a0e2993d351 button.colab-df-convert');\n",
              "        buttonEl.style.display =\n",
              "          google.colab.kernel.accessAllowed ? 'block' : 'none';\n",
              "\n",
              "        async function convertToInteractive(key) {\n",
              "          const element = document.querySelector('#df-5f972f6b-d237-4975-9abc-7a0e2993d351');\n",
              "          const dataTable =\n",
              "            await google.colab.kernel.invokeFunction('convertToInteractive',\n",
              "                                                     [key], {});\n",
              "          if (!dataTable) return;\n",
              "\n",
              "          const docLinkHtml = 'Like what you see? Visit the ' +\n",
              "            '<a target=\"_blank\" href=https://colab.research.google.com/notebooks/data_table.ipynb>data table notebook</a>'\n",
              "            + ' to learn more about interactive tables.';\n",
              "          element.innerHTML = '';\n",
              "          dataTable['output_type'] = 'display_data';\n",
              "          await google.colab.output.renderOutput(dataTable, element);\n",
              "          const docLink = document.createElement('div');\n",
              "          docLink.innerHTML = docLinkHtml;\n",
              "          element.appendChild(docLink);\n",
              "        }\n",
              "      </script>\n",
              "    </div>\n",
              "  </div>\n",
              "  "
            ]
          },
          "metadata": {},
          "execution_count": 23
        }
      ],
      "source": [
        "top = pd.read_csv(io.StringIO(top_codes), sep = '\\t')\n",
        "top['description'] = [description[c] for c in top.code]\n",
        "top.sort_values(by = 'n_incl_target', ascending = False, inplace = True)\n",
        "top.reset_index(drop = True, inplace = True)\n",
        "\n",
        "top"
      ]
    },
    {
      "cell_type": "markdown",
      "id": "efb5674b-1cdd-47d1-9c14-2f5209e94e56",
      "metadata": {
        "id": "efb5674b-1cdd-47d1-9c14-2f5209e94e56"
      },
      "source": [
        "NOTE: We have added the field `description` from the original dataset in case it is more informative than the field code.\n",
        "\n",
        "The first four columns are the number of times seen vs target for both the node with the code (called \"incl\" for included) and for the parent node. The parent node is called \"succ\" (successor) because the tree is built in reverse time order. Therefore, the successor in the time sequence is the parent in the tree.\n",
        "\n",
        "The next two, `sum_dep` and `n_dep` provide an idea of how deep the code is found on average (== sum_dep/n_dep) in the sequence and can be used in the score when exponential decay is not zero.\n",
        "\n",
        "The next is `edf` (exponential decay factor) and multiplies the final score. E.g. If we set `exp_decay` to 0.00693 it decays to approx 0.5 in 100 steps because (1- 0.00693)^100 is 0.4988.\n",
        "\n",
        "The next two are the proportion (or lower bound for the confidence interval) of target/seen for both \"incl\" and \"succ\" as explained above.\n",
        "\n",
        "The lift is the quotient of the two and can be log transformed depending on the argument `log_lift`.\n",
        "\n",
        "And the final score is the product `edf*prop_incl*lift`.\n",
        "\n",
        "This score is used by a greedy algorithm to select the codes that are considered for inclusion in decreasing score order."
      ]
    },
    {
      "cell_type": "markdown",
      "id": "ba6942ed-9cc5-4b48-a66c-c2fc32f5428c",
      "metadata": {
        "id": "ba6942ed-9cc5-4b48-a66c-c2fc32f5428c"
      },
      "source": [
        "### Including/excluding codes\n",
        "\n",
        "We can use this dataset to manually include and exclude. Let's suppose we want all the codes with more than 100 targets included so that we don't risk leaving them out.\n",
        "We may also want to exclude every code that has never been part of a target. "
      ]
    },
    {
      "cell_type": "code",
      "execution_count": 24,
      "id": "abc497e6-1244-4b55-8aff-0d9e969ae636",
      "metadata": {
        "id": "abc497e6-1244-4b55-8aff-0d9e969ae636"
      },
      "outputs": [],
      "source": [
        "include = ','.join([str(x) for x in top.loc[top['n_incl_target'] > 100, 'code']])"
      ]
    },
    {
      "cell_type": "code",
      "execution_count": 25,
      "id": "e2442e90-12ce-407a-a07a-00d5adc36399",
      "metadata": {
        "id": "e2442e90-12ce-407a-a07a-00d5adc36399"
      },
      "outputs": [],
      "source": [
        "exclude = ','.join([str(x) for x in top.loc[top['n_incl_target'] < 1, 'code']])"
      ]
    },
    {
      "cell_type": "markdown",
      "id": "6abb0cd4-d251-48d4-bc65-19159921c2dc",
      "metadata": {
        "id": "6abb0cd4-d251-48d4-bc65-19159921c2dc"
      },
      "source": [
        "<div class=\"alert alert-block alert-warning\">\n",
        "<b>Important:</b> Make sure you only pass comma separated strings of integers to the arguments <b>force_include</b> and <b>force_exclude</b>. A wrong type may crash your program."
      ]
    },
    {
      "cell_type": "markdown",
      "id": "08e73339-5a26-419a-9b80-ed04cb1b4559",
      "metadata": {
        "id": "08e73339-5a26-419a-9b80-ed04cb1b4559"
      },
      "source": [
        "Again, we make a copy and work with the copy since we don't want to modify `events` and the previous `events_copy` has been modified."
      ]
    },
    {
      "cell_type": "code",
      "execution_count": 26,
      "id": "3cd265ec-49a8-4fc9-9130-15c3fafde434",
      "metadata": {
        "id": "3cd265ec-49a8-4fc9-9130-15c3fafde434"
      },
      "outputs": [],
      "source": [
        "events_copy = events.copy()"
      ]
    },
    {
      "cell_type": "markdown",
      "id": "5168d949-3c62-4ab8-a215-edf742a3fefc",
      "metadata": {
        "id": "5168d949-3c62-4ab8-a215-edf742a3fefc"
      },
      "source": [
        "And we call `optimize_events()` again. This time with the included and excluded codes, 20 steps and trying to introduce 4 codes at each step. We leave the default arguments but set threshold to zero to accept any new code that results in improvement no matter how small."
      ]
    },
    {
      "cell_type": "code",
      "execution_count": 27,
      "id": "a96d4e0f-c59f-4110-8448-4eaaee46c8fd",
      "metadata": {
        "id": "a96d4e0f-c59f-4110-8448-4eaaee46c8fd"
      },
      "outputs": [],
      "source": [
        "success, dictionary, top_codes, log = events_copy.optimize_events(train_clips, targets, num_steps = 20, codes_per_step = 4, \n",
        "                                                                  force_include = include, force_exclude = exclude, threshold = 0, lower_bound_p = 0)"
      ]
    },
    {
      "cell_type": "code",
      "execution_count": 28,
      "id": "4252d68a-d0d3-4601-b9d9-a37fd4ee286d",
      "metadata": {
        "id": "4252d68a-d0d3-4601-b9d9-a37fd4ee286d"
      },
      "outputs": [],
      "source": [
        "assert success"
      ]
    },
    {
      "cell_type": "code",
      "execution_count": 29,
      "id": "df2d5ad3-2b31-4dc5-b72e-4df98ce26991",
      "metadata": {
        "tags": [],
        "colab": {
          "base_uri": "https://localhost:8080/"
        },
        "id": "df2d5ad3-2b31-4dc5-b72e-4df98ce26991",
        "outputId": "ece37e6a-df3f-4d55-fd54-677d36acf720"
      },
      "outputs": [
        {
          "output_type": "stream",
          "name": "stdout",
          "text": [
            "Preprocessing:\n",
            "\n",
            "  1855 codes found in clips.\n",
            "  134 codes removed from internal EventMap.\n",
            "  Current score = 0.882513\n",
            "\n",
            "Step 1 of 20\n",
            "\n",
            "  Trying:\n",
            "    Code 1753 as 32\n",
            "    Code 1132 as 33\n",
            "    Code 1376 as 34\n",
            "    Code 1474 as 35\n",
            "    ---------------\n",
            "    Score = 0.762457\n",
            "    Best score so far.\n",
            "\n",
            "Step 2 of 20\n",
            "\n",
            "  Trying:\n",
            "    Code 967 as 36\n",
            "    Code 1140 as 37\n",
            "    Code 1410 as 38\n",
            "    Code 1787 as 39\n",
            "    ---------------\n",
            "    Score = 0.772460\n",
            "    Best score so far.\n",
            "\n",
            "Step 3 of 20\n",
            "\n",
            "  Trying:\n",
            "    Code 746 was excluded by the caller\n",
            "    Code 1385 as 40\n",
            "    Code 436 was excluded by the caller\n",
            "    Code 1650 as 41\n",
            "    Code 1089 as 42\n",
            "    Code 1413 as 43\n",
            "    ---------------\n",
            "    Score = 0.774963\n",
            "    Best score so far.\n",
            "\n",
            "Step 4 of 20\n",
            "\n",
            "  Trying:\n",
            "    Code 1598 as 44\n",
            "    Code 268 was excluded by the caller\n",
            "    Code 637 was excluded by the caller\n",
            "    Code 1355 as 45\n",
            "    Code 753 as 46\n",
            "    Code 1297 as 47\n",
            "    ---------------\n",
            "    Score = 0.779965\n",
            "    Best score so far.\n",
            "\n",
            "Step 5 of 20\n",
            "\n",
            "  Trying:\n",
            "    Code 369 was excluded by the caller\n",
            "    Code 1375 as 48\n",
            "    Code 1131 as 49\n",
            "    Code 368 was excluded by the caller\n",
            "    Code 1704 as 50\n",
            "    Code 1088 as 51\n",
            "    ---------------\n",
            "    Score = 0.782467\n",
            "    Best score so far.\n",
            "\n",
            "Step 6 of 20\n",
            "\n",
            "  Trying:\n",
            "    Code 1646 as 52\n",
            "    Code 1374 as 53\n",
            "    Code 1597 as 54\n",
            "    Code 1608 as 55\n",
            "    ---------------\n",
            "    Score = 0.787470\n",
            "    Best score so far.\n",
            "\n",
            "Step 7 of 20\n",
            "\n",
            "  Trying:\n",
            "    Code 1703 as 56\n",
            "    Code 1596 as 57\n",
            "    Code 754 was excluded by the caller\n",
            "    Code 1599 as 58\n",
            "    Code 1607 as 59\n",
            "    ---------------\n",
            "    Score = 0.787470\n",
            "    Best score so far.\n",
            "\n",
            "Step 8 of 20\n",
            "\n",
            "  Trying:\n",
            "    Code 1715 as 60\n",
            "    Code 910 as 61\n",
            "    Code 1171 as 62\n",
            "    Code 434 was excluded by the caller\n",
            "    Code 366 was excluded by the caller\n",
            "    Code 1003 as 63\n",
            "    ---------------\n",
            "    Score = 0.787470\n",
            "    Best score so far.\n",
            "\n",
            "Step 9 of 20\n",
            "\n",
            "  Trying:\n",
            "    Code 1606 as 64\n",
            "    Code 909 as 65\n",
            "    Code 1153 as 66\n",
            "    Code 1693 as 67\n",
            "    ---------------\n",
            "    Score = 0.789973\n",
            "    Best score so far.\n",
            "\n",
            "Step 10 of 20\n",
            "\n",
            "  Trying:\n",
            "    Code 1731 as 68\n",
            "    Code 874 as 69\n",
            "    Code 365 as 70\n",
            "    Code 1085 as 71\n",
            "    ---------------\n",
            "    Score = 0.789974\n",
            "    Best score so far.\n",
            "\n",
            "Step 11 of 20\n",
            "\n",
            "  Trying:\n",
            "    Code 1605 as 72\n",
            "    Code 1052 as 73\n",
            "    Code 908 as 74\n",
            "    Code 433 as 75\n",
            "    ---------------\n",
            "    Score = 0.792476\n",
            "    Best score so far.\n",
            "\n",
            "Step 12 of 20\n",
            "\n",
            "  Trying:\n",
            "    Code 367 as 76\n",
            "    Code 1507 as 77\n",
            "    Code 1165 as 78\n",
            "    Code 1155 as 79\n",
            "    ---------------\n",
            "    Score = 0.794969\n",
            "    Best score so far.\n",
            "\n",
            "Step 13 of 20\n",
            "\n",
            "  Trying:\n",
            "    Code 1087 as 80\n",
            "    Code 363 as 81\n",
            "    Code 1084 as 82\n",
            "    Code 544 was excluded by the caller\n",
            "    Code 1086 as 83\n",
            "    ---------------\n",
            "    Score = 0.794969\n",
            "    Best score so far.\n",
            "\n",
            "Step 14 of 20\n",
            "\n",
            "  Trying:\n",
            "    Code 1128 as 84\n",
            "    Code 872 as 85\n",
            "    Code 1164 as 86\n",
            "    Code 1678 as 87\n",
            "    ---------------\n",
            "    Score = 0.794969\n",
            "    Threshold (0.000000) not met (diff = -0.000000)\n",
            "\n",
            "Step 15 of 20\n",
            "\n",
            "  Trying:\n",
            "    Code 1050 as 88\n",
            "    Code 310 was excluded by the caller\n",
            "    Code 1619 as 89\n",
            "    Code 1855 as 90\n",
            "    Code 902 as 91\n",
            "    ---------------\n",
            "    Score = 0.794968\n",
            "    Threshold (0.000000) not met (diff = -0.000001)\n",
            "\n",
            "Step 16 of 20\n",
            "\n",
            "  Trying:\n",
            "    Code 516 was excluded by the caller\n",
            "    Code 948 as 92\n",
            "    Code 362 as 93\n",
            "    Code 1752 as 94\n",
            "    Code 1296 as 95\n",
            "    ---------------\n",
            "    Score = 0.792477\n",
            "    Threshold (0.000000) not met (diff = -0.002493)\n",
            "\n",
            "Step 17 of 20\n",
            "\n",
            "  Trying:\n",
            "    Code 364 was excluded by the caller\n",
            "    Code 1618 as 96\n",
            "    Code 1170 as 97\n",
            "    Code 1786 as 98\n",
            "    Code 515 was excluded by the caller\n",
            "    Code 1295 as 99\n",
            "    ---------------\n",
            "    Score = 0.794969\n",
            "    Best score so far.\n",
            "\n",
            "Step 18 of 20\n",
            "\n",
            "  Trying:\n",
            "    Code 1049 as 100\n",
            "    Code 901 as 101\n",
            "    Code 1760 as 102\n",
            "    Code 1506 as 103\n",
            "    ---------------\n",
            "    Score = 0.794969\n",
            "    Best score so far.\n",
            "\n",
            "Step 19 of 20\n",
            "\n",
            "  Trying:\n",
            "    Code 491 as 104\n",
            "    Code 766 as 105\n",
            "    Code 1505 as 106\n",
            "    Code 1504 as 107\n",
            "    ---------------\n",
            "    Score = 0.794969\n",
            "    Best score so far.\n",
            "\n",
            "Step 20 of 20\n",
            "\n",
            "  Trying:\n",
            "    Code 1152 as 108\n",
            "    Code 1702 as 109\n",
            "    Code 1470 as 110\n",
            "    Code 1083 as 111\n",
            "    ---------------\n",
            "    Score = 0.794969\n",
            "    Best score so far.\n",
            "\n",
            "== F I N A L ==\n",
            "\n",
            "  Final score      = 0.794969\n"
          ]
        }
      ],
      "source": [
        "print(log)"
      ]
    },
    {
      "cell_type": "markdown",
      "id": "2aa4a01b-7d8a-46fb-b682-e286457d9f40",
      "metadata": {
        "id": "2aa4a01b-7d8a-46fb-b682-e286457d9f40"
      },
      "source": [
        "### How to apply the dictionary\n",
        "\n",
        "For the sake of this tutorial, we have obtained a dictionary that provides improvement. Of course, in a real case we can iterate and try different things combining the business insight provided by the description with the empirical data from the tree until we get our best results.\n",
        "\n",
        "At the moment, `events_copy` is already optimized and could be used. \n",
        "\n",
        "An alternative method is creating one by copying the original `events` and providing the dictionary to the `copy()` method."
      ]
    },
    {
      "cell_type": "code",
      "execution_count": 30,
      "id": "8e1128ec-bfe6-483e-9f34-20a56688e5f8",
      "metadata": {
        "id": "8e1128ec-bfe6-483e-9f34-20a56688e5f8"
      },
      "outputs": [],
      "source": [
        "op_events = events.copy(dictionary)"
      ]
    },
    {
      "cell_type": "markdown",
      "id": "de3f0f0c-459e-4eca-b746-42e76cee38e2",
      "metadata": {
        "id": "de3f0f0c-459e-4eca-b746-42e76cee38e2"
      },
      "source": [
        "And we use this `op_events` to create new clips and fit a new model."
      ]
    },
    {
      "cell_type": "code",
      "execution_count": 31,
      "id": "4864fc4f-a7b8-461e-bbab-6d4d93ec3b6c",
      "metadata": {
        "colab": {
          "base_uri": "https://localhost:8080/"
        },
        "id": "4864fc4f-a7b8-461e-bbab-6d4d93ec3b6c",
        "outputId": "bba3579e-2fd5-429f-ace6-4741bf4575df"
      },
      "outputs": [
        {
          "output_type": "execute_result",
          "data": {
            "text/plain": [
              "reels.Clips object with 4130 clips totalling 138702 events"
            ]
          },
          "metadata": {},
          "execution_count": 31
        }
      ],
      "source": [
        "train_clips = reels.Clips(clients, op_events)\n",
        "intake_train.scan_events(train_clips)\n",
        "\n",
        "train_clips"
      ]
    },
    {
      "cell_type": "markdown",
      "id": "68594a86-5999-49e5-9667-e0d3c47dc9b0",
      "metadata": {
        "id": "68594a86-5999-49e5-9667-e0d3c47dc9b0"
      },
      "source": [
        "</br>"
      ]
    },
    {
      "cell_type": "code",
      "execution_count": 32,
      "id": "4476e713-f026-41fe-8941-9fb7b919bb44",
      "metadata": {
        "colab": {
          "base_uri": "https://localhost:8080/"
        },
        "id": "4476e713-f026-41fe-8941-9fb7b919bb44",
        "outputId": "2331c9f3-b4f6-4a68-f13f-5a82879d3447"
      },
      "outputs": [
        {
          "output_type": "execute_result",
          "data": {
            "text/plain": [
              "reels.Targets object with 4130 clips\n",
              "\n",
              "Has 400 targets.\n",
              "\n",
              "Is fitted with 4127 clips."
            ]
          },
          "metadata": {},
          "execution_count": 32
        }
      ],
      "source": [
        "targets = reels.Targets(train_clips)\n",
        "intake_train_targs.insert_targets(targets)\n",
        "targets.fit(agg = 'longest', depth = 100, as_states = True)\n",
        "\n",
        "targets"
      ]
    },
    {
      "cell_type": "markdown",
      "id": "ffb47c88-2225-492a-8dc4-be8a373c7796",
      "metadata": {
        "id": "ffb47c88-2225-492a-8dc4-be8a373c7796"
      },
      "source": [
        "We can also check that the new tree has less nodes overall and many less with one visit."
      ]
    },
    {
      "cell_type": "code",
      "execution_count": 33,
      "id": "a4299cb5-4fbe-4728-9a1b-c52628866419",
      "metadata": {
        "colab": {
          "base_uri": "https://localhost:8080/"
        },
        "id": "a4299cb5-4fbe-4728-9a1b-c52628866419",
        "outputId": "c0b13d5e-5d25-4ea0-8dba-4738dce04b83"
      },
      "outputs": [
        {
          "output_type": "stream",
          "name": "stdout",
          "text": [
            "tree.size() : 58477\n",
            "\n",
            "num_of_nodes_with_zero_visits : 0\n",
            "num_of_no_targets_one_visit   : 46147\n",
            "num_of_has_target_one_visit   : 7027\n",
            "num_of_no_targets_more_visits : 4702\n",
            "num_of_has_target_more_visits : 601\n",
            "num_of_no_targets_final_node  : 2916\n",
            "num_of_has_target_final_node  : 325\n",
            "\n"
          ]
        }
      ],
      "source": [
        "print(targets.describe_tree())"
      ]
    },
    {
      "cell_type": "markdown",
      "id": "6a1266a4-61ef-441a-b521-b362992bab90",
      "metadata": {
        "id": "6a1266a4-61ef-441a-b521-b362992bab90"
      },
      "source": [
        "</br>"
      ]
    },
    {
      "cell_type": "code",
      "execution_count": 34,
      "id": "e12248d9-096e-4c84-9952-6592e48a8acf",
      "metadata": {
        "colab": {
          "base_uri": "https://localhost:8080/"
        },
        "id": "e12248d9-096e-4c84-9952-6592e48a8acf",
        "outputId": "a7ceef08-7fb0-4e66-a51a-cc028f053539"
      },
      "outputs": [
        {
          "output_type": "stream",
          "name": "stdout",
          "text": [
            "Pred     0    1\n",
            "Obs            \n",
            "0     3497  233\n",
            "1      228  172\n",
            "Accuracy: 0.888, precision: 0.425, f1-score: 0.427\n"
          ]
        }
      ],
      "source": [
        "analyze(targets, train_clips, train_targs)"
      ]
    },
    {
      "cell_type": "markdown",
      "id": "d82be988-e305-4742-ab66-bc6381f51cb8",
      "metadata": {
        "id": "d82be988-e305-4742-ab66-bc6381f51cb8"
      },
      "source": [
        "</br>"
      ]
    },
    {
      "cell_type": "code",
      "execution_count": 35,
      "id": "9ecb3852-c1ed-49f4-ab48-9f485e8ec5ec",
      "metadata": {
        "colab": {
          "base_uri": "https://localhost:8080/"
        },
        "id": "9ecb3852-c1ed-49f4-ab48-9f485e8ec5ec",
        "outputId": "df7f2965-77bd-46b6-feaa-81b641b9061b"
      },
      "outputs": [
        {
          "output_type": "execute_result",
          "data": {
            "text/plain": [
              "reels.Clips object with 1037 clips totalling 30276 events"
            ]
          },
          "metadata": {},
          "execution_count": 35
        }
      ],
      "source": [
        "test_clips = reels.Clips(clients, op_events)\n",
        "intake_test.scan_events(test_clips)\n",
        "test_clips"
      ]
    },
    {
      "cell_type": "markdown",
      "id": "5042fd9a-8ea9-4a41-883f-8c3067af7235",
      "metadata": {
        "id": "5042fd9a-8ea9-4a41-883f-8c3067af7235"
      },
      "source": [
        "<br/>"
      ]
    },
    {
      "cell_type": "code",
      "execution_count": 36,
      "id": "1f06842e-e68a-4d73-9464-501bcbc721be",
      "metadata": {
        "colab": {
          "base_uri": "https://localhost:8080/"
        },
        "id": "1f06842e-e68a-4d73-9464-501bcbc721be",
        "outputId": "3e9892e1-d19f-4c0b-f324-c4d7f51e1044"
      },
      "outputs": [
        {
          "output_type": "stream",
          "name": "stdout",
          "text": [
            "Pred    0   1\n",
            "Obs          \n",
            "0     858  79\n",
            "1      77  23\n",
            "Accuracy: 0.850, precision: 0.225, f1-score: 0.228\n"
          ]
        }
      ],
      "source": [
        "analyze(targets, test_clips, test_targs)"
      ]
    },
    {
      "cell_type": "markdown",
      "id": "b081eed3-0b3f-41f7-a69f-bbca9c932e85",
      "metadata": {
        "id": "b081eed3-0b3f-41f7-a69f-bbca9c932e85"
      },
      "source": [
        "<div class=\"alert alert-block alert-success\">\n",
        "<b>Note that:</b> The optimized model is smaller, builds a smaller tree and generalizes better on unseen data.\n",
        "</div>"
      ]
    }
  ],
  "metadata": {
    "kernelspec": {
      "display_name": "Python 3 (ipykernel)",
      "language": "python",
      "name": "python3"
    },
    "language_info": {
      "codemirror_mode": {
        "name": "ipython",
        "version": 3
      },
      "file_extension": ".py",
      "mimetype": "text/x-python",
      "name": "python",
      "nbconvert_exporter": "python",
      "pygments_lexer": "ipython3",
      "version": "3.10.6"
    },
    "colab": {
      "provenance": [],
      "include_colab_link": true
    }
  },
  "nbformat": 4,
  "nbformat_minor": 5
}